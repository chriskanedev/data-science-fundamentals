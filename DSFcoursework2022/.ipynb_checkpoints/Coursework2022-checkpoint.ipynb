{
 "cells": [
  {
   "cell_type": "markdown",
   "metadata": {},
   "source": [
    "### Assessed Coursework\n",
    "\n",
    "This assessed coursework makes up 15% of your final grade. There are a total of **60 marks**.\n",
    "\n",
    "## Autograder tests\n",
    "\n",
    "These coursework exercises will (mainly) be autograded via automatic tests.\n",
    "\n",
    "The following parts have some questions to answer, and some tests (which you cannot alter) which will be run against the code you have written. If the tests pass, you will see how many marks you got with a green tick. If they do not pass, you will see a red cross. To satisfy the test you **MUST** use the variable names instructed.\n",
    "\n",
    "## Vectorised calculations\n",
    "\n",
    "All calculations should be done **WITHOUT USING LOOPS** (i.e. `for` or `while`): vectorised calculations should be used instead."
   ]
  },
  {
   "cell_type": "code",
   "execution_count": 1,
   "metadata": {
    "editable": false
   },
   "outputs": [
    {
     "name": "stdout",
     "output_type": "stream",
     "text": [
      "Everything imported OK\n"
     ]
    },
    {
     "name": "stderr",
     "output_type": "stream",
     "text": [
      "/Users/ckane/opt/anaconda3/lib/python3.9/site-packages/IPython/kernel/__init__.py:12: ShimWarning: The `IPython.kernel` package has been deprecated since IPython 4.0.You should import from ipykernel or jupyter_client instead.\n",
      "  warn(\"The `IPython.kernel` package has been deprecated since IPython 4.0.\"\n"
     ]
    }
   ],
   "source": [
    "# Make sure you run this cell!\n",
    "\n",
    "from jhwutils.tick import reset_marks, summarise_marks, marks\n",
    "from jhwutils.checkarr import array_hash, check_hash\n",
    "import numpy as np  # NumPy\n",
    "from jhwutils.matrices import print_matrix, show_boxed_tensor_latex\n",
    "\n",
    "# NumPy\n",
    "import numpy as np  \n",
    "import binascii\n",
    "\n",
    "# Set up Matplotlib\n",
    "import matplotlib as mpl   \n",
    "import matplotlib.pyplot as plt\n",
    "%matplotlib inline\n",
    "plt.rc('figure', figsize=(8.0, 4.0), dpi=140)\n",
    "\n",
    "import jhwutils.image_audio as ia\n",
    "\n",
    "reset_marks()\n",
    "\n",
    "def case_crc(s):\n",
    "    h_crc =  binascii.crc32(bytes(s.lower(), 'ascii'))\n",
    "    print(h_crc)\n",
    "    return h_crc\n",
    "\n",
    "# ignore any warnings below, they don't affect the results\n",
    "print(\"Everything imported OK\")"
   ]
  },
  {
   "cell_type": "markdown",
   "metadata": {
    "editable": false
   },
   "source": [
    "## Image operations\n",
    "Images can be represented as numerical arrays. We will use images as an example to explore NumPy functionality.\n",
    "\n",
    "* `img = ia.load_image_colour('filename.png')` will load an image as an array.\n",
    "* `ia.show_image(img)` will show it in the notebook.\n"
   ]
  },
  {
   "cell_type": "markdown",
   "metadata": {
    "editable": false
   },
   "source": [
    "**Task 1:** Reading arrays\n",
    "\n",
    "* Load `data/Belle.jpg` as `img_array` \n",
    "* Print out its shape and dtype\n",
    "* Show the image."
   ]
  },
  {
   "cell_type": "code",
   "execution_count": null,
   "metadata": {
    "scrolled": true
   },
   "outputs": [],
   "source": [
    "########### YOUR ANSWER GOES HERE\n"
   ]
  },
  {
   "cell_type": "code",
   "execution_count": null,
   "metadata": {
    "editable": false
   },
   "outputs": [],
   "source": [
    "ia.show_image(img_array)\n",
    "with marks(2):\n",
    "    assert(check_hash(img_array, ((1333, 1000, 3), 3292019427589.6)))"
   ]
  },
  {
   "cell_type": "markdown",
   "metadata": {
    "editable": false
   },
   "source": [
    "**Task 2: Slicing arrays**\n",
    "\n",
    "* This photo is of my famiy's cat Belle\n",
    "* Belle is a primma donna so when her photos are shared on social media she likes them to be cropped to remove extra detail from the background and make it all about her!\n",
    "* Create an array `cropped` which has the pixels from [100,300] to [1050,750]. Note that these positions are in `[row, col]` format, not `[x,y]`.\n",
    "* Display the cropped array using `show_image()`. \n",
    "* Show the cropped image so you can see it."
   ]
  },
  {
   "cell_type": "code",
   "execution_count": null,
   "metadata": {},
   "outputs": [],
   "source": [
    "##### YOUR SOLUTION HERE #####\n"
   ]
  },
  {
   "cell_type": "code",
   "execution_count": null,
   "metadata": {
    "editable": false
   },
   "outputs": [],
   "source": [
    "ia.show_image(cropped)\n",
    "with marks(2):\n",
    "    assert(check_hash(cropped, ((950, 450, 3), 194237516707.641)))"
   ]
  },
  {
   "cell_type": "markdown",
   "metadata": {},
   "source": [
    "Task 3:  **Modifying arrays**\n",
    "\n",
    "Belle recently had an injury to her chest, which resulted in her having to be shaved and have stitches. Although her hair is now grown back she is still shy about anybody seeing her chest. To allow me to share this photo on social media, create an array \"censored\" which is the same as `cropped`, but has a black box across the following region to protect Belle's privacy:\n",
    "\n",
    "    * [400,100] -> [600, 250]\n",
    "\n",
    "Setting array elements to zero will make them black.\n",
    "\n",
    "**Do not modify the original `img_array`**"
   ]
  },
  {
   "cell_type": "code",
   "execution_count": null,
   "metadata": {},
   "outputs": [],
   "source": [
    "##### YOUR SOLUTION HERE #####\n"
   ]
  },
  {
   "cell_type": "code",
   "execution_count": null,
   "metadata": {
    "editable": false
   },
   "outputs": [],
   "source": [
    "### print(\"2 tests here to ensure instructions were followed!\")\n",
    "\n",
    "with marks(3):\n",
    "    assert(check_hash(censored, ((950, 450, 3), 185547122562.073)))\n",
    "ia.show_image(censored)\n",
    "with marks(3):\n",
    "    assert(check_hash(cropped, ((950, 450, 3), 194237516707.641)))\n",
    "ia.show_image(cropped)"
   ]
  },
  {
   "cell_type": "markdown",
   "metadata": {},
   "source": [
    "Task 4: **Matrix**\n",
    "\n",
    "Define the following matrix\n",
    "\n",
    "$$\n",
    "\\begin{matrix}\n",
    "1 & 2 & 5 & 4\\\\\n",
    "6 & 9 & 4 & 1\\\\\n",
    "5 & 7 & 3 & 1\\\\\n",
    "5 & 6 & 2 & 2\n",
    "\\end{matrix}$$\n",
    "\n",
    "stored in a numpy array called `matrix`"
   ]
  },
  {
   "cell_type": "code",
   "execution_count": null,
   "metadata": {},
   "outputs": [],
   "source": [
    "##### YOUR SOLUTION HERE #####\n"
   ]
  },
  {
   "cell_type": "code",
   "execution_count": null,
   "metadata": {
    "editable": false
   },
   "outputs": [],
   "source": [
    "with marks(1):\n",
    "    assert(check_hash(matrix, ((4, 4), 547.2415385738958)))"
   ]
  },
  {
   "cell_type": "markdown",
   "metadata": {},
   "source": [
    "Task 5: **Eigen problem**\n",
    "\n",
    "Calculate the eigenvalues and eigen vectors of `matrix` and store them in `eigen`"
   ]
  },
  {
   "cell_type": "code",
   "execution_count": null,
   "metadata": {},
   "outputs": [],
   "source": [
    "##### YOUR SOLUTION HERE #####\n"
   ]
  },
  {
   "cell_type": "code",
   "execution_count": null,
   "metadata": {
    "editable": false
   },
   "outputs": [],
   "source": [
    "with marks(1):\n",
    "    assert(check_hash(eigen[0], ((4,), 40.91377718641574)))\n",
    "    \n",
    "with marks(2):\n",
    "    assert(check_hash(eigen[1], ((4, 4), 14.71076587683482)))"
   ]
  },
  {
   "cell_type": "markdown",
   "metadata": {},
   "source": [
    "Task 6: **Centre on origin**\n",
    "\n",
    "`matrix` represents a collection of vectors of points in 4D space. Calculate `mean_vec` the mean of these 4 vectors. Use `mean_vec` to centre the matrix on the origin, storing the result in `centred_mat`. Confirm that the mean of `centred_mat` is the origin and store this mean in `centred_mean`."
   ]
  },
  {
   "cell_type": "code",
   "execution_count": null,
   "metadata": {},
   "outputs": [],
   "source": [
    "##### YOUR SOLUTION HERE #####\n"
   ]
  },
  {
   "cell_type": "code",
   "execution_count": null,
   "metadata": {
    "editable": false
   },
   "outputs": [],
   "source": [
    "with marks(1):\n",
    "    assert(check_hash(mean_vec, ((4,), 52.00271482772536)))\n",
    "    \n",
    "with marks(2):\n",
    "    assert(check_hash(centre_mat, ((4, 4), 11.04843682124227)))\n",
    "    \n",
    "with marks(1):\n",
    "    assert(check_hash(centre_mean, ((4, ), 0.)))"
   ]
  },
  {
   "cell_type": "markdown",
   "metadata": {},
   "source": [
    "Task 7: **Inner product**\n",
    "\n",
    "Calculate the inner product of the vectors **`x`**` = [8.26, 9.32, 2.57, 7.26, 3.33]` and **`y`**` = [17.34, 7.11, 3.34, 7.87, 1.23]`. Store the result in `inner`. "
   ]
  },
  {
   "cell_type": "code",
   "execution_count": null,
   "metadata": {},
   "outputs": [],
   "source": [
    "##### YOUR SOLUTION HERE #####\n"
   ]
  },
  {
   "cell_type": "code",
   "execution_count": null,
   "metadata": {
    "editable": false
   },
   "outputs": [],
   "source": [
    "with marks(2):\n",
    "    assert(check_hash(inner, ((), 1396.5475000000001)))"
   ]
  },
  {
   "cell_type": "markdown",
   "metadata": {},
   "source": [
    "Task 8: **Angle between vectors**\n",
    "\n",
    "calculate the angle between **`x`** and **`y`** and store the angle in degrees in `deg`"
   ]
  },
  {
   "cell_type": "code",
   "execution_count": null,
   "metadata": {},
   "outputs": [],
   "source": [
    "##### YOUR SOLUTION HERE #####\n"
   ]
  },
  {
   "cell_type": "code",
   "execution_count": null,
   "metadata": {
    "editable": false
   },
   "outputs": [],
   "source": [
    "with marks(2):\n",
    "    assert(check_hash(deg, ((), 128.30919159596243)))"
   ]
  },
  {
   "cell_type": "markdown",
   "metadata": {},
   "source": [
    "Task 9: **Working with tensors**\n",
    "\n",
    "The file `data/font_sheet.png` contains a number of characters in different fonts. It is an image which consists of the images of each *printable* ASCII character, (characters 32-128) arranged left to right. Each character image is precisely square. \n",
    "\n",
    "These are the characters present, in order:"
   ]
  },
  {
   "cell_type": "code",
   "execution_count": null,
   "metadata": {
    "editable": false
   },
   "outputs": [],
   "source": [
    "chars = \"\".join([chr(i) for i in range(32,128)])\n",
    "print(chars)"
   ]
  },
  {
   "cell_type": "markdown",
   "metadata": {},
   "source": [
    "Each font is also stacked left to right, so the image is one *very* long strip of characters. The image is grayscale."
   ]
  },
  {
   "cell_type": "code",
   "execution_count": null,
   "metadata": {
    "editable": false
   },
   "outputs": [],
   "source": [
    "# show a portion of the image\n",
    "all_fonts = ia.load_image_gray(\"data/font_sheet.png\")\n",
    "print(all_fonts.shape)\n",
    "ia.show_image(all_fonts[64:128, 1024:1088])"
   ]
  },
  {
   "cell_type": "markdown",
   "metadata": {},
   "source": [
    "Rearrange the image into a tensor called `font_sheet` that is ordered like this:\n",
    "\n",
    "        (font, character, rows, cols)\n",
    "        \n",
    "* Showing the image `font_sheet[16, 33, :, :]` should show the \"A\" character of the 17th font.\n",
    "* Showing the image `font_sheet[10, 1, :, :]` should be the \"!\" character of the 11th font."
   ]
  },
  {
   "cell_type": "code",
   "execution_count": null,
   "metadata": {
    "editable": false
   },
   "outputs": [],
   "source": [
    "## hint\n",
    "from jhwutils.matrices import show_boxed_tensor_latex\n",
    "n = np.arange(64).reshape(8, 8)\n",
    "show_boxed_tensor_latex(n, box_rows=False)\n",
    "show_boxed_tensor_latex(n.reshape(4,4,2,2), box_rows=False)\n"
   ]
  },
  {
   "cell_type": "code",
   "execution_count": null,
   "metadata": {},
   "outputs": [],
   "source": [
    "##### YOUR SOLUTION HERE #####\n"
   ]
  },
  {
   "cell_type": "code",
   "execution_count": null,
   "metadata": {
    "editable": false
   },
   "outputs": [],
   "source": [
    "# if your code worked, you should see a gif of letters below\n",
    "ia.show_gif(font_sheet[8, 33:33+26, :, :], width=\"20%\")\n"
   ]
  },
  {
   "cell_type": "code",
   "execution_count": null,
   "metadata": {
    "editable": false
   },
   "outputs": [],
   "source": [
    "# test shape is correct\n",
    "with marks(6):        \n",
    "    assert(check_hash(font_sheet.shape, ((4,), 944.9499472573252)))\n",
    "# test content is ok\n",
    "with marks(10):    \n",
    "    assert(np.allclose(array_hash(font_sheet)[1], 55441039333148.88, atol=1e-2, rtol=1e-2)) "
   ]
  },
  {
   "cell_type": "markdown",
   "metadata": {},
   "source": [
    "Task 10: **Producing appropriate visualisations**\n",
    "\n",
    "Here we will be using data on recent earthquakes in California. \n",
    "\n",
    "This data set is in the file `data/earthquakes.txt`.\n",
    "\n",
    "### The task\n",
    "The data is a 2D array, and has six columns, with these definitions:\n",
    "            \n",
    "         0             1              2              3               4              5\n",
    "    Magnitude | Date(DDMMYYYY) | Time(HHMM) | Latitude(deg N) | Longitude(deg W) | Depth(km)\n",
    "    \n",
    "Each row represents one set of observations (i.e. one earthquake). \n",
    "\n",
    "A. **Loading arrays** \n",
    "* Load this data as a NumPy array called `quakes`. Note: use NumPy functions to do this! **Do not parse the file yourself** The file is space delimited.\n",
    "* Print it out. Use this format to print out the results:\n",
    "    \n",
    "      print(\"quakes\\n\", quakes)"
   ]
  },
  {
   "cell_type": "code",
   "execution_count": 1,
   "metadata": {},
   "outputs": [],
   "source": [
    "# YOUR CODE HERE\n"
   ]
  },
  {
   "cell_type": "code",
   "execution_count": null,
   "metadata": {
    "editable": false,
    "nbgrader": {
     "cell_type": "code",
     "checksum": "ad5236d9ba89f79a7c73da87680821e8",
     "grade": true,
     "grade_id": "cell-d7f4d07872174036",
     "locked": true,
     "points": 2,
     "schema_version": 3,
     "solution": false
    }
   },
   "outputs": [],
   "source": [
    "with marks(2):\n",
    "    assert(check_hash(quakes, ((849, 6), 8635575722872.79)))"
   ]
  },
  {
   "cell_type": "markdown",
   "metadata": {},
   "source": [
    "B. **Visualising data**\n",
    "\n",
    "Produce a visualisation of this data using the latitude, longitude and magnitude columns. The result should be a 2D plot that shows the location and magnitude of the earthquakes: you should choose some appropriate way to present 3 dimensions of data in a 2D plot.\n",
    "\n",
    "One point to note is that the longitude is given in degrees west. If you use these values without adjustment the plot will appear the \"wrong way round\" (on maps locations further west are further to the left) so you should make an adjustment to take account of that.\n",
    "\n",
    "**Since there is not one correct way to produce this chart this question cannot be autograded and it is not \"all or nothing\" like the other questions here. There are a total of 20 marks available, though answers that do not meet all of the requirements of a good scientific figure will be graded proportionately.**"
   ]
  },
  {
   "cell_type": "code",
   "execution_count": null,
   "metadata": {},
   "outputs": [],
   "source": [
    "# YOUR CODE HERE\n"
   ]
  }
 ],
 "metadata": {
  "celltoolbar": "Edit Metadata",
  "kernelspec": {
   "display_name": "Python 3 (ipykernel)",
   "language": "python",
   "name": "python3"
  },
  "language_info": {
   "codemirror_mode": {
    "name": "ipython",
    "version": 3
   },
   "file_extension": ".py",
   "mimetype": "text/x-python",
   "name": "python",
   "nbconvert_exporter": "python",
   "pygments_lexer": "ipython3",
   "version": "3.9.7"
  }
 },
 "nbformat": 4,
 "nbformat_minor": 4
}

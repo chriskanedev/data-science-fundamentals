{
 "cells": [
  {
   "cell_type": "markdown",
   "metadata": {},
   "source": [
    "# Data Science Fundamentals\n",
    "Session 2020/2021\n"
   ]
  },
  {
   "cell_type": "markdown",
   "metadata": {},
   "source": [
    "---"
   ]
  },
  {
   "cell_type": "markdown",
   "metadata": {},
   "source": [
    "\n",
    "# Lab 1\n",
    "## Introduction to Juypter, Python and Numpy\n",
    "<div class=\"alert alert-block alert-success\">\n",
    "\n",
    "\n",
    "# Unassessed\n",
    "\n",
    "</div>\n",
    "\n"
   ]
  },
  {
   "cell_type": "markdown",
   "metadata": {},
   "source": [
    "This lab is intended to introduce you to the basic use of the Juypter+Python+Numpy environment, and show how the autograding in exercises works. When you complete this exercise, you will submit it on Moodle. You will get a mark, but this **will not count towards your final grade**. \n",
    "\n",
    "It is strongly recommended that you complete this exercise fully. This will take around two hours if you already know some NumPy.\n",
    "\n",
    "\n",
    "## Purpose of this lab\n",
    "This lab should help you:\n",
    "\n",
    "* create simple arrays\n",
    "* index and slice arrays\n",
    "* stack arrays together\n",
    "* compute simple statistics of arrays\n",
    "* understand array arithmetic and broadcasting rules"
   ]
  },
  {
   "cell_type": "markdown",
   "metadata": {},
   "source": [
    "\n",
    "\n",
    "# 1: Jupyter\n",
    "For those that said they've not used Jupuyter used Jupyter before [Jupyter Quickstart](guides/JupyterGuide.ipynb) is a useful introduction."
   ]
  },
  {
   "cell_type": "markdown",
   "metadata": {},
   "source": [
    "## 2: Autograder tests\n",
    "\n",
    "Lab exercises will (mainly) be autograded via automatic tests."
   ]
  },
  {
   "cell_type": "markdown",
   "metadata": {},
   "source": [
    "The following parts have some questions to answer, and some tests (which you cannot alter) which will be run against the code you have written. If the tests pass, you will see how many marks you got with a green tick. If they do not pass, you will see a red cross. Remember, this exercise doesn't count for anything, but do try to complete the exercises."
   ]
  },
  {
   "cell_type": "code",
   "execution_count": null,
   "metadata": {
    "ExecuteTime": {
     "end_time": "2020-09-28T12:38:27.586827Z",
     "start_time": "2020-09-28T12:38:25.966810Z"
    }
   },
   "outputs": [],
   "source": [
    "# Make sure you run this cell!\n",
    "\n",
    "from utils.tick import reset_marks, summarise_marks, marks\n",
    "from utils.checkarr import array_hash, check_hash\n",
    "import numpy as np  # NumPy\n",
    "from utils.matrices import print_matrix, show_boxed_tensor_latex\n",
    "\n",
    "# Set up Matplotlib\n",
    "import matplotlib as mpl   \n",
    "import matplotlib.pyplot as plt\n",
    "%matplotlib inline\n",
    "\n",
    "import utils.image_audio as ia\n",
    "\n",
    "reset_marks()\n",
    "print(\"Everything imported OK\")\n"
   ]
  },
  {
   "cell_type": "markdown",
   "metadata": {},
   "source": [
    "Here's a free 4 marks:"
   ]
  },
  {
   "cell_type": "code",
   "execution_count": null,
   "metadata": {
    "ExecuteTime": {
     "end_time": "2020-09-28T12:38:27.595610Z",
     "start_time": "2020-09-28T12:38:27.588780Z"
    },
    "deletable": false,
    "editable": false,
    "nbgrader": {
     "cell_type": "code",
     "checksum": "e97196e7fa3c3eb1440c4f0651b40613",
     "grade": true,
     "grade_id": "cell-b12d0a22c191c138",
     "locked": true,
     "points": 4,
     "schema_version": 3,
     "solution": false
    }
   },
   "outputs": [],
   "source": [
    "with marks(4):\n",
    "    print(\"Hello world\")"
   ]
  },
  {
   "cell_type": "markdown",
   "metadata": {},
   "source": [
    "And here's what happens when you have an error. Try setting `a` to 1, and making sure you can get this to pass. "
   ]
  },
  {
   "cell_type": "code",
   "execution_count": null,
   "metadata": {
    "ExecuteTime": {
     "end_time": "2020-09-28T12:38:27.610759Z",
     "start_time": "2020-09-28T12:38:27.597563Z"
    },
    "deletable": false,
    "nbgrader": {
     "cell_type": "code",
     "checksum": "4e9b30481bd737b0ef8d9084469747ac",
     "grade": false,
     "grade_id": "cell-3040ccf7669e107d",
     "locked": false,
     "schema_version": 3,
     "solution": true
    }
   },
   "outputs": [],
   "source": [
    "a = 2\n",
    "# YOUR CODE HERE"
   ]
  },
  {
   "cell_type": "code",
   "execution_count": null,
   "metadata": {
    "ExecuteTime": {
     "end_time": "2020-09-28T12:38:27.633714Z",
     "start_time": "2020-09-28T12:38:27.612256Z"
    },
    "deletable": false,
    "editable": false,
    "nbgrader": {
     "cell_type": "code",
     "checksum": "4afb7e95b6cd89b13d16b5213a1fe1df",
     "grade": true,
     "grade_id": "cell-221df43d91c7b63b",
     "locked": true,
     "points": 3,
     "schema_version": 3,
     "solution": false
    }
   },
   "outputs": [],
   "source": [
    "with marks(3):\n",
    "    assert(a==1)"
   ]
  },
  {
   "cell_type": "markdown",
   "metadata": {},
   "source": [
    "----------------\n"
   ]
  },
  {
   "cell_type": "markdown",
   "metadata": {},
   "source": [
    "# 4. Introduction to NumPy\n",
    "\n",
    "We will be using [numpy](numpy.org) as the basis for our numerical operations. This provides a datatype called `ndarray`, that can be used to store and manipulate arrays of numbers."
   ]
  },
  {
   "cell_type": "markdown",
   "metadata": {},
   "source": [
    "<div class=\"alert alert-block alert-warning\">\n",
    "    \n",
    "## NumPy worked example\n",
    "\n",
    "If you have not used NumPy before or if you are rusty **[then this example could be useful](guides/numpy_example.ipynb)** but I'd say make a start and only come back to this if the cheatsheets below aren't enough of an introduction.\n",
    "\n",
    "</div>\n",
    "\n",
    "---"
   ]
  },
  {
   "cell_type": "markdown",
   "metadata": {},
   "source": [
    "## References and cheat sheets\n",
    "\n",
    "If you are stuck, the following resources are very helpful:\n",
    "\n",
    "### Cheatsheets\n",
    "* [NumPy cheatsheet](https://github.com/juliangaal/python-cheat-sheet/blob/master/NumPy/NumPy.md)\n",
    "* [Python for Data Science cheatsheet](https://s3.amazonaws.com/assets.datacamp.com/blog_assets/PythonForDataScience.pdf)\n",
    "* [Another NumPy Cheatsheet](https://s3.amazonaws.com/assets.datacamp.com/blog_assets/Numpy_Python_Cheat_Sheet.pdf)\n",
    "\n",
    "### API reference and user guide\n",
    "* [NumPy API reference](https://docs.scipy.org/doc/numpy-1.13.0/reference/)\n",
    "* [NumPy user guide](https://docs.scipy.org/doc/numpy-1.13.0/user/basics.html)\n",
    "\n"
   ]
  },
  {
   "cell_type": "markdown",
   "metadata": {},
   "source": [
    "-----\n",
    "# NumPy\n",
    "\n",
    "The foundation package for numerical operations is **NumPy** which provides an array type and accelerated operations on it. \n",
    "\n",
    "A very important part of using numerical libraries like numpy is **vectorising operations**: avoiding explicit loops over values in the arrays and instead using library functions to do manipulations. It is *massively* faster to have numpy add to arrays together than to iterate over the elements adding them together in Python."
   ]
  },
  {
   "cell_type": "code",
   "execution_count": null,
   "metadata": {
    "ExecuteTime": {
     "end_time": "2020-09-28T12:38:28.643701Z",
     "start_time": "2020-09-28T12:38:28.637846Z"
    },
    "lines_to_next_cell": 2
   },
   "outputs": [],
   "source": [
    "a = np.zeros((5, 5))\n",
    "b = np.ones((5, 5))\n",
    "y = np.zeros((5, 5))\n",
    "\n",
    "# YES: do things like this\n",
    "# a and b are NumPy arrays\n",
    "x = a + b\n",
    "\n",
    "# NO: don't do this\n",
    "# this is very inefficient\n",
    "for i in range(a.shape[0]):\n",
    "    for j in range(a.shape[1]):\n",
    "        y[i, j] = a[i, j] + b[i, j]"
   ]
  },
  {
   "cell_type": "markdown",
   "metadata": {},
   "source": [
    "## No for loops (unless specified)\n",
    "In this lab **do not** use explicit loops, like `while` or `for`, unless the question explicitly asks you to. **In future labs you may need to use the occasional `for` loop**, but try and avoid them where possible."
   ]
  },
  {
   "cell_type": "markdown",
   "metadata": {},
   "source": [
    "NumPy provides the **np.array** class which is a n-dimensional array of numbers **of the same type**. Arrays can be created in several ways: from a Python list (and nD arrays from nested lists), as a \"blank\" matrix of zeros or ones or random data, by copying existing arrays, loaded from disk or from certain special functions.\n",
    "\n",
    "**You can always make a copy of an array using np.array() on an existing array** (e.g. `x = np.array(y)` makes a new **copy** of y). `np.array()` will also convert any iterable object (lists, tuples) into an array if it can. Note that a few operations will *change arrays in place*, and most will *return new copies*."
   ]
  },
  {
   "cell_type": "code",
   "execution_count": null,
   "metadata": {
    "ExecuteTime": {
     "end_time": "2020-09-28T12:38:29.906184Z",
     "start_time": "2020-09-28T12:38:29.899353Z"
    }
   },
   "outputs": [],
   "source": [
    "x = np.array([1.0, 2.0, 3.0, 4.0])  # create an array from a list\n",
    "print(x)  # print the array\n",
    "\n",
    "# print the matrix, but nicer (note: the first string is a LaTeX expression)\n",
    "print_matrix(\"x\", x)\n",
    "\n",
    "print(x.dtype)  # datatype\n",
    "print(x.shape)  # shape of array"
   ]
  },
  {
   "cell_type": "markdown",
   "metadata": {},
   "source": [
    "# 1: Create some arrays\n",
    "Create the following arrays, with the following specifications:\n",
    "(**don't** use `np.array` to do this). If you don't know how to do this,\n",
    "look at the worked example, or look at the cheatsheet or API reference.\n",
    "\n",
    "Use `np.zeros`, `np.ones`, `np.full`, `np.arange` and `np.random.normal` to solve these questions.\n",
    "\n",
    "* `x`: a 8 x 8 matrix of all zeros\n",
    "* `y`: a 2 element vector, with all elements equal to np.pi\n",
    "* `z`: a 1 x 2 x 5 element array of all ones.\n",
    "* `q`: an 1D array with 10 elements, from 0-18 (inclusive), stepping by 2. \n",
    "* `r`: an 400 element array, random numbers normally distributed with mean 0, std. dev. 1.0 **(don't print this one out)**\n",
    "\n",
    "Print out your arrays using `show_tensor_latex` to see if they look right.\n",
    "\n",
    "Check that the tests pass. "
   ]
  },
  {
   "cell_type": "code",
   "execution_count": null,
   "metadata": {
    "ExecuteTime": {
     "end_time": "2020-09-28T12:38:34.898104Z",
     "start_time": "2020-09-28T12:38:34.889320Z"
    },
    "deletable": false,
    "nbgrader": {
     "cell_type": "code",
     "checksum": "b1fb4c3624e6f876e85f1ef5ca373491",
     "grade": false,
     "grade_id": "cell-c190eec8e4831a17",
     "locked": false,
     "schema_version": 3,
     "solution": true
    }
   },
   "outputs": [],
   "source": [
    "# YOUR CODE HERE"
   ]
  },
  {
   "cell_type": "code",
   "execution_count": null,
   "metadata": {
    "ExecuteTime": {
     "end_time": "2020-09-28T12:38:36.837924Z",
     "start_time": "2020-09-28T12:38:36.832068Z"
    },
    "deletable": false,
    "editable": false,
    "nbgrader": {
     "cell_type": "code",
     "checksum": "782e35b48aaec16920eb6d7ba0b51b57",
     "grade": true,
     "grade_id": "cell-7a8e23b3cc2d7bea",
     "locked": true,
     "points": 1,
     "schema_version": 3,
     "solution": false
    }
   },
   "outputs": [],
   "source": [
    "with marks(1):\n",
    "    assert(check_hash(x,((8, 8), 0.0)))"
   ]
  },
  {
   "cell_type": "code",
   "execution_count": null,
   "metadata": {
    "ExecuteTime": {
     "end_time": "2020-09-28T12:38:37.418211Z",
     "start_time": "2020-09-28T12:38:37.412355Z"
    },
    "deletable": false,
    "editable": false,
    "nbgrader": {
     "cell_type": "code",
     "checksum": "db6d69b1a6e505b6ffdb0c9d6d1295d2",
     "grade": true,
     "grade_id": "cell-3eccab087d4c343c",
     "locked": true,
     "points": 1,
     "schema_version": 3,
     "solution": false
    }
   },
   "outputs": [],
   "source": [
    "with marks(1):\n",
    "    assert(check_hash(y, ((2,),  21.991148575128552)))"
   ]
  },
  {
   "cell_type": "code",
   "execution_count": null,
   "metadata": {
    "ExecuteTime": {
     "end_time": "2020-09-28T12:38:37.603687Z",
     "start_time": "2020-09-28T12:38:37.596856Z"
    },
    "deletable": false,
    "editable": false,
    "nbgrader": {
     "cell_type": "code",
     "checksum": "295ca3b0343ebfe6025dc1ed6b56c6ff",
     "grade": true,
     "grade_id": "cell-c3cd5694245364b2",
     "locked": true,
     "points": 1,
     "schema_version": 3,
     "solution": false
    }
   },
   "outputs": [],
   "source": [
    "with marks(1):\n",
    "    assert(check_hash(z, ((1, 2, 5), 59.0)))"
   ]
  },
  {
   "cell_type": "code",
   "execution_count": null,
   "metadata": {
    "ExecuteTime": {
     "end_time": "2020-09-28T12:38:37.938721Z",
     "start_time": "2020-09-28T12:38:37.933842Z"
    },
    "deletable": false,
    "editable": false,
    "nbgrader": {
     "cell_type": "code",
     "checksum": "81471ce90849af53865b260129e80657",
     "grade": true,
     "grade_id": "cell-f6fd4fc0f0e04fba",
     "locked": true,
     "points": 1,
     "schema_version": 3,
     "solution": false
    }
   },
   "outputs": [],
   "source": [
    "with marks(1):\n",
    "    assert(check_hash(q,((10,), 701.744562646538)))"
   ]
  },
  {
   "cell_type": "code",
   "execution_count": null,
   "metadata": {
    "ExecuteTime": {
     "end_time": "2020-09-28T12:38:38.291128Z",
     "start_time": "2020-09-28T12:38:38.285272Z"
    },
    "deletable": false,
    "editable": false,
    "nbgrader": {
     "cell_type": "code",
     "checksum": "24ce545cbd4b6184ef6c42da937859ac",
     "grade": true,
     "grade_id": "cell-8bc8bfb07bb942f3",
     "locked": true,
     "points": 1,
     "schema_version": 3,
     "solution": false
    }
   },
   "outputs": [],
   "source": [
    "with marks(1):\n",
    "    assert(r.shape==(400,)  and np.std(r)>0.75 and np.std(r)<1.5 and np.all(np.diff(r.ravel())!=0.0))"
   ]
  },
  {
   "cell_type": "markdown",
   "metadata": {},
   "source": [
    "## 2: How to keep snails alive\n",
    "\n",
    "<img src=\"imgs/snails.jpg\" width=\"50%\">*([Image](https://flickr.com/photos/chodhound/6083328289 \"Snail\") by [ChodHound](https://flickr.com/people/chodhound) license [CC BY-SA](https://creativecommons.org/licenses/by-sa/2.0/))*\n",
    "\n",
    "Scientists at the Zoology Department, The University of Adelaide have studied the best conditions to keep snails alive. They have recorded a dataset of observations of snail mortality under controlled conditions. This data set is in the file `data/snails.txt`.\n",
    "\n",
    "#### An excerpt from the data set description\n",
    "\n",
    "    \n",
    ">Groups of 20 snails were held for periods of 1, 2, 3 or 4 weeks in carefully\n",
    "controlled conditions of temperature and relative humidity. There were two\n",
    "species of snail, 0 and 1. At the end of the exposure time the snails\n",
    "were tested to see if they had survived. \n",
    "\n",
    ">The data are unusual in that in most cases fatalities during the experiment\n",
    "were fairly small. [lucky snails!]\n",
    "\n",
    "\n",
    "\n",
    "### The task\n",
    "The data is a 2D array, and has six columns, with these definitions:\n",
    "            \n",
    "            0              1                 2                3                 4          5\n",
    "     species(binary) | exposure(weeks) | humidity(%) | temperature(deg. C) | n_deaths | n_snails\n",
    "    \n",
    "Each row represents one set of observations (i.e. one group of snails). You are to compute some basic properties of this data. Use NumPy operations to do the computations."
   ]
  },
  {
   "cell_type": "markdown",
   "metadata": {},
   "source": [
    "A. **Loading arrays** \n",
    "* Load this data as a NumPy array called `snails`. Note: use NumPy functions to do this! **Do not parse the file yourself** The file is space delimited.\n",
    "* Print it out. Use this format to print out the results:\n",
    "    \n",
    "      print(\"snails\\n\", snails)"
   ]
  },
  {
   "cell_type": "code",
   "execution_count": null,
   "metadata": {
    "deletable": false,
    "nbgrader": {
     "cell_type": "code",
     "checksum": "e78328305e8ae4cf73bdfcbb79717614",
     "grade": false,
     "grade_id": "cell-6d0228523852fbcb",
     "locked": false,
     "schema_version": 3,
     "solution": true
    }
   },
   "outputs": [],
   "source": [
    "# YOUR CODE HERE"
   ]
  },
  {
   "cell_type": "code",
   "execution_count": null,
   "metadata": {
    "deletable": false,
    "editable": false,
    "nbgrader": {
     "cell_type": "code",
     "checksum": "ad5236d9ba89f79a7c73da87680821e8",
     "grade": true,
     "grade_id": "cell-d7f4d07872174036",
     "locked": true,
     "points": 2,
     "schema_version": 3,
     "solution": false
    }
   },
   "outputs": [],
   "source": [
    "with marks(2):\n",
    "    assert(check_hash(snails, ((96, 6), 3082003.4024073719)))"
   ]
  },
  {
   "cell_type": "markdown",
   "metadata": {},
   "source": [
    "B. **Basic indexing** \n",
    "Compute the following results, storing the results in the variable specified and printing them out. Use the same printing format as A.\n",
    "\n",
    "\n",
    "* `temp_first` the temperature in the first entry in the table. \n",
    "* `hum_diff` the *absolute* difference in humidity from the first to the last entry in the table.\n",
    "* `weeks` the whole column of \"weeks exposure\"."
   ]
  },
  {
   "cell_type": "code",
   "execution_count": null,
   "metadata": {
    "deletable": false,
    "nbgrader": {
     "cell_type": "code",
     "checksum": "a6f54581d2bcd31351e1c0d9bf236a57",
     "grade": false,
     "grade_id": "cell-17f2099d91b3038f",
     "locked": false,
     "schema_version": 3,
     "solution": true
    }
   },
   "outputs": [],
   "source": [
    "# YOUR CODE HERE"
   ]
  },
  {
   "cell_type": "code",
   "execution_count": null,
   "metadata": {
    "deletable": false,
    "editable": false,
    "nbgrader": {
     "cell_type": "code",
     "checksum": "1f6e0bfbafc850c3d0ef3d3308c64f69",
     "grade": true,
     "grade_id": "cell-3bd461f1be410f75",
     "locked": true,
     "points": 1,
     "schema_version": 3,
     "solution": false
    }
   },
   "outputs": [],
   "source": [
    "\n",
    "with marks(1):\n",
    "    assert(check_hash(hum_diff, ((), 78.9)))"
   ]
  },
  {
   "cell_type": "code",
   "execution_count": null,
   "metadata": {
    "deletable": false,
    "editable": false,
    "nbgrader": {
     "cell_type": "code",
     "checksum": "122054ec43e93851604df5d93a2614a4",
     "grade": true,
     "grade_id": "cell-590385cd63ae790d",
     "locked": true,
     "points": 1,
     "schema_version": 3,
     "solution": false
    }
   },
   "outputs": [],
   "source": [
    "with marks(1):\n",
    "    assert(check_hash(temp_first, ((), 50.0)))"
   ]
  },
  {
   "cell_type": "code",
   "execution_count": null,
   "metadata": {
    "deletable": false,
    "editable": false,
    "nbgrader": {
     "cell_type": "code",
     "checksum": "ee9ac2f87ff4f7134b0dd0ca4b6422f3",
     "grade": true,
     "grade_id": "cell-19028943888ae090",
     "locked": true,
     "points": 1,
     "schema_version": 3,
     "solution": false
    }
   },
   "outputs": [],
   "source": [
    "with marks(1):\n",
    "    assert(check_hash(weeks, ((96,), 13091.118033988751)))\n",
    "    "
   ]
  },
  {
   "cell_type": "markdown",
   "metadata": {},
   "source": [
    "C. **Aggregate functions** \n",
    "Compute the following results, storing the results in the variable specified and printing them out:\n",
    "\n",
    "* `total_deaths` total number of snails that died\n",
    "* `total_still_alive` total number of snails that survived the whole study\n",
    "* `mean_temp` mean temperature in the whole study\n",
    "* `max_humidity` highest humidity in the study\n",
    "\n",
    "Each computation should be a single line of code"
   ]
  },
  {
   "cell_type": "code",
   "execution_count": null,
   "metadata": {
    "deletable": false,
    "nbgrader": {
     "cell_type": "code",
     "checksum": "9fe2e79124934b57970dc4ee192c54f9",
     "grade": false,
     "grade_id": "cell-427021397b9a50b2",
     "locked": false,
     "schema_version": 3,
     "solution": true
    }
   },
   "outputs": [],
   "source": [
    "# YOUR CODE HERE"
   ]
  },
  {
   "cell_type": "code",
   "execution_count": null,
   "metadata": {
    "deletable": false,
    "editable": false,
    "nbgrader": {
     "cell_type": "code",
     "checksum": "bb333615ed50bb17dbd0d041de426156",
     "grade": true,
     "grade_id": "cell-12aba5ae7c698554",
     "locked": true,
     "points": 2,
     "schema_version": 3,
     "solution": false
    }
   },
   "outputs": [],
   "source": [
    "with marks(2):\n",
    "    assert(check_hash(total_deaths, ((), 1375.0)))\n",
    "    "
   ]
  },
  {
   "cell_type": "code",
   "execution_count": null,
   "metadata": {
    "deletable": false,
    "editable": false,
    "nbgrader": {
     "cell_type": "code",
     "checksum": "b34e288fada748a549fa1ee263640ce8",
     "grade": true,
     "grade_id": "cell-0799d88a4e889521",
     "locked": true,
     "points": 2,
     "schema_version": 3,
     "solution": false
    }
   },
   "outputs": [],
   "source": [
    "with marks(2):\n",
    "    assert(check_hash(total_still_alive, ((), 8225.0)))"
   ]
  },
  {
   "cell_type": "code",
   "execution_count": null,
   "metadata": {
    "deletable": false,
    "editable": false,
    "nbgrader": {
     "cell_type": "code",
     "checksum": "e6e28cbbd041f0641e1b60ea67b1eebc",
     "grade": true,
     "grade_id": "cell-e3030fa5597a6a3c",
     "locked": true,
     "points": 2,
     "schema_version": 3,
     "solution": false
    }
   },
   "outputs": [],
   "source": [
    "with marks(2):\n",
    "    assert(check_hash(mean_temp, ((), 75.0)))"
   ]
  },
  {
   "cell_type": "code",
   "execution_count": null,
   "metadata": {
    "deletable": false,
    "editable": false,
    "nbgrader": {
     "cell_type": "code",
     "checksum": "1c39202785960bf5793a09883d066d77",
     "grade": true,
     "grade_id": "cell-d7b5c4b686b8e185",
     "locked": true,
     "points": 2,
     "schema_version": 3,
     "solution": false
    }
   },
   "outputs": [],
   "source": [
    "\n",
    "with marks(2):\n",
    "    assert(check_hash(max_humidity, ((), 379.0)))"
   ]
  },
  {
   "cell_type": "markdown",
   "metadata": {},
   "source": [
    "D. **Boolean indexing**\n",
    "Compute the following results, storing the results in the variable specified and printing them out:\n",
    "\n",
    "* `species_0` and `species_1`: split the dataset into two arrays, one with the entries for species 0 and one with the entries for species 1."
   ]
  },
  {
   "cell_type": "code",
   "execution_count": null,
   "metadata": {
    "deletable": false,
    "nbgrader": {
     "cell_type": "code",
     "checksum": "23353a244442a9448a868a06d9fc5259",
     "grade": false,
     "grade_id": "cell-2fb2b916ca1d1254",
     "locked": false,
     "schema_version": 3,
     "solution": true
    }
   },
   "outputs": [],
   "source": [
    "# YOUR CODE HERE"
   ]
  },
  {
   "cell_type": "code",
   "execution_count": null,
   "metadata": {
    "deletable": false,
    "editable": false,
    "nbgrader": {
     "cell_type": "code",
     "checksum": "0fb4dbdbd0641f100df0d9962962c153",
     "grade": true,
     "grade_id": "cell-33631e32555140e0",
     "locked": true,
     "points": 5,
     "schema_version": 3,
     "solution": false
    }
   },
   "outputs": [],
   "source": [
    "with marks(5):\n",
    "    assert(check_hash(species_0, ((48, 6), 762041.58357993606)))\n",
    "    assert(check_hash(species_1, ((48, 6), 791902.31693958596)))  "
   ]
  },
  {
   "cell_type": "markdown",
   "metadata": {},
   "source": [
    "E. **Arithmetic and ordering**\n",
    "Compute the following results, storing the results in the variable specified and printing them out:\n",
    "\n",
    "* `deg_f` each temperature in the study, but in degrees Fahrenheit. Use the knowledge that `0C = 32F, 100C = 212F`\n",
    "* `mean_cols` the mean of all the columns, as a 1D vector\n",
    "* `death_rate` the death rates, in sorted order, smallest first\n",
    "* `best_temp`, `best_hum` the best temperature and humidity to keep a snail for four weeks without it dying. *Look only at the four week exposures, ignoring snails kept for less than this time.* "
   ]
  },
  {
   "cell_type": "code",
   "execution_count": null,
   "metadata": {
    "deletable": false,
    "nbgrader": {
     "cell_type": "code",
     "checksum": "b044f91be862b5819ab6923507918aae",
     "grade": false,
     "grade_id": "cell-965b0640474113ac",
     "locked": false,
     "schema_version": 3,
     "solution": true
    }
   },
   "outputs": [],
   "source": [
    "# YOUR CODE HERE"
   ]
  },
  {
   "cell_type": "code",
   "execution_count": null,
   "metadata": {
    "deletable": false,
    "editable": false,
    "nbgrader": {
     "cell_type": "code",
     "checksum": "e3f4d52aead096bf2dad8758c59aef70",
     "grade": true,
     "grade_id": "cell-9aca90f5ed692ce6",
     "locked": true,
     "points": 1,
     "schema_version": 3,
     "solution": false
    }
   },
   "outputs": [],
   "source": [
    "with marks(1):\n",
    "    assert(check_hash(deg_f, ((96,), 275523.34846922837)))"
   ]
  },
  {
   "cell_type": "code",
   "execution_count": null,
   "metadata": {
    "deletable": false,
    "editable": false,
    "nbgrader": {
     "cell_type": "code",
     "checksum": "aad6818604c1ebfc5aa3b31b0decdc1e",
     "grade": true,
     "grade_id": "cell-7d0f86f908ce2a87",
     "locked": true,
     "points": 1,
     "schema_version": 3,
     "solution": false
    }
   },
   "outputs": [],
   "source": [
    "with marks(1):\n",
    "    assert(check_hash(mean_cols, ((6,), 522.92336963727359)))"
   ]
  },
  {
   "cell_type": "code",
   "execution_count": null,
   "metadata": {
    "deletable": false,
    "editable": false,
    "nbgrader": {
     "cell_type": "code",
     "checksum": "546d0afa5c19e36b867519fd485edebd",
     "grade": true,
     "grade_id": "cell-e8a171753a823a96",
     "locked": true,
     "points": 2,
     "schema_version": 3,
     "solution": false
    }
   },
   "outputs": [],
   "source": [
    "with marks(2):\n",
    "    assert(check_hash(death_rate, ((96,), 1100.9803982902313)))"
   ]
  },
  {
   "cell_type": "code",
   "execution_count": null,
   "metadata": {
    "deletable": false,
    "editable": false,
    "nbgrader": {
     "cell_type": "code",
     "checksum": "934705be030b7f7ba974a6c067c0e942",
     "grade": true,
     "grade_id": "cell-22bc20db6ce8b95e",
     "locked": true,
     "points": 3,
     "schema_version": 3,
     "solution": false
    }
   },
   "outputs": [],
   "source": [
    "with marks(3):\n",
    "    assert(check_hash(best_temp, ((), 50.0)))"
   ]
  },
  {
   "cell_type": "code",
   "execution_count": null,
   "metadata": {
    "deletable": false,
    "editable": false,
    "nbgrader": {
     "cell_type": "code",
     "checksum": "302fe6cb3b4c3aa85bd393b45a456350",
     "grade": true,
     "grade_id": "cell-36ed1c66c64c5946",
     "locked": true,
     "points": 3,
     "schema_version": 3,
     "solution": false
    }
   },
   "outputs": [],
   "source": [
    "with marks(3):\n",
    "    assert(check_hash(best_hum, ((), 379.0)))      "
   ]
  },
  {
   "cell_type": "markdown",
   "metadata": {},
   "source": [
    "## 3: Image operations\n",
    "Images can be represented as numerical arrays. We will use images as an example to explore NumPy functionality.\n",
    "\n",
    "* `img = ia.load_image_colour('filename.png')` will load an image as an array.\n",
    "* `ia.show_image(img)` will show it in the notebook.\n",
    "    "
   ]
  },
  {
   "cell_type": "markdown",
   "metadata": {},
   "source": [
    "A)\n",
    "\n",
    "We will:\n",
    "* Load `data/parrots.png` as `img_array` \n",
    "* Print out its shape and dtype\n",
    "* Show the image."
   ]
  },
  {
   "cell_type": "code",
   "execution_count": null,
   "metadata": {},
   "outputs": [],
   "source": [
    "img_array = ia.load_image_colour(\"data/parrots.png\")\n",
    "print(img_array.shape, img_array.dtype)\n",
    "ia.show_image(img_array)"
   ]
  },
  {
   "cell_type": "markdown",
   "metadata": {},
   "source": [
    "B) **Slicing arrays**\n",
    "* Create an array `cropped` which has the pixels from [150,100] to [350,300]. Note that these positions are in `[row, col]` format, not `[x,y]`.\n",
    "* Display the cropped array using `show_image()`. \n",
    "* Remember: the image is `WxHx3`. Think about how to slice the last dimension.\n",
    "* Show the cropped image so you can see it."
   ]
  },
  {
   "cell_type": "code",
   "execution_count": null,
   "metadata": {
    "deletable": false,
    "nbgrader": {
     "cell_type": "code",
     "checksum": "fb7b6c5d879664d34dff6fe4351f900e",
     "grade": false,
     "grade_id": "cell-e55532295e444bd0",
     "locked": false,
     "schema_version": 3,
     "solution": true
    }
   },
   "outputs": [],
   "source": [
    "\n",
    "# YOUR CODE HERE"
   ]
  },
  {
   "cell_type": "code",
   "execution_count": null,
   "metadata": {
    "deletable": false,
    "editable": false,
    "nbgrader": {
     "cell_type": "code",
     "checksum": "0fae6bb8fe2ec257e70707605f38f768",
     "grade": true,
     "grade_id": "cell-1065728e6cf70cf4",
     "locked": true,
     "points": 4,
     "schema_version": 3,
     "solution": false
    }
   },
   "outputs": [],
   "source": [
    "ia.show_image(cropped)\n",
    "with marks(4):\n",
    "    assert(check_hash(cropped, ((200, 200, 3), 3409234926.1084023)))"
   ]
  },
  {
   "cell_type": "markdown",
   "metadata": {},
   "source": [
    "C)  **Modifying arrays**\n",
    "\n",
    "Create an array \"censored\" which is the same as `img_array`, but has a black bar across the following regions to protect the parrot's privacy:\n",
    "    * [200,100] -> [260, 310]\n",
    "    * [140, 400]-> [200, 650]\n",
    "\n",
    "Setting array elements to zero will make them black.\n",
    "\n",
    "**Do not modify the original `img_array`**"
   ]
  },
  {
   "cell_type": "code",
   "execution_count": null,
   "metadata": {
    "deletable": false,
    "nbgrader": {
     "cell_type": "code",
     "checksum": "337313e012a1fc155325456c266f5e1e",
     "grade": false,
     "grade_id": "cell-6615e422ecee6b7e",
     "locked": false,
     "schema_version": 3,
     "solution": true
    }
   },
   "outputs": [],
   "source": [
    "# YOUR CODE HERE"
   ]
  },
  {
   "cell_type": "markdown",
   "metadata": {},
   "source": [
    "# 4. Financial misconduct\n",
    "\n",
    "You have been asked to verify the computation of some financial predictive models. These models produces a sequence of updates to the value of a product. The product updates are mainly of two types:\n",
    "* **large deposits**, representing inflows of new cash, often up into the billions of pounds\n",
    "* **small returns** from high-frequency trading activity\n",
    "\n",
    "The simulator produces **two** model outputs from two distinct models `a` and `b` at each time step, which provide very similar estimates of the value of these updates.\n",
    "\n",
    "You are asked to write code that will produce:\n",
    "\n",
    "* an estimate of the total value of a product over some series\n",
    "* the total difference between two different product models, both of which are very similar.\n",
    "\n",
    "You are given the existing code below, which is supposed to compute and return:\n",
    "\n",
    "* the sum of the `a` updates (i.e. total value of `a`)\n",
    "* the accumulated difference between the `a` and `b` products.\n",
    "\n",
    "However, the result is very inaccurate when tested. Modify this code to be more accurate. Do NOT use NumPy, or *any* other external module to improve your calculation. Use floating point, regardless of the fact that floating point is not appropriate for financial data.\n",
    "\n",
    "The errors should be less than 0.5 for the `a` sum and less than 1e-10 for the difference in predictions."
   ]
  },
  {
   "cell_type": "code",
   "execution_count": null,
   "metadata": {
    "deletable": false,
    "editable": false,
    "nbgrader": {
     "cell_type": "code",
     "checksum": "ff5608433d2c972fba67f97a4d5b83d3",
     "grade": false,
     "grade_id": "cell-50aa86e1b77a72bd",
     "locked": true,
     "schema_version": 3,
     "solution": false
    }
   },
   "outputs": [],
   "source": [
    "class Simulator: # we use a class just to hold variables between calls\n",
    "    def __init__(self):\n",
    "        # initialise accumulators\n",
    "        self.a_sum = 0\n",
    "        self.b_sum = 0\n",
    "        \n",
    "    def update(self, a, b):\n",
    "        # increment\n",
    "        self.a_sum += a\n",
    "        self.b_sum += b\n",
    "        \n",
    "    def results(self):\n",
    "        # return a  pair of results\n",
    "        # (you do not need to change this)\n",
    "        return self.a_sum, self.a_sum - self.b_sum\n",
    "        "
   ]
  },
  {
   "cell_type": "code",
   "execution_count": null,
   "metadata": {
    "deletable": false,
    "editable": false,
    "nbgrader": {
     "cell_type": "code",
     "checksum": "58c881d1e653f83c5e84e2c129cd7456",
     "grade": false,
     "grade_id": "cell-35c606e253a47cef",
     "locked": true,
     "schema_version": 3,
     "solution": false
    }
   },
   "outputs": [],
   "source": [
    "a_error, d_error = simulate(Simulator())\n",
    "# bad result!\n",
    "print(f\"Error in a_sum is {a_error} and {d_error} in d_sum\")"
   ]
  },
  {
   "cell_type": "markdown",
   "metadata": {},
   "source": [
    "Copy and paste the `Simulator` into the cell below and modify it:"
   ]
  },
  {
   "cell_type": "code",
   "execution_count": null,
   "metadata": {},
   "outputs": [],
   "source": [
    "# YOUR CODE HERE"
   ]
  },
  {
   "cell_type": "code",
   "execution_count": null,
   "metadata": {
    "deletable": false,
    "editable": false,
    "nbgrader": {
     "cell_type": "code",
     "checksum": "f1e98bef3ef86adad3e5868986316e6e",
     "grade": false,
     "grade_id": "cell-3cb0d8f80031eb15",
     "locked": true,
     "schema_version": 3,
     "solution": false
    }
   },
   "outputs": [],
   "source": [
    "    \n",
    "a_error, d_error = simulate(Simulator())\n",
    "print(f\"Error in a_sum is {a_error} and {d_error} in d_sum\")"
   ]
  },
  {
   "cell_type": "code",
   "execution_count": null,
   "metadata": {
    "deletable": false,
    "editable": false,
    "nbgrader": {
     "cell_type": "code",
     "checksum": "a1724933251f1964065800aa35105040",
     "grade": true,
     "grade_id": "cell-2b4d36e72bbc2189",
     "locked": true,
     "points": 2,
     "schema_version": 3,
     "solution": false
    }
   },
   "outputs": [],
   "source": [
    "with tick.marks(2):\n",
    "    assert(a_error<2.0)"
   ]
  },
  {
   "cell_type": "code",
   "execution_count": null,
   "metadata": {
    "deletable": false,
    "editable": false,
    "nbgrader": {
     "cell_type": "code",
     "checksum": "4eab204e6294cd475378f325751842be",
     "grade": true,
     "grade_id": "cell-1fd742ccc66cbe18",
     "locked": true,
     "points": 2,
     "schema_version": 3,
     "solution": false
    }
   },
   "outputs": [],
   "source": [
    "with tick.marks(2):\n",
    "    assert(a_error<0.5)"
   ]
  },
  {
   "cell_type": "code",
   "execution_count": null,
   "metadata": {
    "deletable": false,
    "editable": false,
    "nbgrader": {
     "cell_type": "code",
     "checksum": "13bd842f42436ba8c313ff9416d1e03a",
     "grade": true,
     "grade_id": "cell-d9f1430e6e4477b5",
     "locked": true,
     "points": 2,
     "schema_version": 3,
     "solution": false
    }
   },
   "outputs": [],
   "source": [
    "with tick.marks(2):\n",
    "    assert(d_error<1e-10)"
   ]
  },
  {
   "cell_type": "code",
   "execution_count": null,
   "metadata": {
    "deletable": false,
    "editable": false,
    "nbgrader": {
     "cell_type": "code",
     "checksum": "c05c78df2a567e869e941027c4acafd4",
     "grade": true,
     "grade_id": "cell-333705048f84aa8e",
     "locked": true,
     "points": 2,
     "schema_version": 3,
     "solution": false
    }
   },
   "outputs": [],
   "source": [
    "with tick.marks(2):\n",
    "    assert(d_error<1e-12)"
   ]
  }
 ],
 "metadata": {
  "kernelspec": {
   "display_name": "Python 3 (ipykernel)",
   "language": "python",
   "name": "python3"
  },
  "language_info": {
   "codemirror_mode": {
    "name": "ipython",
    "version": 3
   },
   "file_extension": ".py",
   "mimetype": "text/x-python",
   "name": "python",
   "nbconvert_exporter": "python",
   "pygments_lexer": "ipython3",
   "version": "3.9.7"
  },
  "toc": {
   "base_numbering": 1,
   "nav_menu": {},
   "number_sections": true,
   "sideBar": true,
   "skip_h1_title": false,
   "title_cell": "Table of Contents",
   "title_sidebar": "Contents",
   "toc_cell": false,
   "toc_position": {},
   "toc_section_display": "block",
   "toc_window_display": false
  },
  "varInspector": {
   "cols": {
    "lenName": 16,
    "lenType": 16,
    "lenVar": 40
   },
   "kernels_config": {
    "python": {
     "delete_cmd_postfix": "",
     "delete_cmd_prefix": "del ",
     "library": "var_list.py",
     "varRefreshCmd": "print(var_dic_list())"
    },
    "r": {
     "delete_cmd_postfix": ") ",
     "delete_cmd_prefix": "rm(",
     "library": "var_list.r",
     "varRefreshCmd": "cat(var_dic_list()) "
    }
   },
   "types_to_exclude": [
    "module",
    "function",
    "builtin_function_or_method",
    "instance",
    "_Feature"
   ],
   "window_display": false
  }
 },
 "nbformat": 4,
 "nbformat_minor": 4
}

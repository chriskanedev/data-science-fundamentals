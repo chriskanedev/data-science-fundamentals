{
 "cells": [
  {
   "cell_type": "markdown",
   "metadata": {},
   "source": [
    "# Using NumPy: Introduction and a worked example\n",
    "\n",
    "Read through the following notes carefully, and run each of these cells to get an idea of how NumPy works.\n",
    "\n",
    "We import `numpy` as below, and then we can access all Numpy functions from using `np.<function>`:"
   ]
  },
  {
   "cell_type": "code",
   "execution_count": 1,
   "metadata": {
    "ExecuteTime": {
     "end_time": "2020-09-11T15:34:50.262125Z",
     "start_time": "2020-09-11T15:34:50.149885Z"
    }
   },
   "outputs": [],
   "source": [
    "# np is the conventional name for numpy\n",
    "import numpy as np\n",
    "np.set_printoptions(suppress=True, precision=2) # configure printing"
   ]
  },
  {
   "cell_type": "markdown",
   "metadata": {},
   "source": [
    "# Basic array creation\n",
    "\n",
    "`np.array()` takes a *sequence* and converts it into an `ndarray`; this can be, for example, an ordinary Python list:\n",
    "    "
   ]
  },
  {
   "cell_type": "code",
   "execution_count": 2,
   "metadata": {
    "ExecuteTime": {
     "end_time": "2020-09-11T15:35:08.172972Z",
     "start_time": "2020-09-11T15:35:08.167116Z"
    },
    "lines_to_next_cell": 2
   },
   "outputs": [
    {
     "name": "stdout",
     "output_type": "stream",
     "text": [
      "[1. 2. 3.] <class 'numpy.ndarray'>\n"
     ]
    }
   ],
   "source": [
    "## a simple vector: np.array converts iterable sequences to arrays\n",
    "n_list = [1.0, 2.0, 3.0]\n",
    "n_array = np.array(n_list)\n",
    "print(n_array, type(n_array)) # this is now an array\n"
   ]
  },
  {
   "cell_type": "markdown",
   "metadata": {},
   "source": [
    "## Shape\n",
    "`ndarrays` hold *rectangular* blocks of numbers. They can have any number of dimensions: 1D vectors, 2D matrices, 3D and higher tensors.\n",
    "\n",
    "All ndarrays have a **shape**, which is the number of elements in each dimension. You can always find\n",
    "the shape of an existing array by calling `a.shape()` on an array `a`. This list is just three elements, so its shape is just `(3,)` (a 3 element vector):"
   ]
  },
  {
   "cell_type": "code",
   "execution_count": 3,
   "metadata": {
    "ExecuteTime": {
     "end_time": "2020-09-11T15:35:43.135813Z",
     "start_time": "2020-09-11T15:35:43.131909Z"
    }
   },
   "outputs": [
    {
     "name": "stdout",
     "output_type": "stream",
     "text": [
      "(3,)\n"
     ]
    }
   ],
   "source": [
    "print(n_array.shape)"
   ]
  },
  {
   "cell_type": "markdown",
   "metadata": {},
   "source": [
    "### Multidimensional arrays\n",
    "This extends to creating multidimensional arrays, using nested sequences (e.g. list-of-lists). However, arrays must be **rectangular**; they cannot be *ragged*, where there are different numbers of columns per row."
   ]
  },
  {
   "cell_type": "code",
   "execution_count": 4,
   "metadata": {
    "ExecuteTime": {
     "end_time": "2020-09-11T15:36:06.685426Z",
     "start_time": "2020-09-11T15:36:06.678596Z"
    }
   },
   "outputs": [
    {
     "name": "stdout",
     "output_type": "stream",
     "text": [
      "[[ 1.   2.   3. ]\n",
      " [ 0.   0.5  0. ]\n",
      " [ 5.   0.  10. ]]\n"
     ]
    }
   ],
   "source": [
    "# using nested lists to create a 2D array (a matrix)\n",
    "a = np.array([\n",
    "                [1.0, 2.0, 3.0],\n",
    "                [0.0, 0.5, 0.0],\n",
    "                [5.0, 0.0, 10.0]\n",
    "               ])\n",
    "\n",
    "print(a)"
   ]
  },
  {
   "cell_type": "code",
   "execution_count": 5,
   "metadata": {
    "ExecuteTime": {
     "end_time": "2020-09-11T15:36:10.399140Z",
     "start_time": "2020-09-11T15:36:10.395236Z"
    }
   },
   "outputs": [
    {
     "name": "stdout",
     "output_type": "stream",
     "text": [
      "(3, 3)\n"
     ]
    }
   ],
   "source": [
    "print(a.shape)"
   ]
  },
  {
   "cell_type": "markdown",
   "metadata": {},
   "source": [
    "NumPy supports arbitrary dimensioned arrays. So we can create a `2x2x2` array of numbers:"
   ]
  },
  {
   "cell_type": "code",
   "execution_count": 6,
   "metadata": {
    "ExecuteTime": {
     "end_time": "2020-09-11T15:36:24.725009Z",
     "start_time": "2020-09-11T15:36:24.720129Z"
    }
   },
   "outputs": [
    {
     "name": "stdout",
     "output_type": "stream",
     "text": [
      "[[[1. 1.]\n",
      "  [4. 4.]]\n",
      "\n",
      " [[2. 2.]\n",
      "  [3. 3.]]]\n"
     ]
    }
   ],
   "source": [
    "a = np.array([\n",
    "                [[1.0, 1.0],\n",
    "                 [4.0, 4.0]],\n",
    "                [[2.0, 2.0],\n",
    "                 [3.0, 3.0]],                \n",
    "               ])\n",
    "print(a)"
   ]
  },
  {
   "cell_type": "code",
   "execution_count": 7,
   "metadata": {
    "ExecuteTime": {
     "end_time": "2020-09-11T15:36:27.446835Z",
     "start_time": "2020-09-11T15:36:27.442929Z"
    }
   },
   "outputs": [
    {
     "name": "stdout",
     "output_type": "stream",
     "text": [
      "(2, 2, 2)\n"
     ]
    }
   ],
   "source": [
    "print(a.shape)"
   ]
  },
  {
   "cell_type": "markdown",
   "metadata": {},
   "source": [
    "## Blank arrays\n",
    "It's often useful to create arrays which are \"blank\", in the sense they are filled with equal values (particularly, filled with all zeros). There are array functions that will be produce such arrays very efficiently. They just take the shape of the desired array and return a fully populated array:\n",
    "\n",
    "* `np.zeros(shape)` will create an array of a given **shape** and fill it with zeros. \n",
    "* `np.ones(shape)` does the same and fills it with ones (1.0).\n",
    "* `np.full(shape, value)` fills a new array with the given value.\n",
    "* `np.empty(shape)` creates a new array, but doesn't fill it. This will have whatever was in the memory before, so while it's very efficient, it's only useful when you expect to overwrite the array values.\n",
    "\n",
    "### Shapes are tuples\n",
    "Note: the `shape` is a **tuple**, written in round brackets like this: `(3,4)` or `(3,)`.\n",
    "\n",
    "* **Don't** call `np.zeros(3,4)`: this calls `np.zeros` with two arguments \n",
    "* **Do** call `np.zeros((3,4))`: this calls `np.zeros` with one argument, a shape tuple.\n"
   ]
  },
  {
   "cell_type": "code",
   "execution_count": 8,
   "metadata": {
    "ExecuteTime": {
     "end_time": "2020-09-11T15:37:34.388571Z",
     "start_time": "2020-09-11T15:37:34.384667Z"
    }
   },
   "outputs": [
    {
     "name": "stdout",
     "output_type": "stream",
     "text": [
      "[0. 0. 0. 0. 0.]\n"
     ]
    }
   ],
   "source": [
    "print(np.zeros((5,))) # a 5 element vector of zeros"
   ]
  },
  {
   "cell_type": "code",
   "execution_count": 9,
   "metadata": {
    "ExecuteTime": {
     "end_time": "2020-09-11T15:37:38.199525Z",
     "start_time": "2020-09-11T15:37:38.195621Z"
    }
   },
   "outputs": [
    {
     "name": "stdout",
     "output_type": "stream",
     "text": [
      "[[0. 0. 0.]\n",
      " [0. 0. 0.]\n",
      " [0. 0. 0.]]\n"
     ]
    }
   ],
   "source": [
    "print(np.zeros((3,3))) # a 3x3 matrix of zeros"
   ]
  },
  {
   "cell_type": "code",
   "execution_count": 10,
   "metadata": {
    "ExecuteTime": {
     "end_time": "2020-09-11T15:37:40.205412Z",
     "start_time": "2020-09-11T15:37:40.201508Z"
    }
   },
   "outputs": [
    {
     "name": "stdout",
     "output_type": "stream",
     "text": [
      "[[0. 0.]\n",
      " [0. 0.]\n",
      " [0. 0.]\n",
      " [0. 0.]\n",
      " [0. 0.]\n",
      " [0. 0.]]\n"
     ]
    }
   ],
   "source": [
    "print(np.zeros((6,2))) # a 6x2 matrix of zeros"
   ]
  },
  {
   "cell_type": "code",
   "execution_count": 11,
   "metadata": {
    "ExecuteTime": {
     "end_time": "2020-09-11T15:37:42.153825Z",
     "start_time": "2020-09-11T15:37:42.149922Z"
    }
   },
   "outputs": [
    {
     "name": "stdout",
     "output_type": "stream",
     "text": [
      "[[1. 1.]\n",
      " [1. 1.]]\n"
     ]
    }
   ],
   "source": [
    "print(np.ones((2,2))) #  a 2x2 matrix of ones"
   ]
  },
  {
   "cell_type": "code",
   "execution_count": 14,
   "metadata": {
    "ExecuteTime": {
     "end_time": "2020-09-11T15:38:10.676755Z",
     "start_time": "2020-09-11T15:38:10.672851Z"
    }
   },
   "outputs": [
    {
     "name": "stdout",
     "output_type": "stream",
     "text": [
      "[[[9]\n",
      "  [9]\n",
      "  [9]\n",
      "  [9]\n",
      "  [9]]]\n"
     ]
    }
   ],
   "source": [
    "print(np.full((1,5,1), 9)) # a 1x5x1 array of 9s"
   ]
  },
  {
   "cell_type": "code",
   "execution_count": 15,
   "metadata": {
    "ExecuteTime": {
     "end_time": "2020-09-11T15:38:15.495381Z",
     "start_time": "2020-09-11T15:38:15.487574Z"
    }
   },
   "outputs": [
    {
     "data": {
      "text/plain": [
       "array([[[-1., -1.],\n",
       "        [-1., -1.]],\n",
       "\n",
       "       [[-1., -1.],\n",
       "        [-1., -1.]]])"
      ]
     },
     "execution_count": 15,
     "metadata": {},
     "output_type": "execute_result"
    }
   ],
   "source": [
    "np.full((2,2,2), -1.0) # 2x2x2 array filled with -1"
   ]
  },
  {
   "cell_type": "code",
   "execution_count": 18,
   "metadata": {
    "ExecuteTime": {
     "end_time": "2020-09-11T15:38:24.957663Z",
     "start_time": "2020-09-11T15:38:24.953759Z"
    },
    "lines_to_next_cell": 0
   },
   "outputs": [
    {
     "name": "stdout",
     "output_type": "stream",
     "text": [
      "[1. 1. 1. 1. 1. 1. 1. 1.]\n"
     ]
    }
   ],
   "source": [
    "print(np.empty(8,)) # 8 element vector -- note the values will be random junk!"
   ]
  },
  {
   "cell_type": "markdown",
   "metadata": {},
   "source": [
    "## Singleton axes\n",
    "**Note**: a (1,5,1) array is different from a (1,5) array and different from a (5,) array. Array dimension sizes can be 1. \n",
    "\n",
    "We call each dimension of an array an **axis**, and any **axis** which is just one element is called a **singleton axis**.\n"
   ]
  },
  {
   "cell_type": "code",
   "execution_count": 19,
   "metadata": {
    "ExecuteTime": {
     "end_time": "2020-09-11T15:38:44.640071Z",
     "start_time": "2020-09-11T15:38:44.634215Z"
    },
    "lines_to_next_cell": 0
   },
   "outputs": [
    {
     "name": "stdout",
     "output_type": "stream",
     "text": [
      "(1, 5, 1)\n",
      "(1, 5)\n",
      "(5,)\n"
     ]
    }
   ],
   "source": [
    "# these are all differently shaped arrays, even though they all contain exactly five elements\n",
    "print(np.zeros((1,5,1)).shape) \n",
    "print(np.zeros((1,5)).shape) \n",
    "print(np.zeros((5,)).shape) "
   ]
  },
  {
   "cell_type": "markdown",
   "metadata": {},
   "source": [
    "\n"
   ]
  },
  {
   "cell_type": "markdown",
   "metadata": {},
   "source": [
    "### zeros_like\n",
    "It is often handy to create a new array which is the same type and shape as an existing array, but initialised to all zeros (or all ones). This is useful, for example, when accumulating counts in an array the same size as some original input (e.g. counting number of pixels that are blue or green)\n",
    "\n",
    "`np.zeros_like()` does this. There are equivalent `ones_like` and `full_like` as well."
   ]
  },
  {
   "cell_type": "code",
   "execution_count": 20,
   "metadata": {
    "ExecuteTime": {
     "end_time": "2020-09-11T15:39:13.523628Z",
     "start_time": "2020-09-11T15:39:13.518748Z"
    }
   },
   "outputs": [
    {
     "name": "stdout",
     "output_type": "stream",
     "text": [
      "[[1. 2. 3.]\n",
      " [4. 5. 6.]]\n"
     ]
    }
   ],
   "source": [
    "x = np.array([[1.0,2.0,3.0], \n",
    "              [4.0,5.0,6.0]], dtype=np.float64)\n",
    "print(x)"
   ]
  },
  {
   "cell_type": "code",
   "execution_count": 21,
   "metadata": {
    "ExecuteTime": {
     "end_time": "2020-09-11T15:39:17.205994Z",
     "start_time": "2020-09-11T15:39:17.202090Z"
    }
   },
   "outputs": [
    {
     "name": "stdout",
     "output_type": "stream",
     "text": [
      "[[0. 0. 0.]\n",
      " [0. 0. 0.]]\n"
     ]
    }
   ],
   "source": [
    "\n",
    "zeros_like_x = np.zeros_like(x)\n",
    "print(zeros_like_x)"
   ]
  },
  {
   "cell_type": "markdown",
   "metadata": {},
   "source": [
    "## arange\n",
    "Another useful kind of generated array is a range of numbers, increasing over a span.\n",
    "\n",
    "We can create a vector of increasing values using `arange` (**a**rray **range**), which works like the built in Python function `range` does, but returns an 1D array (a vector) instead of a list.\n",
    "\n",
    "`np.arange()` takes one to three parameters:\n",
    "* `np.arange(end)`  -- returns a vector of numbers 0..end-1\n",
    "* `np.arange(start, end)`  -- returns a vector of numbers start..end-1\n",
    "*  `np.arange(start, end, step)` --returns a vector of numbers start..end-1, incrementing by step (which may be **negative** and/or **fractional**!)\n"
   ]
  },
  {
   "cell_type": "code",
   "execution_count": null,
   "metadata": {},
   "outputs": [],
   "source": [
    "np.arange(10)  # [0-10) (excluding 10)"
   ]
  },
  {
   "cell_type": "code",
   "execution_count": null,
   "metadata": {},
   "outputs": [],
   "source": [
    "np.arange(2, 8) # 2,3,4,5,6,7 (no 8 -- the right endpoint is never included!)"
   ]
  },
  {
   "cell_type": "code",
   "execution_count": null,
   "metadata": {},
   "outputs": [],
   "source": [
    "np.arange(0,10,2) # even numbers 0-10"
   ]
  },
  {
   "cell_type": "code",
   "execution_count": null,
   "metadata": {},
   "outputs": [],
   "source": [
    "np.arange(10,0,-2) # even numbers backwards stopping at *2* \n",
    "# (be careful and remember the right endpoint rule!)"
   ]
  },
  {
   "cell_type": "code",
   "execution_count": null,
   "metadata": {},
   "outputs": [],
   "source": [
    "np.arange(0,10,0.25) # 0 to 10, incrementing by 0.25"
   ]
  },
  {
   "cell_type": "code",
   "execution_count": null,
   "metadata": {},
   "outputs": [],
   "source": [
    "np.arange(0.3, 10.21, 0.95) # all points can be fractional"
   ]
  },
  {
   "cell_type": "markdown",
   "metadata": {},
   "source": [
    "### Loading and saving arrays\n",
    "`np.loadtxt(fname)` and `np.savetxt(arr, fname)` are simple functions to load and save single 1D or 2D arrays as ordinary text files."
   ]
  },
  {
   "cell_type": "code",
   "execution_count": null,
   "metadata": {},
   "outputs": [],
   "source": [
    "sunspots = np.loadtxt(\"../data/sunspots.csv\", delimiter=',') # comma separated\n",
    "print(sunspots.shape, sunspots.dtype)"
   ]
  },
  {
   "cell_type": "code",
   "execution_count": null,
   "metadata": {
    "lines_to_next_cell": 0
   },
   "outputs": [],
   "source": [
    "# write to a file, then see what is in it\n",
    "# a new, blank array\n",
    "x = np.array([[1,2,3,4], [5,6,7,8]])\n",
    "# write to \"test_array.txt\"\n",
    "np.savetxt(\"test_array.txt\", x)\n",
    "\n",
    "# print out the contents of the file\n",
    "# will be space separated by default, in scientific notation\n",
    "print(\"test_array.txt\")\n",
    "# this is just the raw contents of the file\n",
    "with open(\"test_array.txt\") as f:\n",
    "    print((f.read()))"
   ]
  },
  {
   "cell_type": "markdown",
   "metadata": {},
   "source": [
    "\n",
    "\n",
    "\n"
   ]
  },
  {
   "cell_type": "markdown",
   "metadata": {},
   "source": [
    "## Random arrays\n",
    "We can also generate random numbers to fill arrays. Many algorithms use arrays of\n",
    "random numbers as their basic \"fuel\". \n",
    "\n",
    "Useful random array functions include:\n",
    "* `np.random.randint(a,b,shape)` creates an array with uniform random *integers* between a and (excluding) b\n",
    "* `np.random.uniform(a,b,shape)` creates an array with uniform random *floating point* numbers between a and b\n",
    "* `np.random.normal(mean,std,shape)` creates an array with normally distributed random floating point numbers between with the given mean and standard deviation."
   ]
  },
  {
   "cell_type": "code",
   "execution_count": null,
   "metadata": {},
   "outputs": [],
   "source": [
    "np.random.randint(1,7,(5,5)) # 5x5 array o numbers from 1 through 6 (e.g. dice rolls)"
   ]
  },
  {
   "cell_type": "code",
   "execution_count": null,
   "metadata": {},
   "outputs": [],
   "source": [
    "\n",
    "np.random.uniform(0,1,(3,)) # 3 element vector of values from 0-1"
   ]
  },
  {
   "cell_type": "code",
   "execution_count": null,
   "metadata": {},
   "outputs": [],
   "source": [
    "# 3 element vector of values, normally distributed with mean 0, standard deviation 1.0\n",
    "np.random.normal(0,1,(3,)) "
   ]
  },
  {
   "cell_type": "markdown",
   "metadata": {},
   "source": [
    "## Joining and stacking\n",
    "We can also join arrays together. But unlike simple structures like lists, we have to explicitly state on which **dimension** we are going to join. \n",
    "\n",
    "### concatenate and stack\n",
    "Because arrays can be joined together along different axes, there are two distinct kinds of joining:\n",
    "* We can use `concatenate` to join along an *existing* dimension;\n",
    "* or `stack` to stack up arrays along a *new dimension.*"
   ]
  },
  {
   "cell_type": "code",
   "execution_count": null,
   "metadata": {},
   "outputs": [],
   "source": [
    "x = np.array([1,2,3,4])\n",
    "y = np.array([5,6,7,8])\n",
    "print(\"Stacked two 1D -> 2D\")\n",
    "print((np.stack([x,y])))"
   ]
  },
  {
   "cell_type": "code",
   "execution_count": null,
   "metadata": {},
   "outputs": [],
   "source": [
    "print(\"Concatenated two 1D -> 1D\")\n",
    "print((np.concatenate([x,y])))"
   ]
  },
  {
   "cell_type": "code",
   "execution_count": null,
   "metadata": {},
   "outputs": [],
   "source": [
    "# when we have multiple dimensions, we can specify explicitly\n",
    "# which axis to join on\n",
    "x = np.zeros((3,3))\n",
    "y = np.ones((3,3))"
   ]
  },
  {
   "cell_type": "code",
   "execution_count": null,
   "metadata": {},
   "outputs": [],
   "source": [
    "print(\"Joined on rows\")\n",
    "print(np.concatenate([x,y], axis=0))  # join on rows"
   ]
  },
  {
   "cell_type": "code",
   "execution_count": null,
   "metadata": {},
   "outputs": [],
   "source": [
    "print(\"Joined on columns\")\n",
    "print(np.concatenate([x,y], axis=1))  # join on columns"
   ]
  },
  {
   "cell_type": "code",
   "execution_count": null,
   "metadata": {},
   "outputs": [],
   "source": [
    "print(\"Joined by stacking\")\n",
    "print(np.stack([x,y]))"
   ]
  },
  {
   "cell_type": "markdown",
   "metadata": {},
   "source": [
    "## Tiling\n",
    "We often need to be able to **repeat** arrays. This is called **tiling** and `np.tile(a, tiles)` will repeat `a` in the shape given by `tiles`, joining the result together into a single array."
   ]
  },
  {
   "cell_type": "code",
   "execution_count": null,
   "metadata": {},
   "outputs": [],
   "source": [
    "eye = np.array([[1.,0.], [0.,1]])\n",
    "print(eye)"
   ]
  },
  {
   "cell_type": "code",
   "execution_count": null,
   "metadata": {},
   "outputs": [],
   "source": [
    "print(\"Repeated 3 times, columns\")\n",
    "np.tile(eye, (1,3))"
   ]
  },
  {
   "cell_type": "code",
   "execution_count": null,
   "metadata": {},
   "outputs": [],
   "source": [
    "print(\"Repeated 3 times, rows\")\n",
    "np.tile(eye, (3,1))"
   ]
  },
  {
   "cell_type": "code",
   "execution_count": null,
   "metadata": {},
   "outputs": [],
   "source": [
    "print(\"Repeated 2x2 times\")\n",
    "np.tile(eye, (2,2))"
   ]
  },
  {
   "cell_type": "markdown",
   "metadata": {},
   "source": [
    "# Worked example"
   ]
  },
  {
   "cell_type": "markdown",
   "metadata": {},
   "source": [
    "### Tabular Data\n",
    "Many data can be naturally thought of as arrays. For example, a very common structure is a spreadsheet like arrangement of data in tables, with rows and columns.\n",
    "Each row is an **observation**, and each column is a **variable**.\n",
    "\n",
    "Here we will use a simple dataset, *\"Wheat prices in England, 1565-1810\"* by **William Playfair**.\n",
    "\n",
    "We will ask some basic questions about this, and answer them via NumPy. This will introduce slicing and indexing, arithmetic, aggregation/reduction and accumulation. We will also see some basic plotting commands to generate graphs: you do not need to learn these at this point."
   ]
  },
  {
   "cell_type": "code",
   "execution_count": null,
   "metadata": {},
   "outputs": [],
   "source": [
    "# the price of wheat 1565-1810 in format:\n",
    "#      index, year, wheat price, weekly wage\n",
    "# price: shillings per quarter bushel\n",
    "# wage: shillings per week\n",
    "\n",
    "# load a text file, store in the variable wheat, and print it out\n",
    "wheat = np.loadtxt(\"../data/Wheat.csv\", delimiter=\",\")\n",
    "print(wheat)"
   ]
  },
  {
   "cell_type": "markdown",
   "metadata": {},
   "source": [
    "Every array has a **shape** and a **datatype**. We can print these out:"
   ]
  },
  {
   "cell_type": "code",
   "execution_count": null,
   "metadata": {},
   "outputs": [],
   "source": [
    "print(\"shape\", wheat.shape)\n",
    "print(\"dtype\", wheat.dtype)"
   ]
  },
  {
   "cell_type": "markdown",
   "metadata": {},
   "source": [
    "This tells us we have a 50 rows x 4 columns array of floating point numbers"
   ]
  },
  {
   "cell_type": "markdown",
   "metadata": {},
   "source": [
    "We can plot this in a graph:"
   ]
  },
  {
   "cell_type": "code",
   "execution_count": null,
   "metadata": {},
   "outputs": [],
   "source": [
    "# import plotting\n",
    "import matplotlib.pyplot as plt\n",
    "%matplotlib inline\n",
    "\n",
    "# create a new figure\n",
    "fig = plt.figure(figsize=(8,4))\n",
    "ax = fig.add_subplot(1,1,1)\n",
    "# plot the wheat price against the year\n",
    "ax.plot(wheat[:,1], wheat[:,2], label=\"Wheat price (per quarter bushel)\")\n",
    "# plot the wage of skilled mechanic  against the year\n",
    "ax.plot(wheat[:,1], wheat[:,3], label=\"Weekly wage (per week)\")\n",
    "# add some labels\n",
    "ax.set_xlabel(\"Year\")\n",
    "ax.set_ylabel(\"Shillings\")\n",
    "# add a legend\n",
    "ax.legend()\n"
   ]
  },
  {
   "cell_type": "markdown",
   "metadata": {},
   "source": [
    "We have selected pairs of columns to plot; for example `wheat[:,1]` selects the second column, the years. This is an example of slicing."
   ]
  },
  {
   "cell_type": "markdown",
   "metadata": {},
   "source": [
    "We can select any subparts of this array using **slice notation**, using square brackets. This is like indexing an array, but we can also select rectangular subregions."
   ]
  },
  {
   "cell_type": "code",
   "execution_count": null,
   "metadata": {},
   "outputs": [],
   "source": [
    "print(\"first row\", wheat[0,:]) # : means everything"
   ]
  },
  {
   "cell_type": "code",
   "execution_count": null,
   "metadata": {},
   "outputs": [],
   "source": [
    "print(\"second column\", wheat[:,1]) # note: order is rows then columns"
   ]
  },
  {
   "cell_type": "markdown",
   "metadata": {},
   "source": [
    "This uses **slicing syntax** to select a specific part of the array.\n",
    "    \n",
    "#### Zero indexing\n",
    "Note that NumPy arrays are indexed starting from `0`!\n"
   ]
  },
  {
   "cell_type": "markdown",
   "metadata": {},
   "source": [
    "## Slicing\n",
    "The slice notation\n",
    "is very simple but powerful. You can give a range specifier for each dimension of the array inside square brackets (in this case we have a 2D array: rows x columns). \n",
    "\n",
    "A *range specifier* is of the form:\n",
    "\n",
    "    start : stop : step\n",
    "    \n",
    "Where `start` is the index to start from, `stop` is the end, and `step` is the jump to make between each step. **Any of these parts can be omitted**.\n",
    "\n",
    "* If `start` is missing, it defaults to 0\n",
    "* If `end` is missing, it defaults to the last element\n",
    "* If `step` is missing, it defaults to 1. You don't need to include the second colon if you are omitting step, though it's not an error to do so.\n",
    "\n",
    "If there is no colon at all (just a number) then the slice takes that element only (start and end are equal). Let's see that in action:\n",
    "\n"
   ]
  },
  {
   "cell_type": "code",
   "execution_count": null,
   "metadata": {},
   "outputs": [],
   "source": [
    "print(wheat[5:10, :]) # select the 6th to 11th rows"
   ]
  },
  {
   "cell_type": "code",
   "execution_count": null,
   "metadata": {},
   "outputs": [],
   "source": [
    "print(wheat[:10, 1:3]) # select first ten rows and second and third columns"
   ]
  },
  {
   "cell_type": "markdown",
   "metadata": {},
   "source": [
    "Slices wil give us back arrays. These have shapes, which we can look at"
   ]
  },
  {
   "cell_type": "code",
   "execution_count": null,
   "metadata": {},
   "outputs": [],
   "source": [
    "print(wheat[:10, 1:3].shape) # a 10 by 2 array"
   ]
  },
  {
   "cell_type": "markdown",
   "metadata": {},
   "source": [
    "We can access specific elements if we don't have any ranges in the slice, only definite numbers:"
   ]
  },
  {
   "cell_type": "code",
   "execution_count": null,
   "metadata": {},
   "outputs": [],
   "source": [
    "print(wheat[0, -1]) # the first row, last column; a specific number"
   ]
  },
  {
   "cell_type": "markdown",
   "metadata": {},
   "source": [
    "## Arithmetic\n",
    "\n",
    "We can do arithmetic on arrays in a single command, without any explicit iteration. We could compute a conversion of bushels into modern units, litres:"
   ]
  },
  {
   "cell_type": "code",
   "execution_count": null,
   "metadata": {},
   "outputs": [],
   "source": [
    "litres_bushels = 36.3687\n",
    "price_quarter_bushels = wheat[:,2]  # slice\n",
    "price_litre = (price_quarter_bushels * 4.0) / litres_bushels\n",
    "# now print out the price in shillings per litre of wheat\n",
    "print(price_litre)"
   ]
  },
  {
   "cell_type": "markdown",
   "metadata": {},
   "source": [
    "Note that we are performing arithmetic on a whole array at once; that is we apply an operation *elementwise*. Lets' convert this further, to kilos, then plot the graph again:"
   ]
  },
  {
   "cell_type": "code",
   "execution_count": null,
   "metadata": {},
   "outputs": [],
   "source": [
    "wheat_kg_litre = 0.79 # about 0.79 kg of wheat in every litre\n",
    "price_kg = price_litre * wheat_kg_litre"
   ]
  },
  {
   "cell_type": "code",
   "execution_count": null,
   "metadata": {},
   "outputs": [],
   "source": [
    "# create a new figure\n",
    "fig = plt.figure(figsize=(8,4))\n",
    "ax = fig.add_subplot(1,1,1)\n",
    "# plot the wheat price against the year\n",
    "ax.plot(wheat[:,1], price_kg, label=\"Wheat price (per kg)\")\n",
    "# plot the wage of skilled mechanic  against the year\n",
    "ax.plot(wheat[:,1], wheat[:,3], label=\"Weekly wage (per week)\")\n",
    "# add some labels\n",
    "ax.set_xlabel(\"Year\")\n",
    "ax.set_ylabel(\"Shillings\")\n",
    "# add a legend\n",
    "ax.legend()"
   ]
  },
  {
   "cell_type": "markdown",
   "metadata": {},
   "source": [
    "## Elementwise arithmetic\n",
    "Say we wanted to compute the ratio of the wheat price and the weekly wage; how many kilos of wheat could a skilled mechanic afford? This again is an arithmetic operation, but instead of an operation between a scalar and an array, it's an operation between two arrays of the same size. \n",
    "\n",
    "This again is applied **elementwise**, each element from one array being paired with a corresponding one from another."
   ]
  },
  {
   "cell_type": "code",
   "execution_count": null,
   "metadata": {
    "lines_to_next_cell": 0
   },
   "outputs": [],
   "source": [
    "# note: an operation between two *arrays*\n",
    "kg_per_week = wheat[:,3] / price_kg\n",
    "\n",
    "# create a new figure\n",
    "fig = plt.figure(figsize=(8,4))\n",
    "ax = fig.add_subplot(1,1,1)\n",
    "\n",
    "# plot the wheat price against the year\n",
    "ax.plot(wheat[:,1], kg_per_week, label=\"kg per week\")\n",
    "# add some labels\n",
    "ax.set_xlabel(\"Year\")\n",
    "ax.set_ylabel(\"Kg of wheat afforded\")\n",
    "# add a legend\n",
    "ax.legend()"
   ]
  },
  {
   "cell_type": "markdown",
   "metadata": {},
   "source": [
    "\n"
   ]
  },
  {
   "cell_type": "markdown",
   "metadata": {},
   "source": [
    "## Aggregate operations\n",
    "Say we want to know how much wheat a skilled mechanic could afford, *on average each week*,  between 1650 and 1700. This is an aggregation operation. First we can select that region:"
   ]
  },
  {
   "cell_type": "code",
   "execution_count": null,
   "metadata": {},
   "outputs": [],
   "source": [
    "# check we can find the right slice of the data\n",
    "print(wheat[17:27,:])"
   ]
  },
  {
   "cell_type": "code",
   "execution_count": null,
   "metadata": {},
   "outputs": [],
   "source": [
    "# now slice the corresponding part of our kg pricing\n",
    "prices_1650_1700 = kg_per_week[17:27]"
   ]
  },
  {
   "cell_type": "markdown",
   "metadata": {},
   "source": [
    "We can **sum** this data with `np.sum()`, which is equivalent to putting a `+` in between each element, and then divide by the number of elements using the `shape`."
   ]
  },
  {
   "cell_type": "code",
   "execution_count": null,
   "metadata": {},
   "outputs": [],
   "source": [
    "print(np.sum(prices_1650_1700) / prices_1650_1700.shape[0])"
   ]
  },
  {
   "cell_type": "markdown",
   "metadata": {},
   "source": [
    "NumPy has a built in `mean` function that does the same thing:"
   ]
  },
  {
   "cell_type": "code",
   "execution_count": null,
   "metadata": {},
   "outputs": [],
   "source": [
    "print(np.mean(prices_1650_1700))"
   ]
  },
  {
   "cell_type": "markdown",
   "metadata": {},
   "source": [
    "### Multiple axes\n",
    "You can specify a list of axes across which to operate when using an aggregate function. This is mainly used with arrays with more than two dimensions."
   ]
  },
  {
   "cell_type": "code",
   "execution_count": null,
   "metadata": {},
   "outputs": [],
   "source": [
    "print(np.mean(wheat, axis=0)) # mean across rows, this is the mean for each variable, a useful summary"
   ]
  },
  {
   "cell_type": "code",
   "execution_count": null,
   "metadata": {
    "lines_to_next_cell": 2
   },
   "outputs": [],
   "source": [
    "# it makes no sense to average together prices and years!\n",
    "print(np.mean(wheat, axis=1)) # mean across columns, this is meaningless here"
   ]
  },
  {
   "cell_type": "markdown",
   "metadata": {},
   "source": [
    "## Finding things: Boolean arrays\n",
    "This seems quite fragile, in that we had to specify `[17:27]` to select the years we were interested in. We can use Boolean tests to do this more cleanly. We can compare any array with a value or another array (these are just special cases of a more general rule) and get back an array of Booleans:"
   ]
  },
  {
   "cell_type": "code",
   "execution_count": null,
   "metadata": {},
   "outputs": [],
   "source": [
    "print(wheat[:,1]>=1650)"
   ]
  },
  {
   "cell_type": "code",
   "execution_count": null,
   "metadata": {},
   "outputs": [],
   "source": [
    "print(wheat[:,1]<1700)"
   ]
  },
  {
   "cell_type": "markdown",
   "metadata": {},
   "source": [
    "We can combine these together using logical operators. These are:\n",
    "    * `np.logical_not(x)` inverts a Boolean array\n",
    "    * `np.logical_and(x,y)` applies *and* to two arrays\n",
    "    * `np.logical_or(x,y)` applies *or* to two arrays"
   ]
  },
  {
   "cell_type": "code",
   "execution_count": null,
   "metadata": {},
   "outputs": [],
   "source": [
    "print(np.logical_and(wheat[:,1]>=1650, wheat[:,1]<1700))"
   ]
  },
  {
   "cell_type": "markdown",
   "metadata": {},
   "source": [
    "How does that help us? One thing we can do is use `np.nonzero()` to convert every `True` to it's corresponding index."
   ]
  },
  {
   "cell_type": "code",
   "execution_count": null,
   "metadata": {},
   "outputs": [],
   "source": [
    "print(np.nonzero(np.logical_and(wheat[:,1]>=1650, wheat[:,1]<1700)))"
   ]
  },
  {
   "cell_type": "markdown",
   "metadata": {},
   "source": [
    "And we would see that `[17:27]` is the right slice to use (remember slices are inclusive of the first specifier, and exclusive of the second).\n",
    "\n",
    "Even better, though, we can **directly index** an array with another array of Booleans; this will pull out only those values where the index array is `True`"
   ]
  },
  {
   "cell_type": "code",
   "execution_count": null,
   "metadata": {},
   "outputs": [],
   "source": [
    "selected_years = np.logical_and(wheat[:,1]>=1650, wheat[:,1]<1700) # a Boolean array\n",
    "print(kg_per_week[selected_years])  # select all elements of prices_kg where selected_years is True"
   ]
  },
  {
   "cell_type": "markdown",
   "metadata": {},
   "source": [
    "Note what we have done here. We have applied a test to one array (the years) and then used that to index a second array, because we know that they both correspond to the same ordering of elements."
   ]
  },
  {
   "cell_type": "markdown",
   "metadata": {},
   "source": [
    "Now we can easily find the mean price of wheat for any period we want:"
   ]
  },
  {
   "cell_type": "code",
   "execution_count": null,
   "metadata": {},
   "outputs": [],
   "source": [
    "# adjust as you wish\n",
    "start = 1500\n",
    "stop = 1750\n",
    "print(np.mean(kg_per_week[np.logical_and(wheat[:,1]>=start, wheat[:,1]<stop)]))"
   ]
  },
  {
   "cell_type": "markdown",
   "metadata": {},
   "source": [
    "## min, max, arg*\n",
    "\n",
    "What is least affordable wheat price and what is the most affordable wheat price? This is again an aggregation operation that produces a summary result. `np.min` and `np.max` will tell us, taking the maximum or minimum across the whole array.\n",
    "\n"
   ]
  },
  {
   "cell_type": "code",
   "execution_count": null,
   "metadata": {},
   "outputs": [],
   "source": [
    "print(\"Least kg wheat affordable in the period: \", np.min(kg_per_week))\n",
    "print(\"Most kg wheat affordable in the period: \", np.max(kg_per_week))"
   ]
  },
  {
   "cell_type": "markdown",
   "metadata": {},
   "source": [
    "Perhaps more importantly: when did that occur? What years were most affordable or least affordable?\n",
    "\n",
    "There are two very useful operations that can help us: `np.argmax` which returns the **index** at which a maximum is found, and `np.argmin` which returns the index at which a minimum is found.\n",
    "    \n",
    "    "
   ]
  },
  {
   "cell_type": "code",
   "execution_count": null,
   "metadata": {},
   "outputs": [],
   "source": [
    "print(\"Index with most affordable wheat\", np.argmax(kg_per_week)) "
   ]
  },
  {
   "cell_type": "markdown",
   "metadata": {},
   "source": [
    "The key idea is that we can use this to cross-reference to the years:"
   ]
  },
  {
   "cell_type": "code",
   "execution_count": 1,
   "metadata": {},
   "outputs": [
    {
     "ename": "NameError",
     "evalue": "name 'wheat' is not defined",
     "output_type": "error",
     "traceback": [
      "\u001b[1;31m---------------------------------------------------------------------------\u001b[0m",
      "\u001b[1;31mNameError\u001b[0m                                 Traceback (most recent call last)",
      "\u001b[1;32m<ipython-input-1-985dc873de86>\u001b[0m in \u001b[0;36m<module>\u001b[1;34m()\u001b[0m\n\u001b[0;32m      4\u001b[0m \u001b[1;31m# that maximises the array kg_per_week\u001b[0m\u001b[1;33m\u001b[0m\u001b[1;33m\u001b[0m\u001b[0m\n\u001b[0;32m      5\u001b[0m \u001b[1;31m# This only makes sense because kg_per_week is the same size as the years column\u001b[0m\u001b[1;33m\u001b[0m\u001b[1;33m\u001b[0m\u001b[0m\n\u001b[1;32m----> 6\u001b[1;33m \u001b[0mprint\u001b[0m\u001b[1;33m(\u001b[0m\u001b[1;34m\"Most afforadble year\"\u001b[0m\u001b[1;33m,\u001b[0m \u001b[0mwheat\u001b[0m\u001b[1;33m[\u001b[0m\u001b[1;33m:\u001b[0m\u001b[1;33m,\u001b[0m\u001b[1;36m1\u001b[0m\u001b[1;33m]\u001b[0m\u001b[1;33m[\u001b[0m\u001b[0mnp\u001b[0m\u001b[1;33m.\u001b[0m\u001b[0margmax\u001b[0m\u001b[1;33m(\u001b[0m\u001b[0mkg_per_week\u001b[0m\u001b[1;33m)\u001b[0m\u001b[1;33m]\u001b[0m\u001b[1;33m)\u001b[0m \u001b[1;31m# most wheat afforded\u001b[0m\u001b[1;33m\u001b[0m\u001b[0m\n\u001b[0m\u001b[0;32m      7\u001b[0m \u001b[0mprint\u001b[0m\u001b[1;33m(\u001b[0m\u001b[1;34m\"Least affordable year\"\u001b[0m\u001b[1;33m,\u001b[0m \u001b[0mwheat\u001b[0m\u001b[1;33m[\u001b[0m\u001b[1;33m:\u001b[0m\u001b[1;33m,\u001b[0m\u001b[1;36m1\u001b[0m\u001b[1;33m]\u001b[0m\u001b[1;33m[\u001b[0m\u001b[0mnp\u001b[0m\u001b[1;33m.\u001b[0m\u001b[0margmin\u001b[0m\u001b[1;33m(\u001b[0m\u001b[0mkg_per_week\u001b[0m\u001b[1;33m)\u001b[0m\u001b[1;33m]\u001b[0m\u001b[1;33m)\u001b[0m \u001b[1;31m# least wheat afforded\u001b[0m\u001b[1;33m\u001b[0m\u001b[0m\n",
      "\u001b[1;31mNameError\u001b[0m: name 'wheat' is not defined"
     ]
    }
   ],
   "source": [
    "# note the syntax:\n",
    "# wheat[:,1] selects the \"years\" column\n",
    "# [np.argmax(kg_per_week)] selects the element of that column with the index\n",
    "# that maximises the array kg_per_week\n",
    "# This only makes sense because kg_per_week is the same size as the years column\n",
    "print(\"Most afforadble year\", wheat[:,1][np.argmax(kg_per_week)]) # most wheat afforded\n",
    "print(\"Least affordable year\", wheat[:,1][np.argmin(kg_per_week)]) # least wheat afforded\n"
   ]
  },
  {
   "cell_type": "markdown",
   "metadata": {},
   "source": [
    "Let's verify if that looks right, with a graph:"
   ]
  },
  {
   "cell_type": "code",
   "execution_count": null,
   "metadata": {},
   "outputs": [],
   "source": [
    "# create a new figure\n",
    "fig = plt.figure(figsize=(8,4))\n",
    "ax = fig.add_subplot(1,1,1)\n",
    "\n",
    "# plot the wheat price against the year\n",
    "ax.plot(wheat[:,1], kg_per_week, label=\"kg per week\")\n",
    "ax.axvline(wheat[:,1][np.argmax(kg_per_week)], label=\"Maximum affordability\", color='C1')\n",
    "ax.axvline(wheat[:,1][np.argmin(kg_per_week)], label=\"Minimum affordability\", color='C2')\n",
    "# add some labels\n",
    "ax.set_xlabel(\"Year\")\n",
    "ax.set_ylabel(\"Kg of wheat afforded\")\n",
    "# add a legend\n",
    "ax.legend()"
   ]
  },
  {
   "cell_type": "markdown",
   "metadata": {},
   "source": [
    "What's the **second** least affordable year? We don't have an equivalent `np.argmin()` for second smallest. But there is a more general function that can answer any query of this type.\n",
    "\n",
    "`np.argsort(x)` returns the indices that would sort `x` (ascending order by default)"
   ]
  },
  {
   "cell_type": "code",
   "execution_count": null,
   "metadata": {},
   "outputs": [],
   "source": [
    "ordering = np.argsort(kg_per_week)\n",
    "print(ordering)"
   ]
  },
  {
   "cell_type": "code",
   "execution_count": null,
   "metadata": {},
   "outputs": [],
   "source": [
    "print(\"Least affordable\", kg_per_week[ordering[0]]) # smallest amount afforded\n",
    "print(\"Second least affordable\", kg_per_week[ordering[1]]) # *second* smallest amount afforded\n",
    "print(\"Year when second least affordable\", wheat[ordering[1], 1]) # year when when  second smallest amount afforded"
   ]
  },
  {
   "cell_type": "markdown",
   "metadata": {},
   "source": [
    "We can use an array of numbers as an index to another array, similarly to how we did for Booleans. If that array of numbers is the result of `argsort`, we will sort the array:"
   ]
  },
  {
   "cell_type": "code",
   "execution_count": null,
   "metadata": {},
   "outputs": [],
   "source": [
    "print(kg_per_week[ordering])"
   ]
  },
  {
   "cell_type": "code",
   "execution_count": null,
   "metadata": {},
   "outputs": [],
   "source": [
    "# verify this is the same as sorting it\n",
    "print(np.sort(kg_per_week[ordering]))"
   ]
  },
  {
   "cell_type": "markdown",
   "metadata": {},
   "source": [
    "Now we can print out the years, in order of wheat price, least affordable first:"
   ]
  },
  {
   "cell_type": "code",
   "execution_count": null,
   "metadata": {},
   "outputs": [],
   "source": [
    "print(wheat[ordering, 1])"
   ]
  },
  {
   "cell_type": "markdown",
   "metadata": {},
   "source": [
    "We could also try plotting the ordering against the year. If our hypothesis was that wheat was getting more affordable, we should see an increasing trend. The ordering gives us the \"rank\" of each year, in terms of how affordable food was, where 0=least affordable year, 1=second least affordable, etc."
   ]
  },
  {
   "cell_type": "code",
   "execution_count": null,
   "metadata": {},
   "outputs": [],
   "source": [
    "# create a new figure\n",
    "fig = plt.figure(figsize=(8,4))\n",
    "ax = fig.add_subplot(1,1,1)\n",
    "\n",
    "# plot the wheat price against the year\n",
    "ax.scatter(wheat[:,1], ordering, label=\"Rank\")\n",
    "# add some labels\n",
    "ax.set_xlabel(\"Year\")\n",
    "ax.set_ylabel(\"Affordability ranking\")\n",
    "# add a legend\n",
    "ax.legend()"
   ]
  },
  {
   "cell_type": "markdown",
   "metadata": {},
   "source": [
    "## Slice assignment\n",
    "\n",
    "What if we didn't *believe* the data from 1650-1700 was accurate? We might want to show a graph that had that portion omitted.\n",
    "\n",
    "We already know how to find the indices corresponding to the region 1650-1700. We need to be able to somehow set the values in this range so they are not plotted.\n",
    "\n",
    "There are three things that are useful to know:\n",
    "* **Slicing works in assignments too.** `x[0:5]=0` sets elements 0 to 5 of `x` to zero.\n",
    "* **There is a special value, \"not a number\" or NaN that can be used to indicate that a point should not be drawn in a graph.**\n",
    "* **We can copy arrays using `np.array(x)` or `x.copy()`**"
   ]
  },
  {
   "cell_type": "code",
   "execution_count": null,
   "metadata": {},
   "outputs": [],
   "source": [
    "# test slice assignment out\n",
    "x = np.array([1,2,3,4,5])\n",
    "# remember -2: means \"second last\" to \"the end\"\n",
    "x[-2:] = 50 # set last two elements to 50\n",
    "print(x)"
   ]
  },
  {
   "cell_type": "markdown",
   "metadata": {},
   "source": [
    "We must be careful that if we *modify* an array, we do not modify something we don't mean to. If we directly modify `kg_per_week`, then every use of `kg_per_week` will have changed. If we want to experiment with different options, we should copy `kg_per_week` and modify the copy.\n",
    "    "
   ]
  },
  {
   "cell_type": "markdown",
   "metadata": {},
   "source": [
    "We can set a whole portion of an array a simple operation:"
   ]
  },
  {
   "cell_type": "code",
   "execution_count": null,
   "metadata": {},
   "outputs": [],
   "source": [
    "\n",
    "# specify the elements we want to modify\n",
    "selected_years = np.logical_and(wheat[:,1]>=1600, wheat[:,1]<1700)\n",
    "# copy the array, to not modify kg_per_week\n",
    "kg_per_week_copy = kg_per_week.copy()\n",
    "# now, we set all of the selected years to the special\n",
    "# value np.na\n",
    "kg_per_week_copy[selected_years] = np.nan"
   ]
  },
  {
   "cell_type": "code",
   "execution_count": null,
   "metadata": {},
   "outputs": [],
   "source": [
    "# create a new figure\n",
    "fig = plt.figure(figsize=(8,4))\n",
    "ax = fig.add_subplot(1,1,1)\n",
    "\n",
    "\n",
    "# plot the original data in a dashed line\n",
    "ax.plot(wheat[:,1], kg_per_week, ls=':')\n",
    "\n",
    "# plot the wheat price against the year\n",
    "# this will have a gap where we removed the data\n",
    "# by setting it to np.nan\n",
    "ax.plot(wheat[:,1], kg_per_week_copy, label=\"kg per week\")\n",
    "\n",
    "# add some labels\n",
    "ax.set_xlabel(\"Year\")\n",
    "ax.set_ylabel(\"Kg of wheat afforded\")\n",
    "# add a legend\n",
    "ax.legend()"
   ]
  },
  {
   "cell_type": "markdown",
   "metadata": {},
   "source": [
    "## Accumulation\n",
    "\n",
    "If a worker bought as much wheat as they could afford, each year, at that year's price, (and never ate any!) how much wheat would they accumulate at each point in their lifetime? Could we make a chart of the wheat hoard accumulated by such a worker?\n",
    "\n",
    "Assume a worker earns a wage for 50 years. Starting in 1700, say, we could select the relevant portion of wheat afforded:\n"
   ]
  },
  {
   "cell_type": "code",
   "execution_count": null,
   "metadata": {},
   "outputs": [],
   "source": [
    "worker_life = np.logical_and(wheat[:,1]>=1700, wheat[:,1]<1750)\n",
    "kg_per_week[worker_life]"
   ]
  },
  {
   "cell_type": "markdown",
   "metadata": {},
   "source": [
    "We could multiply these weekly figures by 52 to get the wheat per year:"
   ]
  },
  {
   "cell_type": "code",
   "execution_count": null,
   "metadata": {},
   "outputs": [],
   "source": [
    "kg_per_year = kg_per_week[worker_life] * 52"
   ]
  },
  {
   "cell_type": "markdown",
   "metadata": {},
   "source": [
    "`sum` would give us the total amount of wheat for the whole lifetime. If, however, we wanted to plot a graph of how big the wheat hoard was each year, we would need something slightly different: the **cumulative sum**. In NumPy `np.cumsum` works like `sum` but **returns all the intermediate sums.**"
   ]
  },
  {
   "cell_type": "code",
   "execution_count": null,
   "metadata": {},
   "outputs": [],
   "source": [
    "print(np.sum(kg_per_year)) # the sum\n",
    "np.cumsum(kg_per_year)     # the cumulative sum"
   ]
  },
  {
   "cell_type": "code",
   "execution_count": null,
   "metadata": {},
   "outputs": [],
   "source": [
    "# create a new figure\n",
    "fig = plt.figure(figsize=(8,4))\n",
    "ax = fig.add_subplot(1,1,1)\n",
    "\n",
    "# plot the wheat price against the year\n",
    "ax.plot(wheat[worker_life,1], np.cumsum(kg_per_year), label=\"Wheat hoard\")\n",
    "# add some labels\n",
    "ax.set_xlabel(\"Year\")\n",
    "ax.set_ylabel(\"Kg in the wheat hoard\")\n",
    "# add a legend\n",
    "ax.legend()"
   ]
  },
  {
   "cell_type": "markdown",
   "metadata": {},
   "source": [
    "This is an example of an **accumulation operation**, which applies an operation to a sequence of values and maintains the intermediate values.\n",
    "\n",
    "### The opposite of cumulative sum: differencing\n",
    "A corresponding operation is `np.diff()`, which computes the running difference. We can use it to plot the *change* in wheat affordability (the difference in wheat afforded from one year to the next):"
   ]
  },
  {
   "cell_type": "code",
   "execution_count": null,
   "metadata": {},
   "outputs": [],
   "source": [
    "# create a new figure\n",
    "fig = plt.figure(figsize=(8,4))\n",
    "ax = fig.add_subplot(1,1,1)\n",
    "\n",
    "# plot the wheat price against the year (step will make a clearer plot here)\n",
    "# note that diff will give us one *less* value than we input, so we drop\n",
    "# the first row of the wheat table using 1: to compensate\n",
    "ax.step(wheat[1:,1], np.diff(kg_per_week), label=\"Wheat differential\")\n",
    "\n",
    "ax.set_xlabel(\"Year\")\n",
    "ax.set_ylabel(\"Change in kg\")\n",
    "# add a legend\n",
    "ax.legend()"
   ]
  },
  {
   "cell_type": "markdown",
   "metadata": {},
   "source": [
    "We can see, for example, that it looks like there was a massive drop in the wheat afforded just before 1800, with the average skilled worker getting almost 2 kg less wheat a week than in the previous year.\n",
    "\n",
    "\n",
    "\n"
   ]
  }
 ],
 "metadata": {
  "kernelspec": {
   "display_name": "Python 3 (ipykernel)",
   "language": "python",
   "name": "python3"
  },
  "language_info": {
   "codemirror_mode": {
    "name": "ipython",
    "version": 3
   },
   "file_extension": ".py",
   "mimetype": "text/x-python",
   "name": "python",
   "nbconvert_exporter": "python",
   "pygments_lexer": "ipython3",
   "version": "3.9.7"
  },
  "varInspector": {
   "cols": {
    "lenName": 16,
    "lenType": 16,
    "lenVar": 40
   },
   "kernels_config": {
    "python": {
     "delete_cmd_postfix": "",
     "delete_cmd_prefix": "del ",
     "library": "var_list.py",
     "varRefreshCmd": "print(var_dic_list())"
    },
    "r": {
     "delete_cmd_postfix": ") ",
     "delete_cmd_prefix": "rm(",
     "library": "var_list.r",
     "varRefreshCmd": "cat(var_dic_list()) "
    }
   },
   "types_to_exclude": [
    "module",
    "function",
    "builtin_function_or_method",
    "instance",
    "_Feature"
   ],
   "window_display": false
  }
 },
 "nbformat": 4,
 "nbformat_minor": 2
}

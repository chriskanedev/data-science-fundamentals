{
 "cells": [
  {
   "cell_type": "markdown",
   "metadata": {
    "slideshow": {
     "slide_type": "slide"
    }
   },
   "source": [
    "## Data Science Fundamentals \n",
    "# Lecture 1: Numerical Basics\n",
    "## Numerical arrays and vectorized computation\n",
    "----\n",
    " ##### DSF - University of Glasgow - Chris McCaig - 2021/2022\n",
    " \n",
    "<!-- $$\\newcommand{\\vec}[1]{ {\\bf #1}} \n",
    "\\newcommand{\\real}{\\mathbb{R}}\n",
    "\\newcommand{\\expect}[1]{\\mathbb{E}[#1]}\n",
    "\\DeclareMathOperator*{\\argmin}{arg\\,min}\n",
    "\\vec{x}\n",
    "\\real$$ -->\n",
    "\n",
    "# Moodle quiz: open during class only"
   ]
  },
  {
   "cell_type": "markdown",
   "metadata": {
    "slideshow": {
     "slide_type": "slide"
    }
   },
   "source": [
    "# Summary\n",
    "By the end of this unit you should know:\n",
    "\n",
    "## 1: Why use arrays\n",
    "* what vectorized computation is\n",
    "* what numerical arrays are and what they are useful for\n",
    "* the general categories of array operations\n",
    "* how images and sounds map onto arrays\n",
    "\n",
    "---"
   ]
  },
  {
   "cell_type": "markdown",
   "metadata": {
    "slideshow": {
     "slide_type": "slide"
    }
   },
   "source": [
    "---\n",
    "\n",
    "# Summary\n",
    "By the end of this unit you should know:\n",
    "\n",
    "## 2: Typing and shapes of arrays\n",
    "* the naming of different types of arrays (vector, matrix, tensor)\n",
    "* what shape and dtype are\n",
    "* what axes of an array are and how they are named (row, column, etc.)\n",
    "---"
   ]
  },
  {
   "cell_type": "markdown",
   "metadata": {
    "slideshow": {
     "slide_type": "slide"
    }
   },
   "source": [
    "# Summary\n",
    "By the end of this unit you should know:\n",
    "\n",
    "## 3: Creating, indexing, slicing, joining and rotating\n",
    "* creating new arrays\n",
    "* slicing and indexing operations and their syntax\n",
    "* how to rotate, flip and transpose arrays\n",
    "* how to split and join arrays and the rules governing this\n",
    "* boolean arrays and fancy indexing\n",
    "---"
   ]
  },
  {
   "cell_type": "code",
   "execution_count": null,
   "metadata": {
    "slideshow": {
     "slide_type": "skip"
    }
   },
   "outputs": [],
   "source": [
    "import IPython.display\n",
    "IPython.display.HTML(\"\"\"\n",
    "<script>\n",
    "  function code_toggle() {\n",
    "    if (code_shown){\n",
    "      $('div.input').hide('500');\n",
    "      $('#toggleButton').val('Show Code')\n",
    "    } else {\n",
    "      $('div.input').show('500');\n",
    "      $('#toggleButton').val('Hide Code')\n",
    "    }\n",
    "    code_shown = !code_shown\n",
    "  }\n",
    "\n",
    "  $( document ).ready(function(){\n",
    "    code_shown=false;\n",
    "    $('div.input').hide()\n",
    "  });\n",
    "</script>\n",
    "<form action=\"javascript:code_toggle()\"><input type=\"submit\" id=\"toggleButton\" value=\"Show Code\"></form>\"\"\")"
   ]
  },
  {
   "cell_type": "markdown",
   "metadata": {
    "slideshow": {
     "slide_type": "slide"
    }
   },
   "source": [
    "**Install Utilities**\n",
    "\n",
    "You only need to run this command once, to install the library: remove '**#**' and run command"
   ]
  },
  {
   "cell_type": "code",
   "execution_count": 1,
   "metadata": {
    "slideshow": {
     "slide_type": "-"
    }
   },
   "outputs": [
    {
     "name": "stdout",
     "output_type": "stream",
     "text": [
      "Collecting https://github.com/johnhw/jhwutils/zipball/master\n",
      "  Downloading https://github.com/johnhw/jhwutils/zipball/master\n",
      "\u001b[K     \\ 36 kB 47 kB/sss\n",
      "\u001b[?25hBuilding wheels for collected packages: jhwutils\n",
      "  Building wheel for jhwutils (setup.py) ... \u001b[?25ldone\n",
      "\u001b[?25h  Created wheel for jhwutils: filename=jhwutils-1.0-py3-none-any.whl size=31798 sha256=4a02568924d3aef679b57203aa090a0a7e6e2f05ef536bb3e7e1a3d11678ef91\n",
      "  Stored in directory: /private/var/folders/kt/l7s39wy92jx8r7391478dkpc0000gn/T/pip-ephem-wheel-cache-gqzp1y1h/wheels/22/cf/fc/464198e5e7ba125a8fc9bb20e6297eb4deac9061eda6860554\n",
      "Successfully built jhwutils\n",
      "Installing collected packages: jhwutils\n",
      "Successfully installed jhwutils-1.0\n"
     ]
    }
   ],
   "source": [
    "!pip install -U --no-cache https://github.com/johnhw/jhwutils/zipball/master"
   ]
  },
  {
   "cell_type": "code",
   "execution_count": null,
   "metadata": {
    "slideshow": {
     "slide_type": "subslide"
    }
   },
   "outputs": [],
   "source": [
    "# various imports we will need\n",
    "import numpy as np\n",
    "import matplotlib as mpl\n",
    "import matplotlib.pyplot as plt\n",
    "\n",
    "import jhwutils.image_audio as image_audio\n",
    "from jhwutils.image_audio import (\n",
    "    play_sound,\n",
    "    show_image,\n",
    "    load_image_colour,\n",
    "    load_image_gray,\n",
    "    show_image_mpl,\n",
    "    load_sound,\n",
    "    play_sound,\n",
    ")\n",
    "from jhwutils.matrices import show_boxed_tensor_latex, print_matrix\n",
    "\n",
    "%matplotlib inline\n",
    "plt.rc(\"figure\", figsize=(14.0, 7.0))"
   ]
  },
  {
   "cell_type": "markdown",
   "metadata": {
    "slideshow": {
     "slide_type": "slide"
    }
   },
   "source": [
    "# Why use arrays?"
   ]
  },
  {
   "cell_type": "markdown",
   "metadata": {
    "slideshow": {
     "slide_type": "-"
    }
   },
   "source": [
    "# ndarray - Our basic datatype\n",
    "There are several basic data types you will have encountered in CS so far, including:\n",
    "* lists (sequence types)\n",
    "* strings (character sequences)\n",
    "* dictionaries/hash tables (maps)\n",
    "* classes/structures (record types)\n",
    "* trees \n",
    "\n",
    "----  "
   ]
  },
  {
   "cell_type": "markdown",
   "metadata": {
    "slideshow": {
     "slide_type": "skip"
    }
   },
   "source": [
    "## ndarrays\n",
    "The fundamental data type for this course is the **multidimensional numerical array** (of floating point numbers). This is a very powerful data type, although simple in structure, there are great many operations that can be done elegantly with an array.\n",
    "\n",
    "We will call these arrays **ndarrays** (for *n-dimensional arrays*) or sometimes **tensors** (in reference to the mathematical object which generalises vectors and matrices to higher orders), which some people use. \n"
   ]
  },
  {
   "cell_type": "markdown",
   "metadata": {
    "slideshow": {
     "slide_type": "slide"
    }
   },
   "source": [
    "# Why use arrays?\n",
    "### Images, sounds, videos\n",
    "* An *image* is a 2D array of brightness values;\n",
    "* a *sound* is a 1D array of sound pressure levels; \n",
    "* a *video* is a 3D array of brightness values (x, y, and time).\n",
    "\n",
    "- Manipulations (e.g. brightening a video, mixing together two sounds, cropping a video, rotating a 3D model) are very straightforward to express in terms of array operations. \n",
    "- This leads to compact, elegant code that can be astonishingly efficient."
   ]
  },
  {
   "cell_type": "markdown",
   "metadata": {
    "slideshow": {
     "slide_type": "slide"
    }
   },
   "source": [
    "### Scientific data\n",
    "Scientific data can be conveniently represented as numerical arrays. \n",
    "\n",
    "Operations we want to do to scientific data are easily expressed as array operations.\n",
    "\n",
    "\n",
    "### 3D graphics\n",
    "3D computer graphics involves manipulating **geometry**. \n",
    "\n",
    "Geometry is specified as simple geometric shapes, like triangles, made up of points -- **vertices** -- typically with an $[x,y,z]$ location. \n",
    "\n",
    "Operations like moving, rotating, scaling of objects are operations on big arrays of these vertices."
   ]
  },
  {
   "cell_type": "markdown",
   "metadata": {
    "slideshow": {
     "slide_type": "skip"
    }
   },
   "source": [
    "### Scientific data\n",
    "Scientific data (e.g. from physics experiments, weather models, even models of how people choose search terms on Google) can often be most conveniently represented as numerical arrays. The kind of operations we want to do to scientific data (e.g. find the weather most similar today in the historical record) are easily expressed as array operations.\n",
    "\n",
    "\n",
    "### 3D graphics\n",
    "3D computer graphics, as you would encounter in a game or VR, usually involves manipulating **geometry**. Geometry is typically specified as simple geometric shapes, like triangles. These shapes are made up of points -- **vertices** -- typically with an $[x,y,z]$ location. Operations like moving, rotating, scaling of objects are operations on big arrays of these vertices:"
   ]
  },
  {
   "cell_type": "markdown",
   "metadata": {
    "slideshow": {
     "slide_type": "slide"
    }
   },
   "source": [
    "    vec3 player = [\n",
    "            [x,y,z]\n",
    "            [x,y,z]\n",
    "            ...\n",
    "        ]\n",
    "    \n",
    "<img src=\"imgs/low_poly.jpg\">  "
   ]
  },
  {
   "cell_type": "markdown",
   "metadata": {
    "slideshow": {
     "slide_type": "slide"
    }
   },
   "source": [
    "Manipulating positions in space efficiently is important in making computer graphics programming work.\n",
    "\n",
    "#### Abstraction and elegance\n",
    "By using a numerical array, we can extend operations we apply to single numbers (like integers or floats) to entire arrays of numbers: \n",
    "\n",
    "e.g. if we have an array of 100 3D positions `pos`, it would be very nice if we could scale all of the points by a factor of 2 (double in size) and move the whole array 100 units right like this:\n",
    "\n",
    "    pos = pos * 2 + [100,0,0]\n",
    "    "
   ]
  },
  {
   "cell_type": "markdown",
   "metadata": {
    "slideshow": {
     "slide_type": "skip"
    }
   },
   "source": [
    "This very clearly expresses the operation to be performed. Applying an identical operation to many elements of an array simultaneously is a very useful operation. "
   ]
  },
  {
   "cell_type": "markdown",
   "metadata": {
    "slideshow": {
     "slide_type": "subslide"
    }
   },
   "source": [
    "Code which can express this type of operation without explicit loops is a easier to read and write. Consider the alternative:\n",
    "    \n",
    "    new_pos = []\n",
    "    for x,y,z in pos:\n",
    "        new_pos.append((2*x+100, 2*y+0, 2*z+0))\n",
    "    pos = new_pos"
   ]
  },
  {
   "cell_type": "markdown",
   "metadata": {
    "slideshow": {
     "slide_type": "slide"
    }
   },
   "source": [
    "### Mathematical power\n",
    "Rich set of mathematical abstractions that work on spaces defined over array-valued elements: \n",
    "\n",
    "- **linear algebra** provides tools to work with 1D arrays (*vectors*) and 2D arrays (*matrices*) \n",
    "- can be used to solve many difficult problems. \n",
    "- with types represented as basic types in a programming language working with linear algebraic problems is much easier."
   ]
  },
  {
   "cell_type": "markdown",
   "metadata": {
    "slideshow": {
     "slide_type": "slide"
    }
   },
   "source": [
    "#### Deep learning\n",
    "\"Deep learning\" has had a major impact in the last ten years:\n",
    "* Cutting edge speech synthesis: wavenet\n",
    "* State of the art image recognition: inceptionnet\n",
    "* Auto captioning images: image-from-text\n",
    "* Recognising sentiment from words: word2vec\n",
    "* Synthesizing images: stackgan\n",
    "\n",
    "Key to deep learning is to represent data as arrays of numbers and to do **all** computations as array operations: \n",
    "\n",
    "- i.e. perform operations that act on all elements of an array simultaneously."
   ]
  },
  {
   "cell_type": "markdown",
   "metadata": {
    "slideshow": {
     "slide_type": "slide"
    }
   },
   "source": [
    "### Vectorisation: one operation, many data\n",
    "Writing code that acts on arrays of values simultaneously is called **vectorised computation**. \n",
    "\n",
    "This a special case of **parallel** computing: \n",
    "\n",
    "- restrict ourselves to numerical operations on fixed size arrays \n",
    "- modern CPUs have many **vectorised** instructions \n",
    "- can perform the same operation on many numbers at once (e.g. MMX, SSE, SSE2, SSE3 on x86, NEON on ARM, etc.)\n",
    "- this is called **Single Instruction Multiple Data**."
   ]
  },
  {
   "cell_type": "markdown",
   "metadata": {
    "slideshow": {
     "slide_type": "slide"
    }
   },
   "source": [
    "#### GPUs\n",
    "**Graphics processor units** are by far the most powerful computational units in any modern computer/phone: \n",
    "- essentially supercomputers on a card \n",
    "- can perform calculation  much more quickly than CPU \n",
    "<img src=\"imgs/gtx-1070.jpg\" alt=\"Drawing\" style=\"width: 500px;\"/>"
   ]
  },
  {
   "cell_type": "markdown",
   "metadata": {
    "slideshow": {
     "slide_type": "slide"
    }
   },
   "source": [
    "#### GPUs are array processors\n",
    "**But** effectively big groups of very simple processors \n",
    "- able to deal very well with data in numerical arrays\n",
    "- slow when working with other data structures \n",
    "- anything that can be written as an array operation can be done at lightning speed on a GPU. \n",
    "\n",
    "\n",
    "- GPUs are basically devices that can do computations on numerical arrays, **and that's it** \n",
    "- to write (efficient) GPU code, you need to write code in terms of numerical arrays\n"
   ]
  },
  {
   "cell_type": "markdown",
   "metadata": {
    "slideshow": {
     "slide_type": "slide"
    }
   },
   "source": [
    "### Efficiency\n",
    "Numerical arrays are **compact** (they store data in an efficient way) and **computationally efficient** (possible to write code that manipulates arrays quickly)\n",
    "\n",
    "<video src=\"imgs/noaa.mp4\" autoplay loop controls width=\"50%\">\n",
    "\n",
    "*[Image credit: NOAA, Public domain]*\n",
    "\n",
    "For big, number-focused problems like:\n",
    "* weather simulation\n",
    "* image processing\n",
    "* speech recognition\n",
    "* machine learning\n",
    "\n",
    "arrays are the best way we have of solving these problems. \n",
    "\n",
    "In big, text-heavy problems with irregular structure, databases are a more natural structure to store and work with data."
   ]
  },
  {
   "cell_type": "markdown",
   "metadata": {
    "slideshow": {
     "slide_type": "slide"
    }
   },
   "source": [
    "<img src=\"imgs/spread.png\" width=\"25%\">\n",
    "\n",
    "Array types are like entire *spreadsheets in a single variable*, which you can perform standard spreadsheet operations on:\n",
    "* tallying up columns \n",
    "* selecting values which have a certain range\n",
    "* plotting charts\n",
    "* joining together several sheets \n",
    "\n",
    "Abstraction of array types makes it easy to do complex operations with a standard spreadsheet. And they work on data beyond just 2D tables."
   ]
  },
  {
   "cell_type": "markdown",
   "metadata": {
    "slideshow": {
     "slide_type": "slide"
    }
   },
   "source": [
    "## Typing and shapes of arrays\n",
    "### Vector, matrix, tensor\n",
    "**ndarrays** can have different *dimensions*; sometimes called *ranks*, as in a \"*rank-3 tensor*\" or \"3D array\" , meaning an array with rows, columns and channels.\n",
    "\n",
    "<img src=\"imgs/ranks.png\" width=\"350px\">"
   ]
  },
  {
   "cell_type": "code",
   "execution_count": null,
   "metadata": {
    "slideshow": {
     "slide_type": "subslide"
    }
   },
   "outputs": [],
   "source": [
    "# a vector of length 1\n",
    "[0]\n",
    "\n",
    "# a vector of length 3\n",
    "# (e.g. a position in 3D space)\n",
    "[1, 2, 3]\n",
    "\n",
    "# a vector of length 8\n",
    "[0, 0, 0, 0, 1, 0, 0, 0]"
   ]
  },
  {
   "cell_type": "code",
   "execution_count": null,
   "metadata": {},
   "outputs": [],
   "source": [
    "show_boxed_tensor_latex(np.array([0, 1, 2, 3]))"
   ]
  },
  {
   "cell_type": "markdown",
   "metadata": {
    "slideshow": {
     "slide_type": "slide"
    }
   },
   "source": [
    "#### Vector\n",
    "We call a 1D array of values a **vector**: for example:\n",
    "\n",
    "    #a 3 element vector\n",
    "     [1,2,3]\n",
    "\n",
    "#### Matrix\n",
    "A 2D array of values is called a **matrix**, and is formed of rows and columns:\n",
    "\n",
    "    #a 3 x 3 matrix\n",
    "     [[1,2,3],\n",
    "      [4,5,6],   \n",
    "      [7,8,9]]\n"
   ]
  },
  {
   "cell_type": "markdown",
   "metadata": {
    "slideshow": {
     "slide_type": "slide"
    }
   },
   "source": [
    "#### Tensors\n",
    "\n",
    "Any array with more than 2 dimensions is just called an **nD array**  (**n d**imensional array) or sometimes a **tensor**. There isn't a convenient mathematical notation for tensors.\n",
    "\n",
    "    # a 2 x 3 x 3 tensor\n",
    "    [[[1,2,3],\n",
    "      [4,5,6],   \n",
    "      [7,8,9]],\n",
    "      \n",
    "      [10,11,12],\n",
    "      [13,14,15],   \n",
    "      [16,17,18]]]"
   ]
  },
  {
   "cell_type": "markdown",
   "metadata": {
    "slideshow": {
     "slide_type": "subslide"
    }
   },
   "source": [
    "Often easiest to think of tensors as arrays of matrices or vectors (e.g a 3D tensor is really a stack of 2D matrices, a 4D array is a grid of 2D matrices, a 5D array is a stack of those grids, etc.)\n",
    "\n",
    "    # a 2 x 2 x 3 x 3 tensor \n",
    "    # notice how it is really a 2x2 array,\n",
    "    # with each element being a 3x3 subarray\n",
    "        [[[[ 1  2  3]     [[[19 20 21] \n",
    "           [ 4  5  6]       [22 23 24]\n",
    "           [ 7  8  9]]      [25 26 27]]\n",
    "\n",
    "          [[10 11 12]      [[28 29 30]         \n",
    "           [13 14 15]       [31 32 33]\n",
    "           [16 17 18]]]     [34 35 36]]]]\n",
    "           \n",
    "Typically don't encounter tensors with more than 6 dimensions\n",
    "- these would require enormous amounts of memory to store \n",
    "- don't correspond to many real-world use cases. "
   ]
  },
  {
   "cell_type": "markdown",
   "metadata": {
    "slideshow": {
     "slide_type": "slide"
    }
   },
   "source": [
    "## Axes\n",
    "Often refer to specific dimensions as **axes** or **dimensions**: e.g.\n",
    "- a matrix (a 2D array) has two axes: **rows** (axis 0) and **columns** (axis 1)\n",
    "- a vector has just one axis, axis 0. \n",
    "- a 4D tensor has 4 axes, indexed 0, 1, 2, 3.\n",
    "\n",
    "Many operations can be selectively applied only on certain axes \n",
    "- very useful way to specify the effect of an operation."
   ]
  },
  {
   "cell_type": "markdown",
   "metadata": {
    "slideshow": {
     "slide_type": "slide"
    }
   },
   "source": [
    "# Array operations\n",
    "Unlike data structures you are familiar with (lists, dictionaries, strings), there are **many** operations defined on arrays \n",
    "- some are convenience operations\n",
    "- but there are many fundamental operations as well"
   ]
  },
  {
   "cell_type": "markdown",
   "metadata": {
    "slideshow": {
     "slide_type": "slide"
    }
   },
   "source": [
    "## Array operations\n",
    "- Generalise ideas we have seen on sequence types to sequences across multiple dimensions \n",
    "- means we can do things like slicing or summing elements, but over *independent dimensions*\n",
    "- these will be very *very* fast, and memory efficient.\n",
    "\n",
    "The most important classes of operations that we will cover are:"
   ]
  },
  {
   "cell_type": "markdown",
   "metadata": {
    "slideshow": {
     "slide_type": "subslide"
    }
   },
   "source": [
    "* **Slice**: slice out rectangular regions, for reading or writing.\n",
    "    * Chop out second to tenth rows of a 2D matrix: `x[1:9, :]`\n",
    "    * Set the second column to 0 `x[:,1] = 0`\n",
    "* **Filter**: find values matching criteria.\n",
    "    * select elements of x where x is negative `x[x<0]`\n",
    "* **Reduce**: aggregate across dimensions.\n",
    "    * compute sum of each column;  `np.sum(x, axis=0)`\n",
    "* **Map**: apply functions or arithmetic operations elementwise\n",
    "    * add 1 to every element of x `x+1` \n",
    "    * add x and y `x+y` \n",
    "    * take the sine of every element of x `np.sin(x)`"
   ]
  },
  {
   "cell_type": "markdown",
   "metadata": {
    "slideshow": {
     "slide_type": "subslide"
    }
   },
   "source": [
    "* **Concatenate and repeat**:\n",
    "    * stick x and y together one on top of the other; np.concatenate([x,y], axis=0)\n",
    "    * repeat x 8 times across the columns; np.tile(x, [1,8])\n",
    "* **Generate**:\n",
    "    * create arrays of all zeros: `np.full((8,8),0)`\n",
    "    * create \"counting\" arrays: `np.arange(10)`\n",
    "    * load arrays from files or save them to disk.\n",
    "* **Reorder**\n",
    "    * reverse/flip axes\n",
    "    * sort axes\n",
    "    * exchange rows/columns (transpose)\n",
    "    "
   ]
  },
  {
   "cell_type": "markdown",
   "metadata": {
    "slideshow": {
     "slide_type": "subslide"
    }
   },
   "source": [
    "### No explicit iteration\n",
    "\n",
    "\n",
    "We operate on arrays without writing explicit iterations wherever possible. This has two effects:\n",
    "\n",
    "* The code is **much simpler**. Adding two arrays with `c=a+b` is simpler than:\n",
    "\n",
    "        for i in range(n):\n",
    "            for j in range(m):\n",
    "                c[i][j] = a[i][j] + b[i][j]\n",
    "                \n",
    "* The code is **much faster**. The operations can be run in accelerated routines, or with hardware acceleration, e.g. on the GPU.\n",
    "    "
   ]
  },
  {
   "cell_type": "markdown",
   "metadata": {
    "slideshow": {
     "slide_type": "slide"
    }
   },
   "source": [
    "## Vectors and matrices\n",
    "As well as being convenient to implement in silicon, arrays correspond to rich mathematical objects.\n",
    "### Geometry of vectors\n",
    "1D arrays can be used to represent vectors, which have a mathematical structure that is essential in: \n",
    "- modeling physical systems\n",
    "- building information retrieval systems\n",
    "- machine learning\n",
    "- 3D rendering "
   ]
  },
  {
   "cell_type": "markdown",
   "metadata": {
    "slideshow": {
     "slide_type": "subslide"
    }
   },
   "source": [
    "### Geometry of vectors\n",
    "Vectors have length and direction:\n",
    "- they can be added, subtractedor scaled \n",
    "- various products are defined on vectors. Arrays are often used to represent vectors; for example a 2D array might be used to store a sequence of vectors (perhaps positions in space), which could be operated on simultaneously.\n",
    "\n",
    "We write a vector a bold letter lower case symbol: $\\bf x$ (other notations include an arrow or bar above an upper case symbol)."
   ]
  },
  {
   "cell_type": "markdown",
   "metadata": {
    "slideshow": {
     "slide_type": "subslide"
    }
   },
   "source": [
    "### Signal arrays\n",
    "1D arrays can also be used to represent **signals** \n",
    "- sequences of measurements over time \n",
    "- signals include images, sounds, and other time series\n",
    "- signals can be scaled, mixed, chopped up and rearranged, filtered, and processed in many other ways.\n",
    "\n",
    "The use of arrays to represent sequences and vectors is not exclusive; some operations use both representations simultaneously. We typically write a signal as $x[t]$."
   ]
  },
  {
   "cell_type": "markdown",
   "metadata": {
    "slideshow": {
     "slide_type": "subslide"
    }
   },
   "source": [
    "### Algebra of matrices\n",
    "2D arrays are matrices, which have an algebra: **linear algebra**\n",
    "- a matrix represents a **linear map**, a particular kind of function which operates on vectors (in **vector space**)\n",
    "- the operation of the function is completely defined by the elements of that matrix. \n",
    "\n",
    "Linear algebra is extremely rich can is used to perform many essential computations\n",
    "- 3D rendering involves matrix operations (e.g. coordinate transformation)\n",
    "- it has many interesting features\n",
    "-- multiplication **applies** the map when multiplying with vectors\n",
    "-- **composes** the map when multiplying with other matrices. \n",
    "\n",
    "We write a matrix as an upper case symbol $A$. \n",
    "    "
   ]
  },
  {
   "cell_type": "markdown",
   "metadata": {
    "slideshow": {
     "slide_type": "subslide"
    }
   },
   "source": [
    "### Mathematical operations\n",
    "We have specialised mathematical operations we can apply to arrays\n",
    "* **Vector operations**: apply geometric effects to vectors: dot product, cross product, norm\n",
    "    * e.g. getting the Euclidean length of a vector\n",
    "* **Matrix operations**: linear algebra operations like multiplication, transpose, inverse, matrix exponentials, decompositions\n",
    "    * e.g. multiplying together two 3D transformation matrices\n",
    "* **Signal processing operations**: convolution, Fourier transform, numerical gradients, cumulative summation\n",
    "    * e.g. blurring an image using a convolution"
   ]
  },
  {
   "cell_type": "markdown",
   "metadata": {
    "slideshow": {
     "slide_type": "slide"
    }
   },
   "source": [
    "------     \n",
    "## Statically typed, rectangular arrays: **ndarrays**\n",
    "\n",
    "**ndarrays** (n-dimensional arrays) represent sequences. However, arrays are not like lists. \n",
    "\n",
    "They have\n",
    "* **fixed, predefined** size (or \"shape\")\n",
    "* **fixed, predefined** type (all elements have the same type)\n",
    "* they can only hold numbers (typically integers or floating-point)\n",
    "* they are inherently multidimensional\n",
    "* they are required to be \"rectangular\" -- a 2D array must have the same number of columns in each row, for example."
   ]
  },
  {
   "cell_type": "markdown",
   "metadata": {
    "slideshow": {
     "slide_type": "subslide"
    }
   },
   "source": [
    "Valid array:\n",
    "\n",
    "    1,0,0   # each row has three elements\n",
    "    0,1,0\n",
    "    0,0,1\n",
    "    \n",
    "Invalid array:\n",
    "\n",
    "    1,0,0,0,0   # 5 elements\n",
    "    0,1         # 2 elements\n",
    "    0,0,1       # 3 elements\n",
    "    \n",
    "* type of array has to be specified very precisely; e.g. specify the precision of floating point numbers if we use floats (usually 32 or 64 bits).\n",
    "\n",
    "* arrays cannot be extended or resized after they have been created\n",
    "\n",
    "* arrays **are** typically mutable, the values they hold can be changed after creation"
   ]
  },
  {
   "cell_type": "markdown",
   "metadata": {
    "slideshow": {
     "slide_type": "slide"
    }
   },
   "source": [
    "### Why do we have to type arrays?\n",
    "\n",
    "Python is dynamically typed and doesn't require types to be specified. \n",
    "\n",
    "But the elements **within** the array are **not** Python values\n",
    "- stored as a block of \"raw numbers\"\n",
    "- with information that tells us e.g. the dimensions of the array\n",
    "     - the type of the elements\n",
    "- entire array is one *single* value\n",
    "- through some clever syntax it *looks* as if it is made up of individual (Python values)\n",
    "- access and change the values *as if* they were Python values, but internally they are quite different."
   ]
  },
  {
   "cell_type": "markdown",
   "metadata": {
    "slideshow": {
     "slide_type": "subslide"
    }
   },
   "source": [
    "#### Reasons for typing\n",
    "**ndrrays**: wrapper around raw blocks of memory\n",
    "- this makes them compact and efficient.\n",
    "\n",
    "- numerical arrays are **much** more efficiently packed into memory\n",
    "- operations on them can be performed **extremely** quickly \n",
    "\n",
    "- same is true for other platforms and languages\n",
    "    - numerical arrays are implemented to be the fastest and smallest possible structure for representing blocks of numbers"
   ]
  },
  {
   "cell_type": "markdown",
   "metadata": {
    "slideshow": {
     "slide_type": "slide"
    }
   },
   "source": [
    "# Practical array manipulation\n",
    "## NumPy\n",
    "\n",
    "We use Python with some additional modules \n",
    "- **NumPy** which provides fast array operations\n",
    "- **SciPy** which provides a range of scientific functionality (e.g. statistics) \n",
    "- **Matplotlib** which provides plotting and visualisation functionality.\n",
    "\n",
    "It has very high performance routines for computations (based on optimized Fortran+C code) and an easy to use API."
   ]
  },
  {
   "cell_type": "markdown",
   "metadata": {
    "slideshow": {
     "slide_type": "slide"
    }
   },
   "source": [
    "#### Other languages\n",
    "Other languages have numerical libraries which support similar functionality to NumPy\n",
    "- either as built-in features (e.g. Matlab, R, APL, Julia) \n",
    "- or as external libraries (e.g. Eigen for C++, MKL for C, ND4J for Java)\n",
    "\n",
    "We use NumPy throughout this course (mainly because it is by far the easiest to use option!) \n",
    "- the fundamental ideas generalise outside of the Python ecosystem. \n",
    "- operations we use are standard operations on arrays, not special to NumPy\n",
    "\n",
    "We usually import it like this:"
   ]
  },
  {
   "cell_type": "markdown",
   "metadata": {
    "slideshow": {
     "slide_type": "slide"
    }
   },
   "source": [
    "## Shape and dtype\n",
    "Every array is characterised by two things:\n",
    "* the type of its elements: the **dtype** (e.g.` float64`)\n",
    "* its **shape**: that is, its dimensions. For example, 32x8\n",
    "\n",
    "### Order\n",
    "We always discuss the shape of arrays in the order\n",
    "* rows\n",
    "* columns\n",
    "* depth/frames/channels/planes/..."
   ]
  },
  {
   "cell_type": "markdown",
   "metadata": {
    "slideshow": {
     "slide_type": "slide"
    }
   },
   "source": [
    "**This ordering is important: remember it!**\n",
    "\n",
    "So a 2x3 array means 2 rows, 3 columns:\n",
    "$$\\begin{bmatrix}\n",
    "0 & 0 & 0 \\\\\n",
    "0 & 0 & 0\n",
    "\\end{bmatrix}$$\n",
    "\n",
    "A 3x2 array means 3 rows, 2 columns:\n",
    "$$\\begin{bmatrix}\n",
    "0 & 0  \\\\\n",
    "0 & 0  \\\\\n",
    "0 & 0  \\\\\n",
    "\\end{bmatrix}$$\n",
    "\n",
    "\n",
    "A 32x8 array has 32 rows of 8 columns each. It has 256 elements (`32*8=256`) in total."
   ]
  },
  {
   "cell_type": "markdown",
   "metadata": {
    "slideshow": {
     "slide_type": "slide"
    }
   },
   "source": [
    "### Indexing and axes\n",
    "We index from **0**, so element [0,1] of an array means *first row, second column*.\n",
    "\n",
    "The **dimensions** of an array are often called its **axes**. Do not confuse this with axes or dimension of a vector space! The number of dimensions of an array is sometimes called its **rank** (this is distinct from the concept of *rank* in linear algebra, if you are familiar with this). \n",
    "\n",
    "* A scalar is a rank 0 tensor\n",
    "* A vector is a rank 1  tensor (1 dimensional array)\n",
    "* A matrix is a rank 2 tensor (2 dimensional array)\n",
    "* A stack of matrices is a rank 3 tensor (3 dimensional array)\n",
    "* and so on..."
   ]
  },
  {
   "cell_type": "markdown",
   "metadata": {
    "slideshow": {
     "slide_type": "slide"
    }
   },
   "source": [
    "## Dtypes\n",
    "**dtype** just stands for the *d*ata *type*, and it is the data type of every element in an array (what kind of number it is). For the moment, we will assume we get floating point elements in our arrays: we'll discuss this in more detail later. Every element has the same *dtype*; it applies to the whole array.\n",
    "\n",
    "Common *dtypes* are:\n",
    "* `float64` double-precision float numbers\n",
    "* `float32` single-precision float numbers\n",
    "* `int32` signed 32 bit integers\n",
    "* `uint8` unsigned 8 bit integers\n",
    "\n",
    "though there are many more.\n"
   ]
  },
  {
   "cell_type": "markdown",
   "metadata": {
    "slideshow": {
     "slide_type": "slide"
    }
   },
   "source": [
    "We can interrogate an array to see its *shape* and *dtype*:"
   ]
  },
  {
   "cell_type": "code",
   "execution_count": null,
   "metadata": {
    "slideshow": {
     "slide_type": "-"
    }
   },
   "outputs": [],
   "source": [
    "x = np.zeros((3,3))\n",
    "print('dtype =',x.dtype)\n",
    "print('shape = ', x.shape)"
   ]
  },
  {
   "cell_type": "markdown",
   "metadata": {
    "slideshow": {
     "slide_type": "slide"
    }
   },
   "source": [
    "## Images and sounds\n",
    "Images and sounds are classic examples of arrays. They are naturally manipulated using array abstractions.\n",
    "For example, we can load an image from disk, and its `shape` will be its resolution:"
   ]
  },
  {
   "cell_type": "code",
   "execution_count": null,
   "metadata": {
    "slideshow": {
     "slide_type": "-"
    }
   },
   "outputs": [],
   "source": [
    "from matplotlib.image import imread\n",
    "\n",
    "img = imread('imgs/rocks.png')\n",
    "print(type(img),'shape = ',img.shape)"
   ]
  },
  {
   "cell_type": "markdown",
   "metadata": {
    "slideshow": {
     "slide_type": "-"
    }
   },
   "source": [
    "As we will see in detail later, we can for example plot this data array in one go:"
   ]
  },
  {
   "cell_type": "code",
   "execution_count": null,
   "metadata": {
    "slideshow": {
     "slide_type": "skip"
    }
   },
   "outputs": [],
   "source": [
    "import matplotlib.pyplot as plt\n",
    "%matplotlib inline \n",
    "\n",
    "fig = plt.figure()\n",
    "ax = fig.add_subplot(1,1,1)\n",
    "\n",
    "ax.plot(sunspots[:,1], sunspots[:,2])\n",
    "ax.set_xlabel(\"Year\")\n",
    "ax.set_ylabel(\"No. of sunspots\")"
   ]
  },
  {
   "cell_type": "code",
   "execution_count": null,
   "metadata": {
    "slideshow": {
     "slide_type": "skip"
    }
   },
   "outputs": [],
   "source": [
    "fig = plt.figure()\n",
    "ax = fig.add_subplot(1,1,1)\n",
    "ax.plot(snd)\n",
    "ax.set_xlabel(\"Samples\")\n",
    "ax.set_ylabel(\"Amplitude (normalised)\")"
   ]
  },
  {
   "cell_type": "markdown",
   "metadata": {
    "slideshow": {
     "slide_type": "slide"
    }
   },
   "source": [
    "# Array ops: creation, indexing, slicing, joining and rotating\n"
   ]
  },
  {
   "cell_type": "markdown",
   "metadata": {
    "slideshow": {
     "slide_type": "slide"
    }
   },
   "source": [
    "---\n",
    "## Creating arrays\n",
    "### Converting and copying: np.array\n",
    "New arrays can be created in several ways:\n",
    "\n",
    "* Converted from another sequence type, like a list: `np.array()` does this.\n",
    "* Created blank and filled with some value.  This is often essential in creating temporary variables, for example to accumulate results into.\n",
    "* Filled with random values.\n",
    "* Loaded from disk.\n",
    "\n",
    "`np.array()` takes a sequence and converts it into an array; this can be, for example, a list.\n",
    "It works for multidimensional arrays as well, given nested sequences. "
   ]
  },
  {
   "cell_type": "markdown",
   "metadata": {
    "slideshow": {
     "slide_type": "slide"
    }
   },
   "source": [
    "## Mutability and copying\n",
    "`np.array()` can take any sequence, including another ndarray. So it can be used to copy arrays:\n",
    "\n",
    "This is important, because NumPy arrays are **mutable**, and if several variables refer to the **same** array, the effects might not be what you expect:"
   ]
  },
  {
   "cell_type": "code",
   "execution_count": null,
   "metadata": {
    "slideshow": {
     "slide_type": "-"
    }
   },
   "outputs": [],
   "source": [
    "x = np.array((0,1,2,3,4))\n",
    "print_matrix(\"x\",x)\n",
    "y = x\n",
    "x[0] = 5\n",
    "print_matrix(\"x(after)\",x)\n",
    "print_matrix(\"y\",y)"
   ]
  },
  {
   "cell_type": "markdown",
   "metadata": {
    "slideshow": {
     "slide_type": "slide"
    }
   },
   "source": [
    "We need to explicitly copy arrays if we want to work on a new array:"
   ]
  },
  {
   "cell_type": "code",
   "execution_count": null,
   "metadata": {
    "slideshow": {
     "slide_type": "-"
    }
   },
   "outputs": [],
   "source": [
    "x = np.array((0,1,2,3,4))\n",
    "print_matrix(\"x\",x)\n",
    "y = np.array(x)\n",
    "x[0] = 5\n",
    "print_matrix(\"x(after)\",x)\n",
    "print_matrix(\"y\",y)"
   ]
  },
  {
   "cell_type": "code",
   "execution_count": null,
   "metadata": {
    "slideshow": {
     "slide_type": "-"
    }
   },
   "outputs": [],
   "source": [
    "x = np.array([1,2,3])\n",
    "y = np.array(x) # copy\n",
    "z = x.copy() # same thing as using np.array(x)\n",
    "x[0] = 0\n",
    "print_matrix(\"x\",x) # 0 2 3\n",
    "print_matrix(\"y\",y) # still 1 2 3\n",
    "print_matrix(\"z\",z)"
   ]
  },
  {
   "cell_type": "markdown",
   "metadata": {
    "slideshow": {
     "slide_type": "slide"
    }
   },
   "source": [
    "### Ragged arrays (bad!)\n",
    "What happens if we **don't** follow the rectangular array rule?"
   ]
  },
  {
   "cell_type": "code",
   "execution_count": null,
   "metadata": {
    "slideshow": {
     "slide_type": "-"
    }
   },
   "outputs": [],
   "source": [
    "x = ((1,2,3),(1,2,3,4))\n",
    "x"
   ]
  },
  {
   "cell_type": "code",
   "execution_count": null,
   "metadata": {
    "slideshow": {
     "slide_type": "-"
    }
   },
   "outputs": [],
   "source": [
    "y=np.array(x)"
   ]
  },
  {
   "cell_type": "markdown",
   "metadata": {
    "slideshow": {
     "slide_type": "-"
    }
   },
   "source": [
    "In general, *never* create ragged arrays. Always make sure you are creating rectangular arrays!"
   ]
  },
  {
   "cell_type": "markdown",
   "metadata": {
    "slideshow": {
     "slide_type": "slide"
    }
   },
   "source": [
    "# Blank arrays\n",
    "\n",
    "There are a number of methods all of which do essentially the same thing; allocate a new array with a given shape, and possibly fill it with a value.\n",
    "\n",
    "* `np.empty(shape)`, which allocates memory for an array, but does not initialise it\n",
    "* `np.zeros(shape)`,  which initialises all elements to 0\n",
    "* `np.ones(shape)`,  which initialises all elements to 1\n",
    "* `np.full(shape, value)` which initialises all elements to `value`\n",
    "\n",
    "These are just calling `np.empty(shape)` to create a new array and then filling it with a given value."
   ]
  },
  {
   "cell_type": "markdown",
   "metadata": {
    "slideshow": {
     "slide_type": "slide"
    }
   },
   "source": [
    "For example, `x = np.ones((5,8))` is exactly the same as:"
   ]
  },
  {
   "cell_type": "code",
   "execution_count": null,
   "metadata": {
    "slideshow": {
     "slide_type": "subslide"
    }
   },
   "outputs": [],
   "source": [
    "x = np.empty((5,8))\n",
    "x[:] = 1\n",
    "print_matrix(\"x\",x)"
   ]
  },
  {
   "cell_type": "markdown",
   "metadata": {
    "slideshow": {
     "slide_type": "slide"
    }
   },
   "source": [
    "### Blank like\n",
    "Similarly, we can create blank arrays with the same shape and dtype as an existing array using the `_like` variants. `y = np.zeros_like(x)` is exactly the same as:\n",
    "\n",
    "    y = np.empty(x.shape, dtype=x.dtype)\n",
    "    y[:] = 0.0  "
   ]
  },
  {
   "cell_type": "markdown",
   "metadata": {
    "slideshow": {
     "slide_type": "subslide"
    }
   },
   "source": [
    "### Random arrays\n",
    "We can also generate random numbers to fill arrays. Many algorithms use arrays of\n",
    "random numbers as their basic \"fuel\". \n",
    "\n",
    "* `np.random.randint(a,b,shape)` creates an array with uniform random *integers* between a and (excluding) b\n",
    "* `np.random.uniform(a,b,shape)` creates an array with uniform random *floating point* numbers between a and b\n",
    "* `np.random.normal(mean,std,shape)` creates an array with normally distributed random floating point numbers between with the given mean and standard deviation.\n"
   ]
  },
  {
   "cell_type": "markdown",
   "metadata": {
    "slideshow": {
     "slide_type": "slide"
    }
   },
   "source": [
    "# Ranges"
   ]
  },
  {
   "cell_type": "markdown",
   "metadata": {
    "slideshow": {
     "slide_type": "-"
    }
   },
   "source": [
    "## arange\n",
    "We can create a vector of increasing values using `arange` (**a**rray **range**), which works like the built in Python function `range` does, but returns an 1D array (a vector) instead of a list.\n",
    "\n",
    "`np.arange()` takes one to three parameters:\n",
    "* `np.arange(end)`  -- returns a vector of numbers 0..end-1\n",
    "* `np.arange(start, end)`  -- returns a vector of numbers start..end-1\n",
    "*  `np.arange(start, end, step)` --returns a vector of numbers start..end-1, incrementing by step (which may be **negative** and/or **fractional**!)\n"
   ]
  },
  {
   "cell_type": "code",
   "execution_count": null,
   "metadata": {
    "slideshow": {
     "slide_type": "slide"
    }
   },
   "outputs": [],
   "source": [
    "print_matrix(\"np.arange(5)\",np.arange(5))"
   ]
  },
  {
   "cell_type": "code",
   "execution_count": null,
   "metadata": {
    "slideshow": {
     "slide_type": "-"
    }
   },
   "outputs": [],
   "source": [
    "print_matrix(\"np.arange(2,5)\",np.arange(2,5))"
   ]
  },
  {
   "cell_type": "code",
   "execution_count": null,
   "metadata": {
    "slideshow": {
     "slide_type": "-"
    }
   },
   "outputs": [],
   "source": [
    "print_matrix(\"np.arange(0,10,2)\",np.arange(0,10,2))"
   ]
  },
  {
   "cell_type": "markdown",
   "metadata": {
    "slideshow": {
     "slide_type": "slide"
    }
   },
   "source": [
    "### Linspace\n",
    "`np.arange` is useful for generating evenly spaced values, but it is parameterised in a form that can be awkward. "
   ]
  },
  {
   "cell_type": "markdown",
   "metadata": {
    "slideshow": {
     "slide_type": "-"
    }
   },
   "source": [
    "`np.linspace(start, stop, steps)` is a much easier to use alternative. `linspace` stands for \"**lin**early **space**d\", and it generates `steps` values between `start` and `stop` **inclusive**. "
   ]
  },
  {
   "cell_type": "code",
   "execution_count": null,
   "metadata": {
    "slideshow": {
     "slide_type": "-"
    }
   },
   "outputs": [],
   "source": [
    "print_matrix(\"np.linspace(0,4,5)\",np.linspace(0,4,5))"
   ]
  },
  {
   "cell_type": "markdown",
   "metadata": {
    "slideshow": {
     "slide_type": "slide"
    }
   },
   "source": [
    "### Loading and saving arrays\n",
    "I/O with arrays is a critical part of any numerical computation system. There are a huge number of ways to store and recall arrays, including:\n",
    "* simple text formats like CSV (comma separated values)\n",
    "* binary formats for storing single or multiple arrays like mat and npz\n",
    "* specialised scientific data formats like HDF5 (often used for huge datasets)\n",
    "* domain-specific formats like images (png, jpg, etc.), sounds (wav, mp3, etc.), 3D geometry (obj, ...)\n",
    "\n",
    "#### Text files\n",
    "*  `np.loadtxt(fname)` and \n",
    "* `np.savetxt(arr, fname)` \n",
    "\n",
    "work on simple text files."
   ]
  },
  {
   "cell_type": "code",
   "execution_count": null,
   "metadata": {
    "slideshow": {
     "slide_type": "subslide"
    }
   },
   "outputs": [],
   "source": [
    "x = np.loadtxt('data/Wheat.csv',delimiter=',')\n",
    "print(x.shape)\n",
    "\n",
    "np.savetxt(\"data/mydata.csv\",x)"
   ]
  },
  {
   "cell_type": "markdown",
   "metadata": {
    "slideshow": {
     "slide_type": "slide"
    }
   },
   "source": [
    "# Slicing and indexing arrays\n",
    "Arrays can be indexed like lists or sequences (in Python, this uses square brackets []), but arrays can have **multidimensional** indices. These are indices which are really tuples of values.\n",
    "\n",
    "This means we write the variable, with the index in square brackets, where the index might have comma separated values. Indices start at **zero**!"
   ]
  },
  {
   "cell_type": "code",
   "execution_count": null,
   "metadata": {
    "slideshow": {
     "slide_type": "subslide"
    }
   },
   "outputs": [],
   "source": [
    "wheat = np.loadtxt('data/Wheat.csv',delimiter=',')\n",
    "print_matrix(\"wheat[:3,:3]\",wheat[:3,:3])"
   ]
  },
  {
   "cell_type": "markdown",
   "metadata": {
    "slideshow": {
     "slide_type": "skip"
    }
   },
   "source": [
    "Indexing, and its counterpart slicing, are two of the most important array operations.\n",
    "\n",
    "The general format follows the same principles as `arange()`, taking 0-3 parameters separated by a `:`\n",
    "\n",
    "    start : stop : step\n",
    "    \n",
    "Where `start` is the index to start from, `stop` is the end, and `step` is the jump to make between each step. **Any of these parts can be omitted**.\n",
    "\n",
    "* If there is no colon, this specifies a specific index, for example x[0] or x[18]\n",
    "* If there is one colon, this is a range; for example x[2:5] or x[:4] or x[0:]\n",
    "* If there are two colons, this is a range with a step, like x[0:10:2], or x[:10:2] or x[::-1]\n",
    "\n",
    "* If `start` is missing, it defaults to 0\n",
    "* If `end` is missing, it defaults to the last element\n",
    "* If `step` is missing, it defaults to 1. You don't need to include the second colon if you are omitting step, though it's not an error to do so.\n",
    "\n",
    "\n",
    "\n",
    "#### Negative indices\n",
    "Negative indices mean *counting from the end*; so `x[-1]` is the last element, `x[-2]` is the second last, etc.\n",
    "\n",
    "If we specify an axis as an index (no range), we get back a  **slice** of that array, with fewer dimensions. If `x` is 2D, then `x[0,:]` is the first row (a 1D vector), and `x[:,0]` is the first column (a 1D vector)."
   ]
  },
  {
   "cell_type": "markdown",
   "metadata": {
    "slideshow": {
     "slide_type": "slide"
    }
   },
   "source": [
    "### Slicing versus indexing\n",
    "\n",
    "* **Slicing** does not change the rank of an array. It selects a rectangular subset with the same number of dimensions.\n",
    "* **Indexing** reduces the rank of an array (usually). It selects a rectangular subset where one dimension is a singleton, and removes that dimension."
   ]
  },
  {
   "cell_type": "code",
   "execution_count": null,
   "metadata": {
    "slideshow": {
     "slide_type": "-"
    }
   },
   "outputs": [],
   "source": [
    "x=np.arange(20)\n",
    "x.shape=(4,5)\n",
    "print_matrix(\"x[:,::2]\",x[:,::2])"
   ]
  },
  {
   "cell_type": "code",
   "execution_count": null,
   "metadata": {},
   "outputs": [],
   "source": [
    "print_matrix(\"x[:,2]\",x[:,2])"
   ]
  },
  {
   "cell_type": "code",
   "execution_count": null,
   "metadata": {
    "slideshow": {
     "slide_type": "subslide"
    }
   },
   "outputs": [],
   "source": [
    "x=np.arange(20)\n",
    "x.shape=(4,5)\n",
    "print_matrix(\"x[:,::2]\",x[:,::2])"
   ]
  },
  {
   "cell_type": "markdown",
   "metadata": {
    "slideshow": {
     "slide_type": "slide"
    }
   },
   "source": [
    "### Sounds\n",
    "Likewise, we can chop out a bit of a sound by slicing, or even reverse it and pitch it up:"
   ]
  },
  {
   "cell_type": "code",
   "execution_count": null,
   "metadata": {
    "slideshow": {
     "slide_type": "-"
    }
   },
   "outputs": [],
   "source": [
    "snd = load_sound(\"sounds/guitar.wav\")\n",
    "play_sound(snd)  # original"
   ]
  },
  {
   "cell_type": "code",
   "execution_count": null,
   "metadata": {
    "slideshow": {
     "slide_type": "-"
    }
   },
   "outputs": [],
   "source": [
    "play_sound(snd[4000:18000]) # slice"
   ]
  },
  {
   "cell_type": "code",
   "execution_count": null,
   "metadata": {
    "slideshow": {
     "slide_type": "-"
    }
   },
   "outputs": [],
   "source": [
    "play_sound(snd[::-1]) # backwards"
   ]
  },
  {
   "cell_type": "code",
   "execution_count": null,
   "metadata": {
    "slideshow": {
     "slide_type": "subslide"
    }
   },
   "outputs": [],
   "source": [
    "play_sound(snd[::2]) # double speed (horrible interpolation+aliasing artifacts)"
   ]
  },
  {
   "cell_type": "markdown",
   "metadata": {
    "slideshow": {
     "slide_type": "slide"
    }
   },
   "source": [
    "## Boolean tests\n",
    "We can do any test (like equality, greater than, etc.) on arrays as well: the result is a **Boolean array**, with the same shape as the original array (despite how they appear, these are actually numeric arrays internally):"
   ]
  },
  {
   "cell_type": "code",
   "execution_count": null,
   "metadata": {
    "slideshow": {
     "slide_type": "-"
    }
   },
   "outputs": [],
   "source": [
    "x=np.arange(20)\n",
    "x.shape=(4,5)\n",
    "print_matrix(\"x>10\",x>10)"
   ]
  },
  {
   "cell_type": "markdown",
   "metadata": {
    "slideshow": {
     "slide_type": "slide"
    }
   },
   "source": [
    "## Rearranging arrays\n",
    "\n",
    "Arrays can be transformed and reshaped; this means that they keep the same elements, but the arrangements of the elements are changed. For example, the sequence \n",
    "    \n",
    "    [1,2,3,4,5,6]\n",
    "    \n",
    "could be rearranged into\n",
    "\n",
    "    [6,5,4,3,2,1]\n",
    "\n",
    "which has the same elements but now ordered backwards. \n",
    "\n",
    "These operations are often very useful to rearrange arrays so that broadcasting operations can be carried out effectively.\n"
   ]
  },
  {
   "cell_type": "code",
   "execution_count": null,
   "metadata": {
    "slideshow": {
     "slide_type": "subslide"
    }
   },
   "outputs": [],
   "source": [
    "x=np.arange(7)\n",
    "x[::-1]"
   ]
  },
  {
   "cell_type": "markdown",
   "metadata": {
    "slideshow": {
     "slide_type": "slide"
    }
   },
   "source": [
    "## Transposition\n",
    "A particularly useful transformation of an array is the **transpose** which exchanges rows and columns (this isn't the same as rotating 90 degrees!). There is special syntax for this because it is so often used:\n",
    "\n",
    "We write `x.T` to get the transpose of `x`."
   ]
  },
  {
   "cell_type": "code",
   "execution_count": null,
   "metadata": {
    "slideshow": {
     "slide_type": "-"
    }
   },
   "outputs": [],
   "source": [
    "x=np.arange(20)\n",
    "x.shape=(4,5)\n",
    "print_matrix(\"x.T\",x.T)"
   ]
  },
  {
   "cell_type": "markdown",
   "metadata": {
    "slideshow": {
     "slide_type": "-"
    }
   },
   "source": [
    "Transposition has *no effect* on a 1D array, and it reverses the order of all dimensions in >2D arrays."
   ]
  },
  {
   "cell_type": "markdown",
   "metadata": {
    "slideshow": {
     "slide_type": "subslide"
    }
   },
   "source": [
    "Note that transposing is a very fast operation -- it does not (normally) copy the array data, but just changes how it is accessed, and thus has virtually no time penalty, and completes in O(1) time. We will discuss how this is possible in the next lecture."
   ]
  },
  {
   "cell_type": "code",
   "execution_count": null,
   "metadata": {
    "slideshow": {
     "slide_type": "subslide"
    }
   },
   "outputs": [],
   "source": [
    "## show that transpose is fast, and does not depend on array sizze\n",
    "x300 = np.zeros((300,300))\n",
    "x3 = np.zeros((3,3))"
   ]
  },
  {
   "cell_type": "code",
   "execution_count": null,
   "metadata": {
    "slideshow": {
     "slide_type": "subslide"
    }
   },
   "outputs": [],
   "source": [
    "%%timeit\n",
    "x3.T"
   ]
  },
  {
   "cell_type": "code",
   "execution_count": null,
   "metadata": {
    "slideshow": {
     "slide_type": "subslide"
    }
   },
   "outputs": [],
   "source": [
    "%%timeit\n",
    "x300.T"
   ]
  },
  {
   "cell_type": "markdown",
   "metadata": {
    "slideshow": {
     "slide_type": "slide"
    }
   },
   "source": [
    "### Flip, rotate\n",
    "As well as transposition, arrays can also be flipped and rotated in a single operation using indexing (there are also convenience functions like `fliplr` and `rot90` but we will keep it simple here):\n",
    "    "
   ]
  },
  {
   "cell_type": "code",
   "execution_count": null,
   "metadata": {
    "slideshow": {
     "slide_type": "-"
    }
   },
   "outputs": [],
   "source": [
    "x=np.arange(20)\n",
    "x.shape=(4,5)\n",
    "print_matrix(\"x[::-1,::]\",x[::-1,::],\"\\n\")\n",
    "print_matrix(\"x[::,::-1]\",x[::,::-1],\"\\n\")"
   ]
  },
  {
   "cell_type": "code",
   "execution_count": null,
   "metadata": {
    "slideshow": {
     "slide_type": "slide"
    }
   },
   "outputs": [],
   "source": [
    "print_matrix(\"x\", x)\n",
    "\n",
    "# left-right flip\n",
    "print_matrix(\"\\\\text{fliplr}(x)\", x[:, ::-1]) # ::-1 --> reverse order\n",
    "# up-down flip\n",
    "print_matrix(\"\\\\text{flipud}(x)\", x[::-1, :])\n",
    "\n",
    "# rotate 90 (same as transpose + flipud)\n",
    "print_matrix(\"\\\\text{rot90}(x)\", x.T[::-1, :])"
   ]
  },
  {
   "cell_type": "code",
   "execution_count": null,
   "metadata": {
    "slideshow": {
     "slide_type": "slide"
    }
   },
   "outputs": [],
   "source": [
    "owl = load_image_colour(\"imgs/owl.png\")\n",
    "show_image(owl, width=\"50%\")"
   ]
  },
  {
   "cell_type": "code",
   "execution_count": null,
   "metadata": {
    "slideshow": {
     "slide_type": "slide"
    }
   },
   "outputs": [],
   "source": [
    "# flip up-down\n",
    "show_image(owl[::-1, :], width=\"50%\")"
   ]
  },
  {
   "cell_type": "code",
   "execution_count": null,
   "metadata": {
    "slideshow": {
     "slide_type": "slide"
    }
   },
   "outputs": [],
   "source": [
    "# flip left-right\n",
    "show_image(owl[:,::-1], width=\"50%\")"
   ]
  },
  {
   "cell_type": "code",
   "execution_count": null,
   "metadata": {
    "slideshow": {
     "slide_type": "slide"
    }
   },
   "outputs": [],
   "source": [
    "# rotate 90\n",
    "show_image(owl[::-1, :].swapaxes(0,1), width=\"50%\")"
   ]
  },
  {
   "cell_type": "markdown",
   "metadata": {
    "slideshow": {
     "slide_type": "skip"
    }
   },
   "source": [
    "#### Symmetric owls"
   ]
  },
  {
   "cell_type": "code",
   "execution_count": null,
   "metadata": {
    "slideshow": {
     "slide_type": "subslide"
    }
   },
   "outputs": [],
   "source": [
    "# split the owl into a left and right half\n",
    "h,w,d = owl.shape\n",
    "\n",
    "left = owl[:, :w//2, :]  # //2 just means integer division by 2 (i.e. no floating point part)\n",
    "right = owl[:, w//2:, :]\n",
    "## we'll see concatenate in a moment\n",
    "show_image(np.concatenate([left, left[:,::-1]], axis=1), width=\"50%\")"
   ]
  },
  {
   "cell_type": "markdown",
   "metadata": {
    "slideshow": {
     "slide_type": "slide"
    }
   },
   "source": [
    "# Cut+tape operations\n",
    "## Joining and stacking\n",
    "We can also join arrays together. But unlike simple structures like lists, we have to explicitly state on which **dimension** we are going to join. And we must adhere to the rule that the output array has rectangular shape; we can't end up with a \"ragged\" array. (arrays are *always* rectangular)\n",
    "\n",
    "<img src=\"imgs/join.png\" width=\"240px\">"
   ]
  },
  {
   "cell_type": "markdown",
   "metadata": {
    "slideshow": {
     "slide_type": "subslide"
    }
   },
   "source": [
    "<img src=\"imgs/join2.png\" width=\"240px\">\n",
    "\n",
    "### concatenate and stack\n",
    "Because arrays can be joined together along different axes, there are two distinct kinds of joining:\n",
    "* We can use `concatenate` to join along an *existing* dimension;\n",
    "* or `stack` to stack up arrays along a *new dimension.*"
   ]
  },
  {
   "cell_type": "code",
   "execution_count": null,
   "metadata": {
    "slideshow": {
     "slide_type": "subslide"
    }
   },
   "outputs": [],
   "source": [
    "x=np.arange(4)\n",
    "x.shape=(2,2)\n",
    "print(np.concatenate((x,x),axis=0),\"\\n\")\n",
    "print(np.concatenate((x,x),axis=1),\"\\n\",\"\\n\")\n",
    "print(np.stack((x,x)))"
   ]
  },
  {
   "cell_type": "markdown",
   "metadata": {
    "slideshow": {
     "slide_type": "-"
    }
   },
   "source": [
    "If we `concatenate` when we have multiple dimensions, we can specify explicitly\n",
    "which axis to join on:"
   ]
  },
  {
   "cell_type": "markdown",
   "metadata": {
    "slideshow": {
     "slide_type": "slide"
    }
   },
   "source": [
    "### 2D matrix stacking shorthand"
   ]
  },
  {
   "cell_type": "markdown",
   "metadata": {
    "slideshow": {
     "slide_type": "-"
    }
   },
   "source": [
    "As a shorthand, there are three defined stacking operations for specific axes when working with 2D matrices:\n",
    "* `np.hstack()` stacks horizontally\n",
    "* `np.vstack()` stacks vertically\n",
    "* `np.dstack()` stacks \"depthwise\" (i.e. one matrix on top of another)\n",
    "\n",
    "All of these operate on 2D matrices"
   ]
  },
  {
   "cell_type": "code",
   "execution_count": null,
   "metadata": {
    "slideshow": {
     "slide_type": "subslide"
    }
   },
   "outputs": [],
   "source": [
    "x=np.arange(4)\n",
    "x.shape=(2,2)\n",
    "print(np.vstack((x,x)),\"\\n\")\n",
    "print(np.hstack((x,x)),\"\\n\\n\")\n",
    "print(np.dstack((x,x)))"
   ]
  },
  {
   "cell_type": "markdown",
   "metadata": {
    "slideshow": {
     "slide_type": "slide"
    }
   },
   "source": [
    "## Tiling\n",
    "We often need to be able to **repeat** arrays. This is called **tiling** and `np.tile(a, tiles)` will repeat `a` in the shape given by `tiles`, joining the result together into a single array."
   ]
  },
  {
   "cell_type": "code",
   "execution_count": null,
   "metadata": {
    "slideshow": {
     "slide_type": "-"
    }
   },
   "outputs": [],
   "source": [
    "x=np.arange(4)\n",
    "x.shape=(2,2)\n",
    "np.tile(x,(2,2))"
   ]
  },
  {
   "cell_type": "markdown",
   "metadata": {
    "slideshow": {
     "slide_type": "slide"
    }
   },
   "source": [
    "# Selection and masking\n",
    "Comparisons between arrays result in Boolean arrays, as we have seen:"
   ]
  },
  {
   "cell_type": "code",
   "execution_count": null,
   "metadata": {
    "slideshow": {
     "slide_type": "-"
    }
   },
   "outputs": [],
   "source": [
    "x=np.arange(5)\n",
    "x==x[::-1]"
   ]
  },
  {
   "cell_type": "markdown",
   "metadata": {
    "slideshow": {
     "slide_type": "-"
    }
   },
   "source": [
    "These Boolean arrays have many useful applications in **selecting** specific data, or alternatively **masking** specific data. Selection and masking are basic operations."
   ]
  },
  {
   "cell_type": "markdown",
   "metadata": {
    "slideshow": {
     "slide_type": "slide"
    }
   },
   "source": [
    "## where, nonzero\n",
    "We can use a Boolean array to select elements of an array with `np.where(bool, a,b)` which selects `a` where `bool` is True  and `b` where `bool` is False. `bool`, `a` and `b` must be the same shape, or be broadcastable to the right shape."
   ]
  },
  {
   "cell_type": "code",
   "execution_count": null,
   "metadata": {
    "slideshow": {
     "slide_type": "-"
    }
   },
   "outputs": [],
   "source": [
    "x=np.arange(5)\n",
    "np.where(x>2,x**2,x)"
   ]
  },
  {
   "cell_type": "markdown",
   "metadata": {
    "slideshow": {
     "slide_type": "slide"
    }
   },
   "source": [
    "#### nonzero\n",
    "We can convert a boolean array to an array of **indices** with `nonzero`"
   ]
  },
  {
   "cell_type": "code",
   "execution_count": null,
   "metadata": {
    "slideshow": {
     "slide_type": "-"
    }
   },
   "outputs": [],
   "source": [
    "x=np.arange(5,0,-1)\n",
    "np.nonzero(x>2)"
   ]
  },
  {
   "cell_type": "markdown",
   "metadata": {
    "slideshow": {
     "slide_type": "slide"
    }
   },
   "source": [
    "## Fancy indexing\n",
    "An extension of indexing, which allows us to index arrays with arrays\n",
    "- very powerful operator\n",
    "- we can select *irregular* parts of an array and perform operations on them\n",
    "\n",
    "### Index arrays\n",
    "For example, an array of **integer** indices can be used as an index directly:"
   ]
  },
  {
   "cell_type": "code",
   "execution_count": null,
   "metadata": {
    "slideshow": {
     "slide_type": "subslide"
    }
   },
   "outputs": [],
   "source": [
    "x = np.array([10, 20, 30, 40])\n",
    "y = np.array([0, 1, 1, 2, 2, 1])\n",
    "print_matrix(\"x\", x)\n",
    "print_matrix(\"y\", y)\n",
    "print_matrix(\"x[y]\", x[y])"
   ]
  },
  {
   "cell_type": "code",
   "execution_count": null,
   "metadata": {
    "slideshow": {
     "slide_type": "subslide"
    }
   },
   "outputs": [],
   "source": [
    "x2d = np.array([[10, 20, 30], [40, 50, 60], [70, 80, 90]])\n",
    "y = np.array([0, 1, 1])\n",
    "## indexes as row slices\n",
    "print_matrix('x', x2d)\n",
    "print_matrix('y', y)\n",
    "print_matrix('x_{2d}[y]', x2d[y])"
   ]
  },
  {
   "cell_type": "markdown",
   "metadata": {
    "slideshow": {
     "slide_type": "subslide"
    }
   },
   "source": [
    "Dimensions are always still separated by commas:"
   ]
  },
  {
   "cell_type": "code",
   "execution_count": null,
   "metadata": {
    "slideshow": {
     "slide_type": "-"
    }
   },
   "outputs": [],
   "source": [
    "z2d = np.array([0,0,2])\n",
    "## indexes as row slices\n",
    "## TRICKY: we index first by y2d (to get the array above), *then* by z2d to select the columns\n",
    "print((x2d[y, z2d]))"
   ]
  },
  {
   "cell_type": "code",
   "execution_count": null,
   "metadata": {
    "slideshow": {
     "slide_type": "-"
    }
   },
   "outputs": [],
   "source": [
    "## find indices where wheat price was > 50\n",
    "expensive_indices = np.nonzero(wheat[:,2]>50)\n",
    "\n",
    "# print the matching years\n",
    "print((wheat[:,1][expensive_indices]))"
   ]
  },
  {
   "cell_type": "markdown",
   "metadata": {
    "slideshow": {
     "slide_type": "slide"
    }
   },
   "source": [
    "### Boolean indexing\n",
    "As well as using indices, we can directly index arrays with boolean arrays.\n",
    "\n",
    "\n",
    "For example, if we have an array \n",
    "\n",
    "    x = [1,2,3]\n",
    "    \n",
    "and an array\n",
    "   \n",
    "    bool = [True, False, True]\n",
    "   \n",
    "then `x[bool]` is the array:\n",
    "\n",
    "    [1,3]\n",
    "    \n",
    "Note that this is pulling out *irregular* parts of the array (although the result is always guaranteed to be a rectangular array).    \n"
   ]
  },
  {
   "cell_type": "code",
   "execution_count": null,
   "metadata": {
    "slideshow": {
     "slide_type": "subslide"
    }
   },
   "outputs": [],
   "source": [
    "x = np.array([1, 2, 3, 4, 5, 6, 7, 8])\n",
    "y = np.array([1, 0, 1, 1, 0, 0, 1, 1])\n",
    "print_matrix(\"x\", x)\n",
    "print_matrix(\"y\", y)\n",
    "print_matrix(\"x[y==0]\", x[y == 0])"
   ]
  },
  {
   "cell_type": "code",
   "execution_count": null,
   "metadata": {
    "slideshow": {
     "slide_type": "subslide"
    }
   },
   "outputs": [],
   "source": [
    "# boolean arrays in broadcasting\n",
    "x2d = np.array([[10, 20, 30], [40, 50, 60], [70, 80, 90]])\n",
    "\n",
    "y = np.array([10, 20, 100])\n",
    "first_column_bigger = x2d[:, 0] <= y\n",
    "\n",
    "print_matrix(\"x\", x2d)\n",
    "print_matrix(\"y\", y)\n",
    "\n",
    "print_matrix(\"x[x[:,0]\\leq y]\", x2d[first_column_bigger])\n",
    "# select the rows where the first column of x is <= correspond element of y"
   ]
  },
  {
   "cell_type": "code",
   "execution_count": null,
   "metadata": {
    "slideshow": {
     "slide_type": "subslide"
    }
   },
   "outputs": [],
   "source": [
    "# the wheat example, selecting years when the cost of wheat was > 50 shillings / quarter bushel\n",
    "print((wheat[:,1][wheat[:,2]>50])) # note the double indexing"
   ]
  },
  {
   "cell_type": "code",
   "execution_count": null,
   "metadata": {},
   "outputs": [],
   "source": [
    "owl_gray = load_image_gray(\"imgs/owl.png\")\n",
    "\n",
    "# force to either black (0) or to white (1), by thresholding at 0.2\n",
    "show_image(np.where(owl_gray<0.2, 0, 1), width=\"50%\")"
   ]
  },
  {
   "cell_type": "code",
   "execution_count": null,
   "metadata": {
    "slideshow": {
     "slide_type": "subslide"
    }
   },
   "outputs": [],
   "source": [
    "owl_masked = np.array(owl_gray) # copy the owl\n",
    "# we can use fancy indexing in assignments, exactly as we would in any other operation\n",
    "owl_masked[owl_masked<0.5] *= 0.6 # make the dark bits darker\n",
    "owl_masked[owl_masked>0.5] *= 1.6 # and the light bits lighter\n",
    "\n",
    "show_image(owl_masked, width=\"50%\")"
   ]
  },
  {
   "cell_type": "markdown",
   "metadata": {
    "slideshow": {
     "slide_type": "-"
    }
   },
   "source": [
    "## Selection review\n",
    "\n",
    "* **Slicing** can chop out rectangular sections of an array, including with regular gaps. `x[2:5, :]` selects rows 3-6 of `x`. `x[:, :, ::-1]` selects all of `x`, but with the last axis reversed (e.g RGB colours -> BGR colours). \n",
    "\n",
    "* **Specific indexing** We can index anywhere we could specify a slice range with a list instead. This allows quick tricks to rearrange elements. `x[[0, 2, 1], :]` will return an array with the first, third and second rows of `x`, in that order. \n",
    "\n",
    "* **Boolean indexing** or **masking**. if we index an array with a Boolean array instead of a slice range, we will get all of the elements where that array was True. This is particularly useful in assignments. We can, for example, write `x[x > 5] = 0` to set all value of `x` that are greater than 5 to 0. \n",
    "\n",
    "---\n",
    "\n"
   ]
  },
  {
   "cell_type": "markdown",
   "metadata": {},
   "source": [
    "---"
   ]
  },
  {
   "cell_type": "markdown",
   "metadata": {
    "slideshow": {
     "slide_type": "skip"
    }
   },
   "source": [
    "## Key Resources\n",
    "\n",
    "* [A visual guide to NumPy](https://jalammar.github.io/visual-numpy/) This is an excellent intro that covers most of the concepts here.\n",
    "* [NumPy tutorial](http://scipy.github.io/old-wiki/pages/Tentative_NumPy_Tutorial)\n",
    "\n",
    "See the **Resources** page on Moodle for a full list of resources, including some more advanced material for those who are interested."
   ]
  },
  {
   "cell_type": "markdown",
   "metadata": {
    "slideshow": {
     "slide_type": "skip"
    }
   },
   "source": [
    "\n",
    "-----\n",
    "\n",
    "# NumPy reference\n",
    "\n",
    "This is a quick reference guide. **We won't cover this in the lecture.**"
   ]
  },
  {
   "cell_type": "markdown",
   "metadata": {
    "slideshow": {
     "slide_type": "skip"
    }
   },
   "source": [
    "\n",
    "### NumPy reference\n",
    "In DF(H) We will use the following NumPy functions/functionality. You should know\n",
    "what these functions do and be ready to use them by the end of the first week.\n",
    "\n",
    "These are [all covered in the NumPy API reference](https://docs.scipy.org/doc/numpy-1.13.0/reference/index.html)\n",
    "\n",
    "* multidimensional slicing syntax `x[1,2:5]`\n",
    "* broadcasting arithmetic `x+4`\n",
    "* slice assignment `x[0:5] = 1`\n",
    "* boolean indexing `x[[True, False, False]]`\n",
    "* [fancy indexing](https://docs.scipy.org/doc/numpy-1.13.0/reference/arrays.indexing.html) `x[y] += 1` \n",
    "\n",
    "### Generation\n",
    "* `np.loadtxt` / `np.savetxt`\n",
    "* `np.zeros` / `np.ones` / `np.full` / `np.empty`\n",
    "* `np.zeros_like` / `np.zeros_like` / `np.full_like` / `np.empty_like`\n",
    "* `np.arange`\n",
    "* `np.linspace`\n",
    "* `np.array`\n",
    "* `np.meshgrid`\n",
    "\n",
    "### Logical\n",
    "* `np.logical_and` / `np.logical_or` / `np.logical_not`\n",
    "\n",
    "### Reductions\n",
    "* `np.any` / `np.all`\n",
    "* `np.prod`\n",
    "* `np.min` / `np.max`\n",
    "* `np.sum` / `np.mean` / `np.std`\n",
    "\n",
    "### Accumulations\n",
    "* `np.cumprod` / `np.cumsum`\n",
    "* `np.diff` / `np.gradient`\n",
    "\n",
    "### Random\n",
    "* `np.random.uniform` / `np.random.normal` / `np.random.randint`\n",
    "*  `np.random.choice` / `np.random.permuation`\n",
    "\n",
    "### Reshaping\n",
    "* `np.tile`\n",
    "* `np.transpose`  / `x.T`\n",
    "* `np.stack` / `np.concatenate`\n",
    "* `np.squeeze`\n",
    "* `np.reshape`\n",
    "* `np.einsum`\n",
    "* `np.ravel`\n",
    "* `np.swapaxes` / `np.rollaxes`\n",
    "\n",
    "\n",
    "### Floating point handling\n",
    "* `np.isinf` / `np.isnan` / `np.isfinite`\n",
    "* `np.nan` / `np.inf`\n",
    "* `np.allclose`\n",
    "* `np.frexp`\n",
    "\n",
    "### Index finding and sorting\n",
    "* `np.argmin` / `np.argmax` \n",
    "* `np.argsort` / `np.sort`\n",
    "* `np.nonzero`\n",
    "* `np.where`\n",
    "\n",
    "### Matrix operations\n",
    "* `np.dot` / `np.inner` Inner of vectors / matrices / tensors\n",
    "* `np.outer` Outer product\n",
    "\n",
    "### Standard functions (ufuncs)\n",
    "* `np.minimum`, `np.maximum` (elementwise min/max)\n",
    "* `np.add`, `np.subtract`, `np.multiply` (function forms of + and -)\n",
    "* `np.log`, `np.exp`\n",
    "* `np.sin`, `np.cos`, `np.tan`, `np.arcsin`, `np.arccos`, `np.tanh`, etc.\n",
    "\n"
   ]
  }
 ],
 "metadata": {
  "celltoolbar": "Slideshow",
  "kernelspec": {
   "display_name": "Python 3 (ipykernel)",
   "language": "python",
   "name": "python3"
  },
  "language_info": {
   "codemirror_mode": {
    "name": "ipython",
    "version": 3
   },
   "file_extension": ".py",
   "mimetype": "text/x-python",
   "name": "python",
   "nbconvert_exporter": "python",
   "pygments_lexer": "ipython3",
   "version": "3.9.7"
  },
  "varInspector": {
   "cols": {
    "lenName": 16,
    "lenType": 16,
    "lenVar": 40
   },
   "kernels_config": {
    "python": {
     "delete_cmd_postfix": "",
     "delete_cmd_prefix": "del ",
     "library": "var_list.py",
     "varRefreshCmd": "print(var_dic_list())"
    },
    "r": {
     "delete_cmd_postfix": ") ",
     "delete_cmd_prefix": "rm(",
     "library": "var_list.r",
     "varRefreshCmd": "cat(var_dic_list()) "
    }
   },
   "types_to_exclude": [
    "module",
    "function",
    "builtin_function_or_method",
    "instance",
    "_Feature"
   ],
   "window_display": false
  }
 },
 "nbformat": 4,
 "nbformat_minor": 4
}

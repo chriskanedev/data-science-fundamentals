{
 "cells": [
  {
   "cell_type": "markdown",
   "metadata": {
    "slideshow": {
     "slide_type": "slide"
    }
   },
   "source": [
    "## Data Science Fundamentals\n",
    "# Lecture 4: Scientific visualisation I\n",
    "## Graphs, charts and plots\n",
    "\n",
    "------\n",
    " ##### DSF - University of Glasgow - Chris McCaig - 2021/2022"
   ]
  },
  {
   "cell_type": "markdown",
   "metadata": {
    "jupyter": {
     "source_hidden": true
    },
    "slideshow": {
     "slide_type": "skip"
    },
    "variables": {
     "\\bf #1": "<p><strong>SyntaxError</strong>: unexpected character after line continuation character (<ipython-input-3-470fb1740f13>, line 1)</p>\n"
    }
   },
   "source": [
    "LaTeX commands\n",
    "\n",
    "$$\\newcommand{\\vec}[1]<p><strong>SyntaxError</strong>: unexpected character after line continuation character (<ipython-input-3-470fb1740f13>, line 1)</p>\n",
    " \n",
    "\\newcommand{\\real}{\\mathbb{R}}\n",
    "\\DeclareMathOperator*{\\argmin}{arg\\,min}\n",
    "\\vec{x}\n",
    "\\real\n",
    "$$"
   ]
  },
  {
   "cell_type": "code",
   "execution_count": null,
   "metadata": {
    "jupyter": {
     "source_hidden": true
    },
    "slideshow": {
     "slide_type": "skip"
    }
   },
   "outputs": [],
   "source": [
    "import IPython.display\n",
    "IPython.display.HTML(\"\"\"\n",
    "<script>\n",
    "  function code_toggle() {\n",
    "    if (code_shown){\n",
    "      $('div.input').hide('500');\n",
    "      $('#toggleButton').val('Show Code')\n",
    "    } else {\n",
    "      $('div.input').show('500');\n",
    "      $('#toggleButton').val('Hide Code')\n",
    "    }\n",
    "    code_shown = !code_shown\n",
    "  }\n",
    "\n",
    "  $( document ).ready(function(){\n",
    "    code_shown=false;\n",
    "    $('div.input').hide()\n",
    "  });\n",
    "</script>\n",
    "<form action=\"javascript:code_toggle()\"><input type=\"submit\" id=\"toggleButton\" value=\"Show Code\"></form>\"\"\")"
   ]
  },
  {
   "cell_type": "markdown",
   "metadata": {
    "slideshow": {
     "slide_type": "slide"
    }
   },
   "source": [
    "# Summary\n",
    "By the end of this unit you should know:\n",
    "* what the grammar of graphics is: dataset, stat, scale, mapping, coord, geom, guide, layer, facet, figure, caption\n",
    "* how elements of the grammar of graphics appear in a visualisation\n",
    "* how to produce a correct, simple, scientific chart from numerical data"
   ]
  },
  {
   "cell_type": "markdown",
   "metadata": {
    "slideshow": {
     "slide_type": "subslide"
    }
   },
   "source": [
    "* the basic operation of `matplotlib`\n",
    "* basic plot types: line plots, bar charts, scatter plots\n",
    "* different ways of representing data in 2D plots\n",
    "* the use of stats to transform data, including binning, summarisation and smoothing\n",
    "* linear, log and polar coordinate systems and their uses"
   ]
  },
  {
   "cell_type": "markdown",
   "metadata": {
    "slideshow": {
     "slide_type": "subslide"
    }
   },
   "source": [
    "* the use of point, line and area geoms to represent data and standard aesthetic mappings for them\n",
    "* appropriate aesthetic mappings for colour information\n",
    "* how to criticise scientific visualisations\n",
    "* how to represent uncertainty accurately in a plot"
   ]
  },
  {
   "cell_type": "markdown",
   "metadata": {
    "slideshow": {
     "slide_type": "slide"
    }
   },
   "source": [
    "## What you should be able to do\n",
    "* Make graphs that are:\n",
    "    * **Conceptually** correct: data is represented visually in a way that makes sense.\n",
    "    * **Technically** correct: details of data representation are complete and accurate.\n",
    "    * **Aesthetically** correct: data is represented a visually pleasing way.\n",
    "* Have the **language** and **concepts** to discuss, criticise and improve visual representations."
   ]
  },
  {
   "cell_type": "markdown",
   "metadata": {
    "slideshow": {
     "slide_type": "slide"
    }
   },
   "source": [
    "<img src=\"imgs/playfair_nightingale.svg\" width=\"100%\" >"
   ]
  },
  {
   "cell_type": "markdown",
   "metadata": {
    "slideshow": {
     "slide_type": "slide"
    }
   },
   "source": [
    "## What is visualisation?\n",
    "Visualisation is the representation of data for human visual perception. Visualisation encodes abstract mathematical objects, like vectors of numbers, into a form that *humans* can draw meaning from. It encompasses everything from the most elementary bar chart to the most sophisticated volume renderings."
   ]
  },
  {
   "cell_type": "markdown",
   "metadata": {
    "slideshow": {
     "slide_type": "subslide"
    }
   },
   "source": [
    "Visualisation serves several purposes:\n",
    "* to build intuition about *relationships and structure* in data;\n",
    "* to *summarise* large quantities of data;\n",
    "* to help decision-makers make quick judgments on specific questions."
   ]
  },
  {
   "cell_type": "markdown",
   "metadata": {
    "slideshow": {
     "slide_type": "subslide"
    }
   },
   "source": [
    "### *Scientific* visualisations\n",
    "This course will focus on scientific visualisations; in particular visualising numerical data. The focus is on precision, clarity and accuracy in visualisation. While visual design is important, the focus here is on the core principles of representing data clearly using simple, static graphs.\n",
    "\n",
    "**The core of the lecture is: how should you render tables as pictures so that a reader can make judgements based upon them?**"
   ]
  },
  {
   "cell_type": "markdown",
   "metadata": {
    "slideshow": {
     "slide_type": "subslide"
    }
   },
   "source": [
    "#### The good, the bad and the ugly\n",
    "<img src=\"imgs/visualisation_space.png\" width=\"70%\">\n",
    "\n",
    "*Image: A dimensional mapping of visualisations. Ugly->beautiful goes left to right; useless->informative goes bottom to top. Credits: top left: [Martin Grandjean](https://commons.wikimedia.org/wiki/File:Social_Network_Analysis_Visualization.png) CC-BY-SA 3.0 \n",
    "bottom right: [Sheffno1gunner](https://commons.wikimedia.org/wiki/File:Opinion_Polling_Chart_for_the_2015_UK_General_Election.png) CC-BY-SA 3.0\n",
    "bottom left: [unknown]\n",
    "upper left: William Playfair, 1786(!)*"
   ]
  },
  {
   "cell_type": "markdown",
   "metadata": {
    "slideshow": {
     "slide_type": "subslide"
    }
   },
   "source": [
    "### Basic categories\n",
    "We will focus on display of three basic categories:\n",
    "* plots of **single 1D array** $\\vec{x}$, like **histograms** (single columns)\n",
    "* plots of **pairs of 1D arrays** $\\vec{x}, \\vec{y}$, like **scatterplots** (two columns)\n",
    "* plots of single **2D arrays** $X$, like **contour plots** (whole tables)"
   ]
  },
  {
   "cell_type": "markdown",
   "metadata": {
    "slideshow": {
     "slide_type": "subslide"
    }
   },
   "source": [
    "These are all representations of datasets that can be represented as  **tables** of numbers. \n",
    "\n",
    "We'll discuss briefly some approaches for 3D data (*triplets of 1D arrays* $\\vec{x}, \\vec{y}, \\vec{z}$ and 3D arrays), vector fields (pairs of 2D arrays), and higher dimensional data.\n",
    "\n",
    "We will cover statistical transforms for visualisation and the appropriate representation of uncertainty in visualisations."
   ]
  },
  {
   "cell_type": "markdown",
   "metadata": {
    "slideshow": {
     "slide_type": "skip"
    }
   },
   "source": []
  },
  {
   "cell_type": "markdown",
   "metadata": {
    "slideshow": {
     "slide_type": "slide"
    }
   },
   "source": [
    "# Grammar of Graphics\n",
    "The creation of scientific visualisations can be precisely specified in terms of a *graphical language*. This is a language which specifies how to turn data into images (construction) and how readers should interpret those images (intepretation). For the moment assume a **Dataset** is a table of numbers (e.g. a 2D NumPy array). Each column represents a different attribute; each row a collection of related attributes:"
   ]
  },
  {
   "cell_type": "markdown",
   "metadata": {
    "slideshow": {
     "slide_type": "subslide"
    }
   },
   "source": [
    "        year    price    margin\n",
    "        -------------------------\n",
    "        1990    0.01      0.005\n",
    "        1991    0.018    -0.001\n",
    "        1992    0.002    -0.1\n",
    "        1993    0.02      0.005\n",
    "\n",
    "There are various different ways of describing the graphical language used; the one described here follows the **Layered Grammar of Graphics** by Hadley Wickham (see the resources at the end). "
   ]
  },
  {
   "cell_type": "markdown",
   "metadata": {
    "slideshow": {
     "slide_type": "subslide"
    }
   },
   "source": [
    "<img src=\"imgs/grammar.png\" width=\"50%\">\n",
    "\n",
    "*Image: flowchart of the layered grammar of graphics. Gray text indicates **examples** for each of the elements. Note that one layer\n",
    "may have several scales; one facet may have several layers; and one figure may have several facets. Everything above the dotted line is an abstract transformation of the dataset; everything below it is a visible feature of a graphical representation*"
   ]
  },
  {
   "cell_type": "markdown",
   "metadata": {
    "slideshow": {
     "slide_type": "subslide"
    }
   },
   "source": [
    "* **Stat**\n",
    "A **stat** is a statistic computed from data which is then mapped onto visual features, with the intent of summarising the data compactly. For example, the mean and the standard deviation of a series of measurements would be **stats**. The binning of values in a histogram is another example of a **stat**."
   ]
  },
  {
   "cell_type": "markdown",
   "metadata": {
    "slideshow": {
     "slide_type": "subslide"
    }
   },
   "source": [
    "* **Mapping**\n",
    "A **mapping** represents a transformation of data attributes to visual values. It maps *selected attributes* (which includes **stats** or raw dataset values) to visual values using a **scale** to give units to the attribute."
   ]
  },
  {
   "cell_type": "markdown",
   "metadata": {
    "slideshow": {
     "slide_type": "subslide"
    }
   },
   "source": [
    "    * **Scale** a scale specifies the transformation of the units in the dataset/stat to visual units. This might be from the Richter scale to x position, or from altitude to colour, or from condition number to point size. A scale typically specifies the **range** of values to be mapped.\n",
    "    \n",
    "    * **Guide**\n",
    "    A **guide** is a visual reference which indicates the meaning of a mapping, including the scale and the attribute being mapped. This includes axis tick marks and labels, colour scales, and legends.\n",
    "    "
   ]
  },
  {
   "cell_type": "markdown",
   "metadata": {
    "slideshow": {
     "slide_type": "subslide"
    }
   },
   "source": [
    "* **Geom**\n",
    "A **geom** is the geometric representation of data after it has been mapped. Geoms include points (which may have size, colour, shape), lines (which may have colour, dash styles, thickness), and patches/polygons (which can have many attributes).\n",
    "\n",
    "* **Coord**\n",
    "A **coord** is a coordinate system, which connects mapped data onto points on the plane (or, in general, to higher-dimensional coordinates, like 3D positions). The spatial configuration of **geoms** and **guides** depends on the coordinate system. "
   ]
  },
  {
   "cell_type": "markdown",
   "metadata": {
    "slideshow": {
     "slide_type": "subslide"
    }
   },
   "source": [
    "* **Layer** \n",
    "A **layer** of a plot is one set of geoms, with one mapping on one coordinate system. Multiple layers may be overlaid on a single coordinate system. For example, two different stats of the same dataset might be plotted on separate layers on the same coordinate system.\n",
    "\n",
    "* **Facet**\n",
    "A **facet** is a different view on the same dataset, on a separate coordinate system. For example, two conditions of an experiment might be plotted on two different facets. One facet might have several layers."
   ]
  },
  {
   "cell_type": "markdown",
   "metadata": {
    "slideshow": {
     "slide_type": "subslide"
    }
   },
   "source": [
    "* **Figure**\n",
    "A **figure** comprises a set of one or more **facets**\n",
    "* **Caption** Every figure has a caption, which explains the visualisation to the reader."
   ]
  },
  {
   "cell_type": "markdown",
   "metadata": {
    "slideshow": {
     "slide_type": "slide"
    }
   },
   "source": [
    "# Anatomy of a figure\n",
    "\n",
    "## Figure and caption\n",
    "A **figure** is one or more facets that form a coherent visualisation of data. Many figures are single graphs (single facets), but some may include multiple facets. Every figure needs to have a clear **caption** which explains to the reader what they should see from the graph."
   ]
  },
  {
   "cell_type": "markdown",
   "metadata": {
    "slideshow": {
     "slide_type": "subslide"
    }
   },
   "source": [
    "<img src=\"imgs/figure_caption.png\" width=\"100%\">\n",
    "\n",
    "*Image: the relationship between figure and a caption. **Every figure needs a clear caption.** Even this one.*"
   ]
  },
  {
   "cell_type": "markdown",
   "metadata": {
    "slideshow": {
     "slide_type": "subslide"
    }
   },
   "source": [
    "## The visual representation of plots: guides, geoms and coords\n",
    "\n",
    "Good scientific plots have a well defined structure. Every plot should have proper use of **guides** to explain the **mapping** and **coordinate system**:"
   ]
  },
  {
   "cell_type": "markdown",
   "metadata": {
    "slideshow": {
     "slide_type": "subslide"
    }
   },
   "source": [
    "### Guides\n",
    "* **Axes** which are labeled, with any applicable **units** shown. These are **guides** for the **coordinate system**.\n",
    "    * **Ticks** indicating subdivisions of axes in labeled units for that axis."
   ]
  },
  {
   "cell_type": "markdown",
   "metadata": {
    "slideshow": {
     "slide_type": "subslide"
    }
   },
   "source": [
    "* A **legend** explaining what markers and lines mean (if more than one present). These are **guides** which identifies different **layers** in the plot.\n",
    "* A **title** explaining what the plot is"
   ]
  },
  {
   "cell_type": "markdown",
   "metadata": {
    "slideshow": {
     "slide_type": "subslide"
    }
   },
   "source": [
    "A plot might have:\n",
    "\n",
    "* A **grid** to help the reader line up data with the axes (again, a **guide** for the **coordinate system**)\n",
    "* A **annotations** to point out relevant features"
   ]
  },
  {
   "cell_type": "markdown",
   "metadata": {
    "slideshow": {
     "slide_type": "subslide"
    }
   },
   "source": [
    "### Geoms\n",
    "To display data, plots have **geoms**, which are geometrical objects representing some element of the data to be plotted. These include:"
   ]
  },
  {
   "cell_type": "markdown",
   "metadata": {
    "slideshow": {
     "slide_type": "subslide"
    }
   },
   "source": [
    "* **Lines/curves** representing continuous functions, which have colours, thicknesses, and styles \n",
    "* **Markers** representing disconnected points, which have sizes, colours and styles\n",
    "* **Patches** representing shapes with area (like bars in a bar chart), which can come in many forms"
   ]
  },
  {
   "cell_type": "markdown",
   "metadata": {
    "slideshow": {
     "slide_type": "subslide"
    }
   },
   "source": [
    "<img src=\"imgs/anatomy.png\" width=\"65%\">\n",
    "\n",
    "*Image: anatomy of a simple scientific graph, taken from the `matplotlib` documentation: http://matplotlib.org/examples/showcase/anatomy.html*"
   ]
  },
  {
   "cell_type": "markdown",
   "metadata": {
    "slideshow": {
     "slide_type": "slide"
    }
   },
   "source": [
    "## matplotlib\n",
    "We'll be using `matplotlib` for our examples. This is a sophisticated plotting package that integrates with `NumPy` and the scientific Python stacks. It is one of several options for plotting in Python, but is the standard for publication-quality figures; its features are similar to that offered by Matlab.\n",
    "\n",
    "The specific details of `matplotlib` are less important than the general concepts of making good scientific visualisations. You will explore `matplotib` more thoroughly in the lab exercise for this unit. `Matplotlib` has many options and can produce a wide variety of plots, but we will be using a relatively small subset of available features."
   ]
  },
  {
   "cell_type": "code",
   "execution_count": null,
   "metadata": {
    "ExecuteTime": {
     "end_time": "2020-09-27T15:55:50.277628Z",
     "start_time": "2020-09-27T15:55:49.941158Z"
    },
    "slideshow": {
     "slide_type": "subslide"
    }
   },
   "outputs": [],
   "source": [
    "import numpy as np\n",
    "\n",
    "# these import matplotlib, and make it draw figures directly in the notebook\n",
    "import matplotlib as mpl\n",
    "import matplotlib.pyplot as plt\n",
    "\n",
    "%matplotlib inline\n",
    "plt.rc('figure', figsize=(8.0, 4.0), dpi=180)\n",
    "\n"
   ]
  },
  {
   "cell_type": "markdown",
   "metadata": {
    "slideshow": {
     "slide_type": "slide"
    }
   },
   "source": [
    "This is a quick but thorough example of `matplotlib` being used to plot some functions:"
   ]
  },
  {
   "cell_type": "code",
   "execution_count": null,
   "metadata": {
    "ExecuteTime": {
     "end_time": "2020-09-27T15:55:52.995773Z",
     "start_time": "2020-09-27T15:55:52.991362Z"
    },
    "slideshow": {
     "slide_type": "subslide"
    }
   },
   "outputs": [],
   "source": [
    "# a simple function, returns pulses with a shape determined by k\n",
    "def pulse(x, k):\n",
    "    return np.cos(x) * np.exp(np.cos(x) * k - k)\n",
    "\n",
    "## generate an x value to be transformed\n",
    "x = np.linspace(-np.pi, 5 * np.pi, 500)"
   ]
  },
  {
   "cell_type": "code",
   "execution_count": null,
   "metadata": {
    "ExecuteTime": {
     "end_time": "2020-09-27T15:55:55.440192Z",
     "start_time": "2020-09-27T15:55:55.030498Z"
    },
    "slideshow": {
     "slide_type": "subslide"
    }
   },
   "outputs": [],
   "source": [
    "#### matplotlib plotting code\n",
    "### This is relatively verbose, but each step is simple\n",
    "\n",
    "fig = plt.figure()  # create a new figure\n",
    "\n",
    "ax = fig.add_subplot(1, 1, 1)  # create a new subplot, returning a set of axes\n",
    "# note: the call is formatted fig.add_subplot(rows, columns, index)\n",
    "# which will create a subplot in a matrix of plots (of the given size)\n",
    "# indexed by the index. The index increases column-wise, then row-wise, and starts from *1*\n",
    "# for example, we could create a 3x2 array of plots, and select the middle-left plot\n",
    "# using\n",
    "# plt.add_subplot(3, 2, 3)\n",
    "#    --------\n",
    "#   | 1 | 2 |\n",
    "#   | 3 | 4 |\n",
    "#   | 5 | 6 |\n",
    "#   ---------\n",
    "\n",
    "\n",
    "# line plot of x against f(x, k) for fixed values of k\n",
    "# each subsequent plot will be a new color\n",
    "# all of the plots will be overlaid on the axis\n",
    "# plot(x,y) is the basic line plotting command\n",
    "ax.plot(x, pulse(x, 1), label='k=1')\n",
    "ax.plot(x, pulse(x, 5), label='k=5')\n",
    "ax.plot(x, pulse(x, 100), label='k=100')\n",
    "\n",
    "# label the plot \n",
    "ax.set_xlabel(\"Phase (radians)\")  # x-axis label\n",
    "ax.set_ylabel(\"Amplitude\")  # y-axis label\n",
    "ax.set_title(\"Pulse wave function for various $k$\")  # title of plot (appears above plot)\n",
    "\n",
    "## set the limits of the plot\n",
    "# (if this is omitted, sensible autoscaling will be applied)\n",
    "ax.set_xlim(np.min(x), np.max(x))\n",
    "ax.set_ylim(-0.25, 1.2)\n",
    "\n",
    "# draw a dotted, semi-transparent horizontal line at the maximum possible value of the function\n",
    "ax.axhline(1.0, color='k', linestyle=':', label=\"Maximum\", alpha=0.25)\n",
    "\n",
    "# draw an annotation directly on the plot\n",
    "ax.annotate(\n",
    "    \"First peak\",\n",
    "    xy=(0, 1),\n",
    "    xytext=(20, 10),\n",
    "    textcoords='offset points',\n",
    "    arrowprops={\"arrowstyle\": '->'})\n",
    "\n",
    "ax.set_frame_on(False)\n",
    "ax.set_xticks(np.arange(-1,6)*np.pi)\n",
    "ax.set_xticklabels([\"${i}\\pi$\".format(i=i) for i in np.arange(-1,6)])\n",
    "ax.set_yticks([0.0, 0.5, 1.0])\n",
    "# create a legend (key) for the plot, using the labels specified\n",
    "# in the ax.plot() calls\n",
    "ax.legend()"
   ]
  },
  {
   "cell_type": "markdown",
   "metadata": {
    "slideshow": {
     "slide_type": "slide"
    }
   },
   "source": [
    "# Basic  2D plots\n",
    "\n",
    "## Dependent and independent variables\n",
    "Most *useful* plots only involve a small number of relations between variables. Often there are just two variables with a relation; one **independent** variable and one **dependent** variable, which depends on  the independent variable.\n",
    "\n",
    "$$y = f(x),$$\n",
    "\n",
    "where $x$ and $y$ are scalar variables. The purpose of the plot is to visually describe the function $f$.  The input to these plots are a *pair* of 1D vectors $\\vec{x}, \\vec{y}$. \n",
    "\n",
    "\n",
    "These are plotted with the **independent variable** on the x-axis (the variable that \"causes\" the relationship) and the **dependent value** on the y-axis (the \"effect\" of the relationship).  For example, if you are doing an experiment and fixing some value to various test values (e.g. the temperature of a solution) and measuring another (e.g. the pH of the solution), the variable being fixed is the independent variable and goes on the $x$ axis, and the variable being measured is the dependent variable and goes on the $y$ axis.\n",
    "\n",
    "In some cases, there is no clear division between an the independent and dependent variable, and the order doesn't matter. This is unusual, however, and you should be careful to get the ordering right."
   ]
  },
  {
   "cell_type": "code",
   "execution_count": null,
   "metadata": {
    "ExecuteTime": {
     "end_time": "2020-09-27T15:58:06.226313Z",
     "start_time": "2020-09-27T15:58:06.048539Z"
    },
    "slideshow": {
     "slide_type": "subslide"
    }
   },
   "outputs": [],
   "source": [
    "# simulate some data\n",
    "np.random.seed(20181)\n",
    "heights = np.random.normal(1.7, 0.3, 50)\n",
    "head_hitting_incidents = np.floor(np.random.uniform(0,1,heights.shape) * np.exp((heights-1.4)*2))\n",
    "  \n",
    "fig = plt.figure()\n",
    "ax = fig.add_subplot(1,1,1)\n",
    "ax.scatter(heights, head_hitting_incidents, s=5)\n",
    "ax.set_title(\"Right: door head hitting incidents vs height \")\n",
    "ax.set_xlabel(\"Height (m)\")\n",
    "ax.set_ylabel(\"Head strikes (per year)\")\n",
    "ax.set_frame_on(False)"
   ]
  },
  {
   "cell_type": "code",
   "execution_count": null,
   "metadata": {
    "ExecuteTime": {
     "end_time": "2020-09-27T15:58:30.401630Z",
     "start_time": "2020-09-27T15:58:30.220049Z"
    },
    "slideshow": {
     "slide_type": "subslide"
    }
   },
   "outputs": [],
   "source": [
    "fig = plt.figure()\n",
    "ax = fig.add_subplot(1,1,1)\n",
    "ax.scatter(head_hitting_incidents, heights, s=5)\n",
    "ax.set_title(\"WRONG: height vs door head hitting incidents\")\n",
    "ax.set_ylabel(\"Height (m)\")\n",
    "ax.set_xlabel(\"Head strikes (per year)\")\n",
    "ax.set_frame_on(False)"
   ]
  },
  {
   "cell_type": "markdown",
   "metadata": {
    "slideshow": {
     "slide_type": "slide"
    }
   },
   "source": [
    "## Common 2D plot types\n",
    "There are a few common 2D plot types. As always, we are working with arrays of data. Our mapping takes *two columns* of a dataset (or a stat of a dataset) and maps one to $x$ and one to $y$.\n",
    "\n",
    "### Scatterplot\n",
    "\n",
    "A scatter plot marks $(x,y)$ locations of measurements with *markers*. These are point **geoms**."
   ]
  },
  {
   "cell_type": "code",
   "execution_count": null,
   "metadata": {
    "ExecuteTime": {
     "end_time": "2020-09-27T15:58:55.544899Z",
     "start_time": "2020-09-27T15:58:55.367630Z"
    },
    "slideshow": {
     "slide_type": "subslide"
    }
   },
   "outputs": [],
   "source": [
    "x = np.array([1, 2, 3, 4])\n",
    "y = np.array([5, 6, 7, 8])\n",
    "plt.scatter(x, y)"
   ]
  },
  {
   "cell_type": "markdown",
   "metadata": {
    "slideshow": {
     "slide_type": "slide"
    }
   },
   "source": [
    "### Bar chart\n",
    "\n",
    "A bar chart draws bars with height proportional to $y$ at position given by $x$.  These are patch **geoms**."
   ]
  },
  {
   "cell_type": "code",
   "execution_count": null,
   "metadata": {
    "ExecuteTime": {
     "end_time": "2020-09-27T15:59:10.332243Z",
     "start_time": "2020-09-27T15:59:10.109136Z"
    },
    "slideshow": {
     "slide_type": "subslide"
    }
   },
   "outputs": [],
   "source": [
    "plt.bar(x,y) "
   ]
  },
  {
   "cell_type": "markdown",
   "metadata": {
    "slideshow": {
     "slide_type": "slide"
    }
   },
   "source": [
    "### Line plot"
   ]
  },
  {
   "cell_type": "markdown",
   "metadata": {},
   "source": [
    "A line plot draws connected line segments between (x,y) positions, in the order that they are provided.  These are line **geoms**."
   ]
  },
  {
   "cell_type": "code",
   "execution_count": null,
   "metadata": {
    "ExecuteTime": {
     "end_time": "2020-09-27T15:59:19.445645Z",
     "start_time": "2020-09-27T15:59:19.270872Z"
    },
    "slideshow": {
     "slide_type": "subslide"
    }
   },
   "outputs": [],
   "source": [
    "plt.plot(x,y) "
   ]
  },
  {
   "cell_type": "markdown",
   "metadata": {
    "slideshow": {
     "slide_type": "slide"
    }
   },
   "source": [
    "### Marking measurements\n",
    "It is common to plot the explicit points at which measurements are available. This is a plot with two **layers**, which therefore share the same **coords**. \n",
    "One layer represents the data with **line geoms**, the second represents the same data with **point geoms** (markers)."
   ]
  },
  {
   "cell_type": "code",
   "execution_count": null,
   "metadata": {
    "ExecuteTime": {
     "end_time": "2020-09-27T15:59:37.200289Z",
     "start_time": "2020-09-27T15:59:37.002518Z"
    },
    "slideshow": {
     "slide_type": "subslide"
    }
   },
   "outputs": [],
   "source": [
    "plt.plot(x,y, marker='d')  # sometimes we want to mark explicitly the measurement points"
   ]
  },
  {
   "cell_type": "markdown",
   "metadata": {
    "slideshow": {
     "slide_type": "slide"
    }
   },
   "source": [
    "### Ribbon plots"
   ]
  },
  {
   "cell_type": "markdown",
   "metadata": {},
   "source": [
    "If we have a triplet of vector $\\vec{x},\\vec{y_2},\\vec{y_1}$, where both $y$s match the $x$ then the area between the two lines can be drawn using polygon **geoms**. This results in a **ribbon plot**, where the ribbon can have variable thickness (as the difference $y_1-y_2$ varies).\n",
    "\n",
    "This can be also be thought of a line geom with variable width along the $x$ axis."
   ]
  },
  {
   "cell_type": "code",
   "execution_count": null,
   "metadata": {
    "ExecuteTime": {
     "end_time": "2020-09-27T16:00:10.161414Z",
     "start_time": "2020-09-27T16:00:09.970047Z"
    },
    "slideshow": {
     "slide_type": "subslide"
    }
   },
   "outputs": [],
   "source": [
    "### Solid plot filled under curve\n",
    "plt.fill_between(x, y, y*0) "
   ]
  },
  {
   "cell_type": "markdown",
   "metadata": {
    "slideshow": {
     "slide_type": "slide"
    }
   },
   "source": [
    "### Layering geoms\n",
    "This often combined in a **layered** plot, showing the data with:\n",
    "* line geoms for the trend of the data\n",
    "* point geoms for notating the actual measurements\n",
    "* area geoms to represent measurement uncertainty "
   ]
  },
  {
   "cell_type": "code",
   "execution_count": null,
   "metadata": {
    "ExecuteTime": {
     "end_time": "2020-09-27T16:00:38.636590Z",
     "start_time": "2020-09-27T16:00:38.433443Z"
    },
    "slideshow": {
     "slide_type": "subslide"
    }
   },
   "outputs": [],
   "source": [
    "### Ribbon plot, with central line and markers\n",
    "gap = x**0.5\n",
    "plt.fill_between(x,y-gap, y+gap, alpha=0.5, label=\"Range\")\n",
    "plt.plot(x,y, label=\"Centre\")\n",
    "plt.scatter(x,y, c='C0')\n",
    "plt.legend()"
   ]
  },
  {
   "cell_type": "markdown",
   "metadata": {
    "slideshow": {
     "slide_type": "slide"
    }
   },
   "source": [
    "## Plotting data well\n",
    "\n",
    "Let's load some test data, which is a study of the effect of vitamin C supplements on the [growth of Guinea pig teeth](https://raw.githubusercontent.com/vincentarelbundock/Rdatasets/master/doc/datasets/ToothGrowth.html)\n",
    "\n",
    "The data measures the length of guinea pig teeth for various doses of Vitamin C, which are administered in two different forms (orange juice or vitamin capsule). \n",
    "\n",
    "<img src=\"imgs/guinea.jpg\" width=\"25%\">\n",
    "\n",
    "*Image credit: Mariposa Vet CC-BY-2.0  from https://www.flickr.com/photos/mariposavet/11078388266/*\n"
   ]
  },
  {
   "cell_type": "code",
   "execution_count": null,
   "metadata": {
    "ExecuteTime": {
     "end_time": "2020-09-27T16:01:40.721359Z",
     "start_time": "2020-09-27T16:01:40.714528Z"
    },
    "slideshow": {
     "slide_type": "subslide"
    }
   },
   "outputs": [],
   "source": [
    "# load the data\n",
    "# columns: index, length of tooth (mm), \n",
    "# supplement type (VC or OJ), dose (mg/day)\n",
    "guinea_pigs = np.loadtxt(\"data/guinea.csv\", delimiter=',') "
   ]
  },
  {
   "cell_type": "code",
   "execution_count": null,
   "metadata": {
    "ExecuteTime": {
     "end_time": "2020-09-27T16:02:03.900423Z",
     "start_time": "2020-09-27T16:02:03.895544Z"
    }
   },
   "outputs": [],
   "source": [
    "# print the table nicely\n",
    "# print first 10 rows\n",
    "print(guinea_pigs[:10])"
   ]
  },
  {
   "cell_type": "code",
   "execution_count": null,
   "metadata": {
    "ExecuteTime": {
     "end_time": "2020-09-27T16:02:12.257559Z",
     "start_time": "2020-09-27T16:02:12.253666Z"
    },
    "slideshow": {
     "slide_type": "subslide"
    }
   },
   "outputs": [],
   "source": [
    "# split the data into two sets: the vitamin set, \n",
    "# and the orange juice set\n",
    "vc_pigs = guinea_pigs[guinea_pigs[:,2]==0]\n",
    "oj_pigs = guinea_pigs[guinea_pigs[:,2]==1]"
   ]
  },
  {
   "cell_type": "markdown",
   "metadata": {
    "slideshow": {
     "slide_type": "slide"
    }
   },
   "source": [
    "### This is how not to make a plot\n",
    "Let's see an example of a really bad plot of this data:"
   ]
  },
  {
   "cell_type": "code",
   "execution_count": null,
   "metadata": {
    "ExecuteTime": {
     "end_time": "2020-09-27T16:02:15.623594Z",
     "start_time": "2020-09-27T16:02:15.514281Z"
    },
    "slideshow": {
     "slide_type": "subslide"
    }
   },
   "outputs": [],
   "source": [
    "# how not to make a plot\n",
    "# create a figure, add a subplot (just one subplot here)\n",
    "fig = plt.figure()\n",
    "ax = fig.add_subplot(1,1,1)\n",
    "\n",
    "# let's plot some data!\n",
    "ax.plot(vc_pigs[:,1], vc_pigs[:,3], c='k')\n",
    "ax.plot(oj_pigs[:,1], oj_pigs[:,3], c='k')\n",
    "ax.axis(\"off\")"
   ]
  },
  {
   "cell_type": "markdown",
   "metadata": {
    "slideshow": {
     "slide_type": "slide"
    }
   },
   "source": [
    "### Criticism"
   ]
  },
  {
   "cell_type": "markdown",
   "metadata": {
    "slideshow": {
     "slide_type": "subslide"
    }
   },
   "source": [
    "This has:\n",
    "\n",
    "* no **guides**\n",
    "    * no axes\n",
    "    * no ticks\n",
    "    * no labels \n",
    "    * no units\n",
    "    * no title\n",
    "    * no legend"
   ]
  },
  {
   "cell_type": "markdown",
   "metadata": {
    "slideshow": {
     "slide_type": "subslide"
    }
   },
   "source": [
    "* bad **coords**\n",
    "    * the dependent label on the x axis, and the independent on the y axis\n",
    "* bad **mappings**\n",
    "    * no distinct colours\n",
    "* bad **geoms**\n",
    "    * use of lines for data that is clearly not a continuous curve"
   ]
  },
  {
   "cell_type": "markdown",
   "metadata": {
    "slideshow": {
     "slide_type": "subslide"
    }
   },
   "source": [
    "It is a \"valid\" plot of the data, but totally unhelpful for the reader. There is no way a reader can make judgments (*should I give my guinea pig orange juice?*) from this graph.\n",
    "    "
   ]
  },
  {
   "cell_type": "markdown",
   "metadata": {
    "slideshow": {
     "slide_type": "slide"
    }
   },
   "source": [
    "### A slightly better plot"
   ]
  },
  {
   "cell_type": "code",
   "execution_count": null,
   "metadata": {
    "ExecuteTime": {
     "end_time": "2020-09-27T16:03:29.357561Z",
     "start_time": "2020-09-27T16:03:29.164172Z"
    },
    "slideshow": {
     "slide_type": "subslide"
    }
   },
   "outputs": [],
   "source": [
    "fig = plt.figure()\n",
    "ax = fig.add_subplot(1,1,1)\n",
    "ax.scatter(vc_pigs[:,3], vc_pigs[:,1])\n",
    "ax.scatter(oj_pigs[:,3], oj_pigs[:,1])"
   ]
  },
  {
   "cell_type": "markdown",
   "metadata": {
    "slideshow": {
     "slide_type": "subslide"
    }
   },
   "source": [
    "Now,\n",
    "* **guides**\n",
    "    * There are axes with visible numbering\n",
    "* **coords**\n",
    "    * the dependent axis is $y$ and the independent is $x$"
   ]
  },
  {
   "cell_type": "markdown",
   "metadata": {
    "slideshow": {
     "slide_type": "subslide"
    }
   },
   "source": [
    "* **geoms**\n",
    "    * a scatterplot is used instead of a line plot\n",
    "* **mapping**\n",
    "    * colours are distinct\n",
    "\n",
    "However, it is still useless for making judgments from the plot alone, as it lacks any form of **labelling** to indicate what the geometry represents."
   ]
  },
  {
   "cell_type": "markdown",
   "metadata": {
    "slideshow": {
     "slide_type": "slide"
    }
   },
   "source": [
    "### Better still: Labelling"
   ]
  },
  {
   "cell_type": "code",
   "execution_count": null,
   "metadata": {
    "ExecuteTime": {
     "end_time": "2020-09-27T16:03:58.657577Z",
     "start_time": "2020-09-27T16:03:58.456378Z"
    },
    "slideshow": {
     "slide_type": "subslide"
    }
   },
   "outputs": [],
   "source": [
    "fig = plt.figure()\n",
    "ax = fig.add_subplot(1,1,1)\n",
    "\n",
    "ax.scatter(vc_pigs[:,3], vc_pigs[:,1], label=\"VC supplement\")\n",
    "ax.scatter(oj_pigs[:,3], oj_pigs[:,1], label=\"OJ supplement\")\n",
    "ax.set_xlabel('Dose (mg/day)')\n",
    "ax.set_ylabel('Tooth length (mm)')\n",
    "ax.set_xticks([0.5, 1.0, 1.5, 2.0])\n",
    "\n",
    "ax.set_xlim(0,2.5)\n",
    "ax.grid(\"on\")\n",
    "ax.set_frame_on(False)\n",
    "ax.set_title(\"Effect of vitamin C supplements on guinea pig tooth growth\")\n",
    "ax.legend()\n"
   ]
  },
  {
   "cell_type": "markdown",
   "metadata": {
    "slideshow": {
     "slide_type": "subslide"
    }
   },
   "source": [
    "Now,\n",
    "* **guides**\n",
    "    * the plot has a **title**\n",
    "    * the axes are labelled, with description and units\n",
    "    * there is a **legend** indicating which colours match which condition\n",
    " "
   ]
  },
  {
   "cell_type": "markdown",
   "metadata": {
    "slideshow": {
     "slide_type": "subslide"
    }
   },
   "source": [
    "   * there is a **grid** for easier reading (this is more of an aesthetic choice than the other issues)\n",
    "   * the *x ticks* are in sensible places.\n",
    "   * the y axis extends from the origin"
   ]
  },
  {
   "cell_type": "markdown",
   "metadata": {
    "slideshow": {
     "slide_type": "slide"
    }
   },
   "source": [
    "### Break: watch this\n",
    "<video src=\"imgs/cleanup.webm\" controls loop width=\"80%\">"
   ]
  },
  {
   "cell_type": "markdown",
   "metadata": {
    "slideshow": {
     "slide_type": "slide"
    }
   },
   "source": [
    "### Units\n",
    "If an axes represents real world units (**dimensional quantities**), like  *millimeters, Joules, seconds, kg/month, hectares/gallon, rods/hogshead, nanometers/Coulomb/parsec* the units should *absolutely always* be specified in the axis labels. \n",
    "\n",
    "Use units that are of the appropriate scale. Don't use microseconds if all data points are in the month range. Don't use kilowatts if the data points are in nanowatts. There are exceptions to this if there is some standard unit that not using would be confusing. "
   ]
  },
  {
   "cell_type": "markdown",
   "metadata": {
    "slideshow": {
     "slide_type": "subslide"
    }
   },
   "source": [
    "Only if the quantities are truly **dimensionless** (**bare numbers**), like in the graph of the pulses at the start of the lecture, should there be axes without visible units. In these cases the axis should be clearly labeled (e.g. \"Relative growth\", \"Mach number\", etc.).\n",
    "\n",
    "Never use the index of an array as the $x$ axis unless it is the only reasonable choice. For example, if you have data measured in regular samples over time, give the units in real time elapsed (e.g. microseconds), not the sample number!"
   ]
  },
  {
   "cell_type": "markdown",
   "metadata": {
    "slideshow": {
     "slide_type": "subslide"
    }
   },
   "source": [
    "### Avoid rescaled units\n",
    "Although `matplotlib` and other libraries will autoscale the numbers on the axis to sensible values and then insert a `1eN` label at the top, you should avoid this. This can lead to serious confusion and is hard to read."
   ]
  },
  {
   "cell_type": "code",
   "execution_count": null,
   "metadata": {
    "ExecuteTime": {
     "end_time": "2020-09-27T16:07:11.845513Z",
     "start_time": "2020-09-27T16:07:11.636501Z"
    },
    "slideshow": {
     "slide_type": "subslide"
    }
   },
   "outputs": [],
   "source": [
    "fig = plt.figure()\n",
    "ax = fig.add_subplot(1,1,1)\n",
    "x = np.linspace(0,1,100)\n",
    "y = 1e8 + np.exp(x*20)\n",
    "\n",
    "\n",
    "ax.plot(x,y)\n",
    "ax.annotate(xy=(0.109,0.92), xycoords='figure fraction', s='Watch out!', \n",
    "            textcoords='offset points', xytext=(25,5), arrowprops={'width':1}, color='red')\n",
    "ax.set_xlabel(\"X\")\n",
    "ax.set_ylabel(\"Y\")"
   ]
  },
  {
   "cell_type": "markdown",
   "metadata": {},
   "source": [
    "If possible, rescale the units yourself and insert the scaling in the axis label."
   ]
  },
  {
   "cell_type": "code",
   "execution_count": null,
   "metadata": {
    "ExecuteTime": {
     "end_time": "2020-09-27T16:07:31.461643Z",
     "start_time": "2020-09-27T16:07:31.267747Z"
    },
    "slideshow": {
     "slide_type": "subslide"
    }
   },
   "outputs": [],
   "source": [
    "fig = plt.figure()\n",
    "ax = fig.add_subplot(1,1,1)\n",
    "\n",
    "\n",
    "ax.plot(x,y/1e9) # convert to billions\n",
    "ax.set_xlabel(\"X\")\n",
    "ax.set_ylabel(\"Y (billions)\")"
   ]
  },
  {
   "cell_type": "markdown",
   "metadata": {
    "slideshow": {
     "slide_type": "slide"
    }
   },
   "source": [
    "## Axes and coordinate transform\n",
    "An **axis** is used to refer to the visual representation of a dimension on a graph (e.g. \"the x axis\"), and the object which *transforms data from measurement units to visual units*. In other words, the axis specifies the scaling and offset of data: a coordinate system or **coord**. \n",
    "\n",
    "The mapping of data is determined by **axis limits** which specify the minimum and maximum measurement values to be displayed.\n",
    "\n",
    "For example, it may be better in the example above to show the range for dose and tooth length starting at zero:\n"
   ]
  },
  {
   "cell_type": "code",
   "execution_count": null,
   "metadata": {
    "ExecuteTime": {
     "end_time": "2020-09-27T16:08:35.676500Z",
     "start_time": "2020-09-27T16:08:35.444543Z"
    },
    "slideshow": {
     "slide_type": "subslide"
    }
   },
   "outputs": [],
   "source": [
    "fig = plt.figure()\n",
    "ax = fig.add_subplot(1,1,1)\n",
    "\n",
    "ax.scatter(vc_pigs[:,3], vc_pigs[:,1], label=\"VC supplement\")\n",
    "ax.scatter(oj_pigs[:,3], oj_pigs[:,1], label=\"OJ supplement\")\n",
    "ax.set_xlabel('Dose (mg/day)')\n",
    "ax.set_ylabel('Tooth length (mm)')\n",
    "ax.grid(\"on\")\n",
    "ax.set_title(\"Effect of vitamin C supplements on guinea pig tooth growth\")\n",
    "ax.legend()\n",
    "\n",
    "# set the axis limits for x and y\n",
    "ax.set_xlim(0, 2.5)\n",
    "ax.set_ylim(0, 40)"
   ]
  },
  {
   "cell_type": "markdown",
   "metadata": {
    "slideshow": {
     "slide_type": "slide"
    }
   },
   "source": [
    "### Don't deceive\n",
    "It is a very common \"trick\" to use axes that don't span the full scale to make differences look larger than they seem. This is often seen in political and advertising material. This should be avoided *unless* it makes the graph clearer and more precise.\n"
   ]
  },
  {
   "cell_type": "markdown",
   "metadata": {
    "slideshow": {
     "slide_type": "subslide"
    }
   },
   "source": [
    "### Layered versus faceted\n",
    "This is a **layered** plot. Two different view of the dataset (the \"OJ\" selection and the \"VC\" selection) are overlaid on the same coordinate system. We could alternatively plot this as a **faceted** visualisation, separating the OJ and VC views onto two separate coordinate systems *which have the same scaling (for easy comparision)*\n",
    ".\n",
    "\n",
    "This corresponds to creating multiple `subplots`, one for each coordinate system."
   ]
  },
  {
   "cell_type": "code",
   "execution_count": null,
   "metadata": {
    "ExecuteTime": {
     "end_time": "2020-09-27T16:09:04.583410Z",
     "start_time": "2020-09-27T16:09:04.249410Z"
    },
    "slideshow": {
     "slide_type": "subslide"
    }
   },
   "outputs": [],
   "source": [
    "fig = plt.figure(figsize=(8,4))\n",
    "ax = fig.add_subplot(1,2,1)\n",
    "ax.scatter(vc_pigs[:,3], vc_pigs[:,1], label=\"VC supplement\")\n",
    "ax.set_title(\"VC supplement\")\n",
    "ax.set_xlabel('Dose (mg/day)')\n",
    "ax.set_ylabel('Tooth length (mm)')\n",
    "ax.set_ylim(0,35) # note that the y axis is scaled exactly the same in both plots\n",
    "\n",
    "ax = fig.add_subplot(1,2,2)\n",
    "ax.scatter(oj_pigs[:,3], oj_pigs[:,1], c='C1')\n",
    "ax.set_title(\"OJ supplement\")\n",
    "ax.set_xlabel('Dose (mg/day)')\n",
    "ax.set_ylabel('Tooth length (mm)')\n",
    "ax.set_ylim(0,35)\n",
    "\n",
    "fig.suptitle(\"Effect of vitamin C supplements on guinea pig tooth growth\", y=1.05)\n",
    "fig.tight_layout()\n"
   ]
  },
  {
   "cell_type": "markdown",
   "metadata": {
    "slideshow": {
     "slide_type": "slide"
    }
   },
   "source": [
    "# One dataset, many views\n",
    "A visualisation must communicate meaning to a reader. A visualisation is not defined by a dataset -- some visualisation types are good for certain kinds of dataset and worse for others, but the visualisation choice comes down to what the purpose of the visualisation is. It's often helpful to think of the **caption** that you would want to be able to write before creating the visualisation."
   ]
  },
  {
   "cell_type": "markdown",
   "metadata": {
    "slideshow": {
     "slide_type": "subslide"
    }
   },
   "source": [
    "We'll look at a straightforward dataset, which consists of quarterly measurements of the gas used in the UK, recorded from 1960 to 1986. This is a simple relationship of the type $$y=f(x),$$ where $x$ is the year and $y$ is the gas used.\n",
    "\n",
    "The original units are megatherms. 1 megatherm is about 30,000,000 kWh."
   ]
  },
  {
   "cell_type": "code",
   "execution_count": null,
   "metadata": {
    "ExecuteTime": {
     "end_time": "2020-09-27T16:10:54.453392Z",
     "start_time": "2020-09-27T16:10:54.447536Z"
    },
    "slideshow": {
     "slide_type": "subslide"
    }
   },
   "outputs": [],
   "source": [
    "## test data: UK gas usage, quarterly\n",
    "# columns: index, year, gas (megatherms)\n",
    "gas = np.loadtxt(\"data/gas.csv\", delimiter=',')"
   ]
  },
  {
   "cell_type": "code",
   "execution_count": null,
   "metadata": {
    "ExecuteTime": {
     "end_time": "2020-09-27T16:10:55.715744Z",
     "start_time": "2020-09-27T16:10:55.711840Z"
    }
   },
   "outputs": [],
   "source": [
    "np.set_printoptions(suppress=True)\n",
    "print(gas[:10, :])"
   ]
  },
  {
   "cell_type": "markdown",
   "metadata": {
    "slideshow": {
     "slide_type": "slide"
    }
   },
   "source": [
    "## Straghtforward plot, line+marker"
   ]
  },
  {
   "cell_type": "code",
   "execution_count": null,
   "metadata": {
    "ExecuteTime": {
     "end_time": "2020-09-27T16:11:09.320203Z",
     "start_time": "2020-09-27T16:11:09.100424Z"
    }
   },
   "outputs": [],
   "source": [
    "fig = plt.figure()\n",
    "ax = fig.add_subplot(1, 1, 1)\n",
    "ax.plot(gas[:, 1], gas[:, 2], \"-o\")\n",
    "ax.set_ylabel(\"Gas consumed (megatherms)\")\n",
    "ax.grid(\"on\")\n",
    "ax.set_ylim(0, 1500)\n",
    "ax.set_title(\"UK Gas quarterly gas usage 1960-1986\")"
   ]
  },
  {
   "cell_type": "markdown",
   "metadata": {},
   "source": [
    "\n",
    "**Figure 1:** Gas usage in the UK, 1960-1986. Gas usage follows a strongly seasonal pattern, with an overall increase in gas usage. Variability across seasons has increased over time.\n",
    "   "
   ]
  },
  {
   "cell_type": "markdown",
   "metadata": {
    "slideshow": {
     "slide_type": "slide"
    }
   },
   "source": [
    "## Simplified plot"
   ]
  },
  {
   "cell_type": "code",
   "execution_count": null,
   "metadata": {
    "ExecuteTime": {
     "end_time": "2020-09-27T16:11:43.140029Z",
     "start_time": "2020-09-27T16:11:42.960300Z"
    }
   },
   "outputs": [],
   "source": [
    "# use the xkcd style\n",
    "with plt.xkcd():\n",
    "    fig = plt.figure()\n",
    "    ax = fig.add_subplot(1, 1, 1)\n",
    "\n",
    "    # don't worry how this works: but it computes a 12 element\n",
    "    # running mean of the data\n",
    "    N = 12\n",
    "    smoothed = np.convolve(gas[:, 2], np.ones((N,)) / N, mode=\"valid\")\n",
    "    smoothed_t = np.convolve(gas[:, 1], np.ones((N,)) / N, mode=\"valid\")\n",
    "    ax.plot(smoothed_t, smoothed, linewidth=5)\n",
    "\n",
    "    ax.set_ylabel(\"Gas consumed (megatherms)\")\n",
    "    ax.grid(\"on\")\n",
    "    ax.set_frame_on(False)\n",
    "    ax.set_xticks([1965, 1975, 1985])\n",
    "    ax.set_yticks([0, 250, 500, 750])\n",
    "    ax.set_ylim(0, 800)\n",
    "    ax.set_title(\"UK gas usage 1960-1986, 3 yr running mean\")"
   ]
  },
  {
   "cell_type": "markdown",
   "metadata": {},
   "source": [
    "**Figure 2:** Gas usage in the UK, 1960-1986. Gas usage has increased over time, with a notable increase in the trend after 1970."
   ]
  },
  {
   "cell_type": "markdown",
   "metadata": {
    "slideshow": {
     "slide_type": "slide"
    }
   },
   "source": [
    "## Layered plot, split by quarters"
   ]
  },
  {
   "cell_type": "code",
   "execution_count": null,
   "metadata": {
    "ExecuteTime": {
     "end_time": "2020-09-27T16:12:36.380444Z",
     "start_time": "2020-09-27T16:12:36.130919Z"
    }
   },
   "outputs": [],
   "source": [
    "fig = plt.figure()\n",
    "ax = fig.add_subplot(1,1,1)\n",
    "\n",
    "# split into quarterly lines (every fourth element)\n",
    "q1 = gas[::4, :]\n",
    "q2 = gas[1::4, :]\n",
    "q3 = gas[2::4, :]\n",
    "q4 = gas[3::4, :]\n",
    "\n",
    "ax.plot(q1[:,1], q1[:,2], label='Winter', marker='d')\n",
    "ax.plot(q1[:,1], q2[:,2], label='Spring', marker='o')\n",
    "ax.plot(q1[:,1], q3[:,2], label='Summer', marker='*')\n",
    "ax.plot(q1[:,1], q4[:,2], label='Autumn', marker='^')\n",
    "\n",
    "ax.set_xlabel('Date (years AD)')\n",
    "ax.set_ylabel('Gas consumed (megatherms)')\n",
    "ax.grid(\"on\")\n",
    "ax.legend()\n",
    "ax.set_ylim(0,1500)\n",
    "ax.set_title(\"UK Gas quarterly gas usage 1960-1986\")\n",
    "ax.legend()"
   ]
  },
  {
   "cell_type": "markdown",
   "metadata": {},
   "source": [
    "**Figure 3:** Gas usage in the UK, 1960-1986, split by quarters. There is marked difference in gas usage across seasons. Winter use  increased dramatically between 1970 and 1985, although summer use remained almost constant, although early signs of an uptick in summer gas use seem to be present."
   ]
  },
  {
   "cell_type": "markdown",
   "metadata": {
    "slideshow": {
     "slide_type": "subslide"
    }
   },
   "source": [
    "## Faceted plot"
   ]
  },
  {
   "cell_type": "code",
   "execution_count": null,
   "metadata": {
    "ExecuteTime": {
     "end_time": "2020-09-27T16:13:08.354653Z",
     "start_time": "2020-09-27T16:13:07.705686Z"
    }
   },
   "outputs": [],
   "source": [
    "fig = plt.figure(figsize=(10, 10))\n",
    "\n",
    "# iterate over quarters\n",
    "for ix, quarter, season in zip(\n",
    "    [1, 2, 3, 4], [q1, q2, q3, q4], [\"Winter\", \"Spring\", \"Summer\", \"Autumn\"]\n",
    "):\n",
    "    ax = fig.add_subplot(2, 2, ix)\n",
    "\n",
    "    ax.plot(quarter[:, 1], quarter[:, 2], marker=\".\")\n",
    "    ax.set_xlabel(\"Date\")\n",
    "    ax.set_ylabel(\"megatherms\")\n",
    "    ax.grid(\"on\")\n",
    "    ax.set_title(season)\n",
    "    ax.set_ylim(0, 1200)\n",
    "\n",
    "fig.tight_layout()  # fix overlapping plots!"
   ]
  },
  {
   "cell_type": "markdown",
   "metadata": {},
   "source": [
    "**Figure 4:** Gas usage in the UK, 1960-1986, split by quarters. There is marked difference in gas usage across seasons. Autumn use remained constant from 1960-1971, but rose very rapidly after 1971. Winter gas use increases super-linearly, while spring and summer use show more gradual increases. Summer 1971 appeared to have particularly high gas usage."
   ]
  },
  {
   "cell_type": "markdown",
   "metadata": {
    "slideshow": {
     "slide_type": "slide"
    }
   },
   "source": [
    "## Statistcally transformed plot, binned by season"
   ]
  },
  {
   "cell_type": "code",
   "execution_count": null,
   "metadata": {
    "ExecuteTime": {
     "end_time": "2020-09-27T16:13:48.145743Z",
     "start_time": "2020-09-27T16:13:47.912338Z"
    }
   },
   "outputs": [],
   "source": [
    "fig = plt.figure()\n",
    "ax = fig.add_subplot(1, 1, 1)\n",
    "\n",
    "ax.boxplot(\n",
    "    [q1[:, 2], q2[:, 2], q3[:, 2], q4[:, 2]],\n",
    "    labels=[\"Winter\", \"Spring\", \"Summer\", \"Autumn\"],\n",
    "    notch=True,\n",
    "    bootstrap=1000,\n",
    ")\n",
    "\n",
    "ax.set_xlabel(\"Quarter\")\n",
    "ax.set_ylabel(\"Gas consumed (megatherms)\")\n",
    "ax.set_ylim(0, 1500)\n",
    "ax.set_title(\"UK Gas quarterly gas usage 1960-1986\")"
   ]
  },
  {
   "cell_type": "markdown",
   "metadata": {},
   "source": [
    "**Figure 5:** Gas usage in the UK, 1960-1986, split by quarters. Winter gas use is higher than other seasons, but also has significantly higher variability. Summer gas use varies little over the years."
   ]
  },
  {
   "cell_type": "markdown",
   "metadata": {
    "slideshow": {
     "slide_type": "slide"
    }
   },
   "source": [
    "## Ribbon plot, showing mean and range"
   ]
  },
  {
   "cell_type": "code",
   "execution_count": null,
   "metadata": {
    "ExecuteTime": {
     "end_time": "2020-09-27T16:14:26.558407Z",
     "start_time": "2020-09-27T16:14:26.323516Z"
    }
   },
   "outputs": [],
   "source": [
    "fig = plt.figure()\n",
    "ax = fig.add_subplot(1, 1, 1)\n",
    "\n",
    "all_seasons = np.vstack([q1[:, 2], q2[:, 2], q3[:, 2], q4[:, 2]])\n",
    "\n",
    "mean = np.mean(all_seasons, axis=0)\n",
    "qmax = np.max(all_seasons, axis=0)\n",
    "qmin = np.min(all_seasons, axis=0)\n",
    "ax.plot(q1[:, 1], mean, label=\"Mean\")\n",
    "ax.fill_between(q1[:, 1], qmin, qmax, alpha=0.25, label=\"Range\")\n",
    "\n",
    "\n",
    "ax.set_xlabel(\"Year\")\n",
    "ax.set_ylabel(\"Gas consumed (megatherms)\")\n",
    "ax.legend()\n",
    "ax.set_ylim(0, 1500)\n",
    "ax.set_title(\"UK Gas quarterly gas usage 1960-1986\")\n",
    "ax.legend()"
   ]
  },
  {
   "cell_type": "markdown",
   "metadata": {},
   "source": [
    "**Figure 6:** Gas usage in the UK, 1960-1986, split by quarters. Gas use shows an increasing trend, though leveling off in the 1980s. The variation between winter and summer use has increased dramatically during the 1970s and 1980s."
   ]
  },
  {
   "cell_type": "code",
   "execution_count": null,
   "metadata": {
    "ExecuteTime": {
     "end_time": "2020-09-27T16:14:44.888086Z",
     "start_time": "2020-09-27T16:14:44.676660Z"
    },
    "slideshow": {
     "slide_type": "subslide"
    }
   },
   "outputs": [],
   "source": [
    "fig = plt.figure()\n",
    "ax = fig.add_subplot(1, 1, 1)\n",
    "\n",
    "all_seasons = np.vstack([q1[:, 2], q2[:, 2], q3[:, 2], q4[:, 2]])\n",
    "\n",
    "mean = np.median(all_seasons, axis=0)\n",
    "qmax = np.max(all_seasons, axis=0)\n",
    "qmin = np.min(all_seasons, axis=0)\n",
    "\n",
    "ax.scatter(mean, mean / qmin, label=\"Minimum usage\")\n",
    "ax.scatter(mean, mean / qmax, label=\"Maximum usage\")\n",
    "\n",
    "\n",
    "ax.set_xlabel(\"Median consumption\")\n",
    "ax.set_ylabel(\"Range of consumption\")\n",
    "ax.legend()\n",
    "ax.set_title(\"UK Gas quarterly gas usage 1960-1986, min/max usage versus median usage\")"
   ]
  },
  {
   "cell_type": "markdown",
   "metadata": {},
   "source": [
    "**Figure 7:** Gas usage in the UK, 1960-1986. Plot shows the median consumption in each year versus the minimum and maximum seasonal use.  Gas consumption is virtually always in the range 0.75 to 2.5 times the mean usage, but the maximum use has increased as the median use has crept up. In years with the highest median consumption, however, the maximum consumption is only around 1.8 times the median use.\n"
   ]
  },
  {
   "cell_type": "code",
   "execution_count": null,
   "metadata": {
    "ExecuteTime": {
     "end_time": "2020-09-27T16:15:42.506540Z",
     "start_time": "2020-09-27T16:15:42.301393Z"
    },
    "slideshow": {
     "slide_type": "slide"
    }
   },
   "outputs": [],
   "source": [
    "fig = plt.figure()\n",
    "ax = fig.add_subplot(1, 1, 1)\n",
    "# 1 therm of natural gas = 5.397 kg of CO2\n",
    "# 1 megatherm = 5397 tonnes of CO2\n",
    "co2 = 5.397 * gas[:, 2]\n",
    "ax.plot(gas[:, 1], np.cumsum(co2))\n",
    "ax.set_xlabel(\"Year\")\n",
    "ax.set_ylabel(\"Total usage (000's tonnes of CO2)\")\n",
    "ax.set_title(\"UK Gas cumulative CO2 produced from gas since 1960\")"
   ]
  },
  {
   "cell_type": "markdown",
   "metadata": {},
   "source": [
    "**Figure 8:** Gas usage in the UK, 1960-1986. Megatherms of gas are shown converted to metric tonnes of CO2 emitted, accumulated over the period 1960 to 1985. Cumulative CO2 emissions appear to be increasing almost quadratically, and more than 200,000,000 tonnes of CO2 were emitted by the UK through natural gas burning by 1986."
   ]
  },
  {
   "cell_type": "markdown",
   "metadata": {},
   "source": [
    "---"
   ]
  },
  {
   "cell_type": "markdown",
   "metadata": {
    "slideshow": {
     "slide_type": "slide"
    }
   },
   "source": [
    "# Stats\n",
    "\n",
    "A **stat** is a statistic of a **Dataset** (i.e. a function of the data). Statistics *summarise* data in some way. Common examples of stats are:\n",
    "\n",
    "* **aggregate summary statistics**, like measures of central tendency (mean, median) and deviation (standard deviation, max/min, interquartile range)"
   ]
  },
  {
   "cell_type": "markdown",
   "metadata": {
    "slideshow": {
     "slide_type": "subslide"
    }
   },
   "source": [
    "* **binning operations**, which categorise data into a number of discrete **bins** and count the data points falling into those bins\n",
    "* **smoothing and regression**, which find approximating functions to datasets, like linear regression which fits a line through data"
   ]
  },
  {
   "cell_type": "markdown",
   "metadata": {
    "slideshow": {
     "slide_type": "subslide"
    }
   },
   "source": [
    "Plots of a single 1D array of numbers $[x_1, x_2, \\dots, x_n]$ usually involve displaying *statistics* (**stats**)  to transform the dataset into forms that 2D plotting forms can be applied to. Very often these plot types are used with multiple arrays (data that has been grouped in some way) to show differences between the groups."
   ]
  },
  {
   "cell_type": "markdown",
   "metadata": {
    "slideshow": {
     "slide_type": "slide"
    }
   },
   "source": [
    "## Binning operations\n",
    "A **binning** operation divides data into a number of discrete groups, or **bins**. This can help summarise data, particularly for continuous data where every observation will be different if measured precisely enough (for example, a very precise thermometer will *always* show a different temperature to the same time yesterday)."
   ]
  },
  {
   "cell_type": "markdown",
   "metadata": {
    "slideshow": {
     "slide_type": "slide"
    }
   },
   "source": [
    "### Histograms: showing distributions\n",
    "A **histogram** is the combination of a **binning operation** (a kind of **stat**) with a standard 2D bar chart (the bars being the **geoms**). It  shows the count of values which fall into a certain range. It is useful when we want to visualise the *distribution* of values.\n",
    "\n",
    "A histogram does not have spaces between bars, as the bin regions represent contiguous divisions of the input space."
   ]
  },
  {
   "cell_type": "code",
   "execution_count": null,
   "metadata": {
    "ExecuteTime": {
     "end_time": "2020-09-27T16:17:58.222499Z",
     "start_time": "2020-09-27T16:17:58.010605Z"
    },
    "slideshow": {
     "slide_type": "subslide"
    }
   },
   "outputs": [],
   "source": [
    "\n",
    "x = gas[:,2]\n",
    "fig = plt.figure()\n",
    "ax = fig.add_subplot(1,1,1)\n",
    "bins = np.linspace(0,1200,20)\n",
    "ax.hist(x, bins=np.linspace(0,1200,20));\n",
    "ax.set_xlabel(\"Megatherms\")\n",
    "ax.set_ylabel(\"Count of quarters\")"
   ]
  },
  {
   "cell_type": "code",
   "execution_count": null,
   "metadata": {
    "ExecuteTime": {
     "end_time": "2020-09-27T16:18:37.912015Z",
     "start_time": "2020-09-27T16:18:37.697625Z"
    },
    "slideshow": {
     "slide_type": "subslide"
    }
   },
   "outputs": [],
   "source": [
    "# show what is going on in a histogram\n",
    "# each point is \"binned\" into one of a number of regions and then the count\n",
    "# is plotted on the y-axis\n",
    "fig = plt.figure()\n",
    "ax = fig.add_subplot(1,1,1)\n",
    "\n",
    "xs = np.digitize(x, bins)\n",
    "count = np.bincount(xs)\n",
    "\n",
    "plt.scatter(bins[np.clip(xs,0,len(bins)-1)],np.random.uniform(0,count[np.clip(xs,0,len(bins)-1)],x.shape), \n",
    "            s=45, marker='_')\n",
    "ax.set_xlabel(\"Megatherms\")\n",
    "ax.set_ylabel(\"Count\")"
   ]
  },
  {
   "cell_type": "markdown",
   "metadata": {
    "slideshow": {
     "slide_type": "subslide"
    }
   },
   "source": [
    "The results of a histogram depend heavily on the bins chosen. Too many bins means that the result is sparse and \"gappy\" -- the overall trend is obscured. Too few bins means the result is overly smoothed and details are lost. \n",
    "\n"
   ]
  },
  {
   "cell_type": "code",
   "execution_count": null,
   "metadata": {
    "ExecuteTime": {
     "end_time": "2020-09-27T16:19:15.456373Z",
     "start_time": "2020-09-27T16:19:13.038226Z"
    }
   },
   "outputs": [],
   "source": [
    "fig = plt.figure()\n",
    "ax = fig.add_subplot(1,1,1)\n",
    "ax.hist(x, bins = np.linspace(0,1200,2000));\n",
    "ax.set_xlabel(\"Megatherms\")\n",
    "ax.set_ylabel(\"Count\")\n",
    "ax.set_title(\"Too many bins\")"
   ]
  },
  {
   "cell_type": "code",
   "execution_count": null,
   "metadata": {
    "ExecuteTime": {
     "end_time": "2020-09-27T16:19:36.760461Z",
     "start_time": "2020-09-27T16:19:36.559231Z"
    },
    "slideshow": {
     "slide_type": "subslide"
    }
   },
   "outputs": [],
   "source": [
    "fig = plt.figure()\n",
    "ax = fig.add_subplot(1,1,1)\n",
    "ax.hist(x, bins = np.linspace(0,1200,4));\n",
    "ax.set_xlabel(\"Megatherms\")\n",
    "ax.set_ylabel(\"Count\")\n",
    "ax.set_title(\"Too few bins\")"
   ]
  },
  {
   "cell_type": "markdown",
   "metadata": {
    "slideshow": {
     "slide_type": "subslide"
    }
   },
   "source": [
    "If the bins are placed in the wrong area, then they will not capture any meaningful portion of the data."
   ]
  },
  {
   "cell_type": "code",
   "execution_count": null,
   "metadata": {
    "ExecuteTime": {
     "end_time": "2020-09-27T16:19:50.636525Z",
     "start_time": "2020-09-27T16:19:50.381167Z"
    }
   },
   "outputs": [],
   "source": [
    "fig = plt.figure()\n",
    "ax = fig.add_subplot(1,1,1)\n",
    "ax.hist(x, bins = np.linspace(-500,300,30));\n",
    "ax.set_xlabel(\"Megatherms\")\n",
    "ax.set_ylabel(\"Count\")\n",
    "ax.set_title(\"Badly placed bins\")"
   ]
  },
  {
   "cell_type": "markdown",
   "metadata": {
    "slideshow": {
     "slide_type": "subslide"
    }
   },
   "source": [
    "Binning can work in any dimension. We'll see in future lectures why this gets less useful as dimension increases, however."
   ]
  },
  {
   "cell_type": "code",
   "execution_count": null,
   "metadata": {
    "ExecuteTime": {
     "end_time": "2020-09-27T16:20:34.214672Z",
     "start_time": "2020-09-27T16:20:33.907702Z"
    }
   },
   "outputs": [],
   "source": [
    "fig = plt.figure()\n",
    "x = np.random.normal(0,1, (500,))\n",
    "y = x**2 + np.random.normal(0,0.5, (500,))\n",
    "ax = fig.add_subplot(1,1,1)\n",
    "_,_,_,img = ax.hist2d(x,y, bins=(20,20))\n",
    "\n",
    "ax.set_title(\"2D Histogram\")\n",
    "fig.colorbar(img)"
   ]
  },
  {
   "cell_type": "code",
   "execution_count": null,
   "metadata": {
    "ExecuteTime": {
     "end_time": "2020-09-27T16:21:07.043265Z",
     "start_time": "2020-09-27T16:21:06.547646Z"
    },
    "jupyter": {
     "outputs_hidden": true,
     "source_hidden": true
    },
    "slideshow": {
     "slide_type": "subslide"
    }
   },
   "outputs": [],
   "source": [
    "c = np.linspace(-2, 2, 500)\n",
    "cr, ci = np.meshgrid(c, c)\n",
    "\n",
    "c = cr + ci * 1j\n",
    "z = c * 0\n",
    "m = cr * 0\n",
    "\n",
    "for i in range(32):\n",
    "    z = z ** 2 + c\n",
    "    m = np.where(np.abs(z) < 2, m + 1, m)\n",
    "    \n",
    "plt.imshow(m)"
   ]
  },
  {
   "cell_type": "markdown",
   "metadata": {
    "slideshow": {
     "slide_type": "slide"
    }
   },
   "source": [
    "## Ranking operations\n",
    "### Sorted bar chart\n",
    "An alternative view of a 1D vector is a sorted chart or **rank plot**, which is a plot of a value against its rank within the array. The value-to-rank operation is the **stat** which is applied. "
   ]
  },
  {
   "cell_type": "code",
   "execution_count": null,
   "metadata": {
    "ExecuteTime": {
     "end_time": "2020-09-27T16:21:36.829726Z",
     "start_time": "2020-09-27T16:21:36.531401Z"
    },
    "slideshow": {
     "slide_type": "subslide"
    }
   },
   "outputs": [],
   "source": [
    "x = gas[:, 2]\n",
    "fig = plt.figure()\n",
    "ax = fig.add_subplot(1, 1, 1)\n",
    "ax.bar(np.arange(len(x)), np.sort(x))\n",
    "ax.set_xlabel(\"Rank\")\n",
    "ax.set_ylabel(\"Usage (megatherms)\")\n",
    "ax.set_title(\"Rank plot (bars)\")"
   ]
  },
  {
   "cell_type": "code",
   "execution_count": null,
   "metadata": {
    "ExecuteTime": {
     "end_time": "2020-09-27T16:21:53.494655Z",
     "start_time": "2020-09-27T16:21:53.297936Z"
    },
    "slideshow": {
     "slide_type": "subslide"
    }
   },
   "outputs": [],
   "source": [
    "fig = plt.figure()\n",
    "ax = fig.add_subplot(1, 1, 1)\n",
    "ax.plot(np.arange(len(x)), np.sort(x), \"o\")\n",
    "ax.set_xlabel(\"Rank\")\n",
    "ax.set_ylabel(\"Usage (megatherms)\")\n",
    "ax.set_title(\"Rank plot (points)\")"
   ]
  },
  {
   "cell_type": "markdown",
   "metadata": {
    "slideshow": {
     "slide_type": "slide"
    }
   },
   "source": [
    "## Aggregate summaries\n",
    "Any standard summary statistic can be used in a plotting operation. A particularly common statistical transform is to represent ranges of data using either the minimum/maximum, the standard deviation, or the interquartile range. These are often ranges of **groupings** of data (e.g. conditions of an experiment).\n",
    "\n",
    "The plots below show the gas data, summarised over quarters using three different **stats**:\n",
    "* mean and standard deviation\n",
    "* minimum, maximum and arithmetic mean of the minimum and maximum\n",
    "* median and interquartile range"
   ]
  },
  {
   "cell_type": "code",
   "execution_count": null,
   "metadata": {
    "ExecuteTime": {
     "end_time": "2020-09-27T16:22:30.410907Z",
     "start_time": "2020-09-27T16:22:29.986644Z"
    },
    "slideshow": {
     "slide_type": "subslide"
    }
   },
   "outputs": [],
   "source": [
    "quarters = np.stack([q1,q2,q3,q4])\n",
    "\n",
    "\n",
    "mean_gas = np.mean(quarters[:,:,2], axis=0)\n",
    "std_gas = np.std(quarters[:,:,2], axis=0)\n",
    "                 \n",
    "max_gas = np.max(quarters[:,:,2], axis=0)\n",
    "min_gas = np.min(quarters[:,:,2], axis=0)\n",
    "                 \n",
    "median_gas = np.median(quarters[:,:,2], axis=0)    \n",
    "iq1 = np.percentile(quarters[:,:,2], 25, axis=0)\n",
    "iq2 = np.percentile(quarters[:,:,2], 75, axis=0)\n",
    "\n",
    "\n",
    "fig = plt.figure(figsize=(9,6))\n",
    "ax = fig.add_subplot(3,1,1)\n",
    "ax.set_title(\"Mean and std. dev\")\n",
    "ax.set_ylabel(\"Gas usage (megatherms)\")\n",
    "ax.plot(quarters[0,:,1], mean_gas)\n",
    "ax.fill_between(quarters[0,:,1], mean_gas+std_gas, mean_gas-std_gas, alpha=0.2)\n",
    "\n",
    "\n",
    "\n",
    "ax = fig.add_subplot(3,1,2)\n",
    "ax.set_title(\"Min, max and centre of range\")\n",
    "ax.set_ylabel(\"Gas usage (megatherms)\")\n",
    "\n",
    "ax.plot(quarters[0,:,1], (max_gas+min_gas)/2)\n",
    "ax.fill_between(quarters[0,:,1], max_gas, min_gas, alpha=0.2)\n",
    "\n",
    "\n",
    "ax = fig.add_subplot(3,1,3)\n",
    "ax.set_ylabel(\"Gas usage (megatherms)\")\n",
    "ax.plot(quarters[0,:,1], median_gas)\n",
    "ax.set_title(\"Median and inter-quartile range\")\n",
    "ax.fill_between(quarters[0,:,1], iq1, iq2, alpha=0.2)\n",
    "\n",
    "plt.tight_layout() # fix overlapping plot titles\n",
    "\n",
    "\n"
   ]
  },
  {
   "cell_type": "markdown",
   "metadata": {
    "slideshow": {
     "slide_type": "slide"
    }
   },
   "source": [
    "### Box plot\n",
    "A **Box plot** (this is actually named after George Box of Box-Cox fame, not because it looks like a box!) is a visual summary of an array of values. It computes multiple **stats** of a dataset, and shows them in a single **geom** which has multiple components.\n",
    "It is an extremely useful plot for comparing the *distribution* of values."
   ]
  },
  {
   "cell_type": "markdown",
   "metadata": {
    "slideshow": {
     "slide_type": "subslide"
    }
   },
   "source": [
    "The value shown are usually:\n",
    "* the **interquartile range** (the range between the 75% and 25% percentiles of the dataset), shown as a box\n",
    "* the **median** value, shown as a horizontal line, sometimes with a \"notch\" in the box at this point."
   ]
  },
  {
   "cell_type": "markdown",
   "metadata": {
    "slideshow": {
     "slide_type": "subslide"
    }
   },
   "source": [
    "* the **extrema**, which can vary between plots, but often represent the 2.5% and 98.5% percentiles (i.e. span 95% of the range). They are drawn as *whiskers*, lines with a short crossbar at the end.\n",
    "* **outliers**, which are all dataset points outside of the extrema, usually marked with crosses or circles."
   ]
  },
  {
   "cell_type": "code",
   "execution_count": null,
   "metadata": {
    "ExecuteTime": {
     "end_time": "2020-09-27T16:24:20.153274Z",
     "start_time": "2020-09-27T16:24:19.830685Z"
    },
    "slideshow": {
     "slide_type": "subslide"
    }
   },
   "outputs": [],
   "source": [
    "x = np.random.normal(0,1,200)\n",
    "fig = plt.figure()\n",
    "ax = fig.add_subplot(1,1,1)\n",
    "ax.boxplot(x, whis=[2.5, 98.5])\n",
    "percentiles = np.percentile(x, [2.5, 25, 50, 75, 98.5])\n",
    "min_x, max_x = np.min(x), np.max(x)\n",
    "\n",
    "def annotate(y, s, left=False):\n",
    "    offset = 80 if left else -130\n",
    "    touch = 1.08 if left else 1.0\n",
    "    ax.annotate(xy=(touch, y), s=s, xytext=(offset,0), va='center', textcoords='offset points',\n",
    "           arrowprops = dict(arrowstyle='->', color='C2', alpha=0.5))\n",
    "    \n",
    "annotate(min_x, 'Minimum')\n",
    "annotate(max_x, 'Maximum')\n",
    "annotate(percentiles[2], 'Median', True)\n",
    "annotate(percentiles[0], 'Lower whisker', True)\n",
    "annotate(percentiles[1], '25% percentile', True)\n",
    "annotate(percentiles[3], '75% percentile', True)\n",
    "annotate(percentiles[4], 'Upper whisker', True)\n",
    "ax.set_xlabel(\"Condition\")\n",
    "ax.set_ylabel(\"Value\")\n",
    "ax.set_title(\"Box plot\")"
   ]
  },
  {
   "cell_type": "markdown",
   "metadata": {
    "slideshow": {
     "slide_type": "subslide"
    }
   },
   "source": [
    "The typical use case is to compare multiple vectors; for example two different conditions of an experiment:"
   ]
  },
  {
   "cell_type": "code",
   "execution_count": null,
   "metadata": {
    "ExecuteTime": {
     "end_time": "2020-09-27T16:24:57.687018Z",
     "start_time": "2020-09-27T16:24:57.478514Z"
    }
   },
   "outputs": [],
   "source": [
    "x,y,z = np.random.normal(0,1,200), np.random.normal(-1, 0.25, 200),  np.random.normal(2, 1.25, 200)\n",
    "fig = plt.figure()\n",
    "ax = fig.add_subplot(1,1,1)\n",
    "ax.boxplot([x,y,z], notch=False, bootstrap=1000)\n",
    "ax.set_xlabel(\"Condition\")\n",
    "ax.set_ylabel(\"Value\")\n",
    "ax.set_title(\"Box plot comparison\")"
   ]
  },
  {
   "cell_type": "markdown",
   "metadata": {
    "slideshow": {
     "slide_type": "subslide"
    }
   },
   "source": [
    "The notches give an estimate of how representative the median is of the expected population median."
   ]
  },
  {
   "cell_type": "markdown",
   "metadata": {
    "slideshow": {
     "slide_type": "slide"
    }
   },
   "source": [
    "### Violin plot\n",
    "The **violin plot** extends the Box plot to show the distribution of data more precisely. Rather than just a simple box, the full distribution of data is plotted, using a smoothing technique called a **kernel density estimate**.\n"
   ]
  },
  {
   "cell_type": "code",
   "execution_count": null,
   "metadata": {
    "ExecuteTime": {
     "end_time": "2020-09-27T16:25:56.976318Z",
     "start_time": "2020-09-27T16:25:56.972415Z"
    }
   },
   "outputs": [],
   "source": [
    "import seaborn as sns"
   ]
  },
  {
   "cell_type": "code",
   "execution_count": null,
   "metadata": {
    "ExecuteTime": {
     "end_time": "2020-09-27T16:25:58.429993Z",
     "start_time": "2020-09-27T16:25:58.181986Z"
    }
   },
   "outputs": [],
   "source": [
    "x, y, z, q, = (\n",
    "    2*np.tanh(np.random.normal(0, 5, 500))+5,\n",
    "    np.random.normal(-1, 2.25, 500),\n",
    "    np.random.normal(1, 1.25, 500)**2,\n",
    "    (np.random.laplace(-1, 2.25, 500))\n",
    "    ,\n",
    ")\n",
    "fig = plt.figure()\n",
    "ax = fig.add_subplot(1, 1, 1)\n",
    "ax.violinplot([x, y, z, q])\n",
    "ax.boxplot([x, y, z, q])\n",
    "ax.set_xlabel(\"Condition\")\n",
    "ax.set_ylabel(\"Value\")\n",
    "ax.set_title(\"Violin plot comparison\")"
   ]
  },
  {
   "cell_type": "markdown",
   "metadata": {
    "slideshow": {
     "slide_type": "slide"
    }
   },
   "source": [
    "## Regression and smoothing\n",
    "Regression involves finding an **approximating** function to some data; usually one which is *simpler* in some regard. The most \n",
    "familiar is **linear regression** -- fitting a line to data. \n",
    "\n",
    "$$ f(x) = mx + c,\\   f(x) \\approx y $$\n",
    "\n",
    "We will not go into how such fits are computed here, but they are an important class of **stats** for proposing hypotheses which might *explain* data.\n"
   ]
  },
  {
   "cell_type": "code",
   "execution_count": null,
   "metadata": {
    "ExecuteTime": {
     "end_time": "2020-09-27T16:27:38.398568Z",
     "start_time": "2020-09-27T16:27:38.170039Z"
    },
    "slideshow": {
     "slide_type": "subslide"
    }
   },
   "outputs": [],
   "source": [
    "fig = plt.figure()\n",
    "ax = fig.add_subplot(1,1,1)\n",
    "\n",
    "import scipy.stats\n",
    "slope, intercept, r, p, sem = scipy.stats.linregress(gas[:,1], gas[:,2])\n",
    "\n",
    "ax.scatter(gas[:,1], gas[:,2], label=\"Measurements\")\n",
    "ax.plot(gas[:,1], slope*gas[:,1]+intercept, label=\"Linear regression\", color='C1', lw=3)\n",
    "ax.legend()\n",
    "ax.set_xlabel('Year')\n",
    "ax.set_ylabel(\"Gas (megatherms)\")\n",
    "ax.set_title(\"UK Gas usage 1960\")"
   ]
  },
  {
   "cell_type": "markdown",
   "metadata": {
    "slideshow": {
     "slide_type": "slide"
    }
   },
   "source": [
    "### Smoothing\n",
    "Likewise, the moving average smoother we saw in the earlier gas example finds a \"simplified\" version of the data by removing fast changes in the values. There are many ways of smoothing data, all of which imply some assumption about how the data should behave. A good smoothing of data reveals the attributes of interest to the reader and obscures irrelevant details."
   ]
  },
  {
   "cell_type": "code",
   "execution_count": null,
   "metadata": {
    "ExecuteTime": {
     "end_time": "2020-09-27T16:28:23.492244Z",
     "start_time": "2020-09-27T16:28:23.270622Z"
    },
    "slideshow": {
     "slide_type": "subslide"
    }
   },
   "outputs": [],
   "source": [
    "# use the xkcd style\n",
    "\n",
    "fig = plt.figure()\n",
    "ax = fig.add_subplot(1, 1, 1)\n",
    "\n",
    "# don't worry how this works: but it computes a 12 element\n",
    "# running mean of the data\n",
    "N = 12\n",
    "smoothed = np.convolve(gas[:, 2], np.ones((N,)) / N, mode=\"valid\")\n",
    "smoothed_t = np.convolve(gas[:, 1], np.ones((N,)) / N, mode=\"valid\")\n",
    "ax.plot(smoothed_t, smoothed, linewidth=5, label=\"3 yr moving avg.\", c='C1')\n",
    "ax.scatter(gas[:, 1], gas[:, 2], label=\"Measurements\")\n",
    "ax.legend()\n",
    "ax.set_ylabel(\"Gas consumed (megatherms)\")\n",
    "ax.set_title(\"UK gas usage 1960-1986, 3 yr running mean\")"
   ]
  }
 ],
 "metadata": {
  "celltoolbar": "Slideshow",
  "kernelspec": {
   "display_name": "Python 3 (ipykernel)",
   "language": "python",
   "name": "python3"
  },
  "language_info": {
   "codemirror_mode": {
    "name": "ipython",
    "version": 3
   },
   "file_extension": ".py",
   "mimetype": "text/x-python",
   "name": "python",
   "nbconvert_exporter": "python",
   "pygments_lexer": "ipython3",
   "version": "3.9.7"
  },
  "toc": {
   "base_numbering": 1,
   "nav_menu": {},
   "number_sections": true,
   "sideBar": true,
   "skip_h1_title": false,
   "title_cell": "Table of Contents",
   "title_sidebar": "Contents",
   "toc_cell": false,
   "toc_position": {},
   "toc_section_display": "block",
   "toc_window_display": false
  },
  "varInspector": {
   "cols": {
    "lenName": 16,
    "lenType": 16,
    "lenVar": 40
   },
   "kernels_config": {
    "python": {
     "delete_cmd_postfix": "",
     "delete_cmd_prefix": "del ",
     "library": "var_list.py",
     "varRefreshCmd": "print(var_dic_list())"
    },
    "r": {
     "delete_cmd_postfix": ") ",
     "delete_cmd_prefix": "rm(",
     "library": "var_list.r",
     "varRefreshCmd": "cat(var_dic_list()) "
    }
   },
   "types_to_exclude": [
    "module",
    "function",
    "builtin_function_or_method",
    "instance",
    "_Feature"
   ],
   "window_display": false
  }
 },
 "nbformat": 4,
 "nbformat_minor": 4
}
